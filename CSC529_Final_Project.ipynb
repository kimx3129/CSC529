{
 "cells": [
  {
   "cell_type": "code",
   "execution_count": 1,
   "metadata": {
    "collapsed": false
   },
   "outputs": [],
   "source": [
    "import numpy as np\n",
    "import pandas as pd\n",
    "import matplotlib.pyplot as plt\n",
    "import seaborn as sns\n",
    "import random\n",
    "import itable\n",
    "import pylab as pl\n",
    "import warnings\n",
    "warnings.filterwarnings(\"ignore\")\n",
    "\n",
    "from sklearn import metrics, naive_bayes, cross_validation\n",
    "from sklearn.ensemble import RandomForestClassifier\n",
    "from sklearn import tree\n",
    "from prettytable import PrettyTable\n",
    "from sklearn.cross_validation import train_test_split\n",
    "from pandas.tools.plotting import boxplot_frame_groupby\n",
    "from sklearn.metrics import confusion_matrix\n",
    "%matplotlib inline"
   ]
  },
  {
   "cell_type": "code",
   "execution_count": 87,
   "metadata": {
    "collapsed": false
   },
   "outputs": [
    {
     "data": {
      "text/plain": [
       "(12811, 15)"
      ]
     },
     "execution_count": 87,
     "metadata": {},
     "output_type": "execute_result"
    }
   ],
   "source": [
    "dat = pd.read_csv(\"EEG data.csv\")\n",
    "dat2 = pd.read_csv(\"demographic info.csv\")\n",
    "dat.shape # There are 12811 observations"
   ]
  },
  {
   "cell_type": "code",
   "execution_count": 88,
   "metadata": {
    "collapsed": false
   },
   "outputs": [
    {
     "data": {
      "text/html": [
       "<div>\n",
       "<table border=\"1\" class=\"dataframe\">\n",
       "  <thead>\n",
       "    <tr style=\"text-align: right;\">\n",
       "      <th></th>\n",
       "      <th>subject ID</th>\n",
       "      <th>Video ID</th>\n",
       "      <th>Attention</th>\n",
       "      <th>Meditation</th>\n",
       "      <th>Raw</th>\n",
       "      <th>Delta</th>\n",
       "      <th>Theta</th>\n",
       "      <th>Alpha 1</th>\n",
       "      <th>Alpha 2</th>\n",
       "      <th>Beta 1</th>\n",
       "      <th>Beta 2</th>\n",
       "      <th>Gamma1</th>\n",
       "      <th>Gamma2</th>\n",
       "      <th>predefined label</th>\n",
       "      <th>Self-defined label</th>\n",
       "    </tr>\n",
       "  </thead>\n",
       "  <tbody>\n",
       "    <tr>\n",
       "      <th>0</th>\n",
       "      <td>0</td>\n",
       "      <td>0</td>\n",
       "      <td>56</td>\n",
       "      <td>43</td>\n",
       "      <td>278</td>\n",
       "      <td>301963</td>\n",
       "      <td>90612</td>\n",
       "      <td>33735</td>\n",
       "      <td>23991</td>\n",
       "      <td>27946</td>\n",
       "      <td>45097</td>\n",
       "      <td>33228</td>\n",
       "      <td>8293</td>\n",
       "      <td>0</td>\n",
       "      <td>0</td>\n",
       "    </tr>\n",
       "    <tr>\n",
       "      <th>1</th>\n",
       "      <td>0</td>\n",
       "      <td>0</td>\n",
       "      <td>40</td>\n",
       "      <td>35</td>\n",
       "      <td>-50</td>\n",
       "      <td>73787</td>\n",
       "      <td>28083</td>\n",
       "      <td>1439</td>\n",
       "      <td>2240</td>\n",
       "      <td>2746</td>\n",
       "      <td>3687</td>\n",
       "      <td>5293</td>\n",
       "      <td>2740</td>\n",
       "      <td>0</td>\n",
       "      <td>0</td>\n",
       "    </tr>\n",
       "    <tr>\n",
       "      <th>2</th>\n",
       "      <td>0</td>\n",
       "      <td>0</td>\n",
       "      <td>47</td>\n",
       "      <td>48</td>\n",
       "      <td>101</td>\n",
       "      <td>758353</td>\n",
       "      <td>383745</td>\n",
       "      <td>201999</td>\n",
       "      <td>62107</td>\n",
       "      <td>36293</td>\n",
       "      <td>130536</td>\n",
       "      <td>57243</td>\n",
       "      <td>25354</td>\n",
       "      <td>0</td>\n",
       "      <td>0</td>\n",
       "    </tr>\n",
       "    <tr>\n",
       "      <th>3</th>\n",
       "      <td>0</td>\n",
       "      <td>0</td>\n",
       "      <td>47</td>\n",
       "      <td>57</td>\n",
       "      <td>-5</td>\n",
       "      <td>2012240</td>\n",
       "      <td>129350</td>\n",
       "      <td>61236</td>\n",
       "      <td>17084</td>\n",
       "      <td>11488</td>\n",
       "      <td>62462</td>\n",
       "      <td>49960</td>\n",
       "      <td>33932</td>\n",
       "      <td>0</td>\n",
       "      <td>0</td>\n",
       "    </tr>\n",
       "    <tr>\n",
       "      <th>4</th>\n",
       "      <td>0</td>\n",
       "      <td>0</td>\n",
       "      <td>44</td>\n",
       "      <td>53</td>\n",
       "      <td>-8</td>\n",
       "      <td>1005145</td>\n",
       "      <td>354328</td>\n",
       "      <td>37102</td>\n",
       "      <td>88881</td>\n",
       "      <td>45307</td>\n",
       "      <td>99603</td>\n",
       "      <td>44790</td>\n",
       "      <td>29749</td>\n",
       "      <td>0</td>\n",
       "      <td>0</td>\n",
       "    </tr>\n",
       "  </tbody>\n",
       "</table>\n",
       "</div>"
      ],
      "text/plain": [
       "   subject ID  Video ID  Attention  Meditation  Raw    Delta   Theta  Alpha 1  \\\n",
       "0           0         0         56          43  278   301963   90612    33735   \n",
       "1           0         0         40          35  -50    73787   28083     1439   \n",
       "2           0         0         47          48  101   758353  383745   201999   \n",
       "3           0         0         47          57   -5  2012240  129350    61236   \n",
       "4           0         0         44          53   -8  1005145  354328    37102   \n",
       "\n",
       "   Alpha 2  Beta 1  Beta 2  Gamma1  Gamma2  predefined label  \\\n",
       "0    23991   27946   45097   33228    8293                 0   \n",
       "1     2240    2746    3687    5293    2740                 0   \n",
       "2    62107   36293  130536   57243   25354                 0   \n",
       "3    17084   11488   62462   49960   33932                 0   \n",
       "4    88881   45307   99603   44790   29749                 0   \n",
       "\n",
       "   Self-defined label  \n",
       "0                   0  \n",
       "1                   0  \n",
       "2                   0  \n",
       "3                   0  \n",
       "4                   0  "
      ]
     },
     "execution_count": 88,
     "metadata": {},
     "output_type": "execute_result"
    }
   ],
   "source": [
    "# Display the first five observations\n",
    "dat.head()"
   ]
  },
  {
   "cell_type": "code",
   "execution_count": 95,
   "metadata": {
    "collapsed": false
   },
   "outputs": [
    {
     "data": {
      "text/plain": [
       "(12811, 18)"
      ]
     },
     "execution_count": 95,
     "metadata": {},
     "output_type": "execute_result"
    }
   ],
   "source": [
    "# Drop subject6 and merge\n",
    "new_dat = dat.merge(dat2, on='subject ID', how='left')\n",
    "new_dat.shape"
   ]
  },
  {
   "cell_type": "code",
   "execution_count": 97,
   "metadata": {
    "collapsed": false
   },
   "outputs": [
    {
     "data": {
      "text/plain": [
       "(11536, 18)"
      ]
     },
     "execution_count": 97,
     "metadata": {},
     "output_type": "execute_result"
    }
   ],
   "source": [
    "new_dat = new_dat[new_dat[\"subject ID\"] != 6]\n",
    "new_dat.shape"
   ]
  },
  {
   "cell_type": "code",
   "execution_count": 103,
   "metadata": {
    "collapsed": true
   },
   "outputs": [],
   "source": [
    "# Convert to a csv file\n",
    "new_dat.to_csv(\"EEG_merged.csv\", index = False)"
   ]
  },
  {
   "cell_type": "markdown",
   "metadata": {},
   "source": [
    "## Now, Do with the new dataset!"
   ]
  },
  {
   "cell_type": "code",
   "execution_count": 145,
   "metadata": {
    "collapsed": false
   },
   "outputs": [
    {
     "data": {
      "text/html": [
       "<div>\n",
       "<table border=\"1\" class=\"dataframe\">\n",
       "  <thead>\n",
       "    <tr style=\"text-align: right;\">\n",
       "      <th></th>\n",
       "      <th>subject ID</th>\n",
       "      <th>Video ID</th>\n",
       "      <th>Attention</th>\n",
       "      <th>Meditation</th>\n",
       "      <th>Raw</th>\n",
       "      <th>Delta</th>\n",
       "      <th>Theta</th>\n",
       "      <th>Alpha 1</th>\n",
       "      <th>Alpha 2</th>\n",
       "      <th>Beta 1</th>\n",
       "      <th>Beta 2</th>\n",
       "      <th>Gamma1</th>\n",
       "      <th>Gamma2</th>\n",
       "      <th>predefined label</th>\n",
       "      <th>Self-defined label</th>\n",
       "      <th>age</th>\n",
       "      <th>ethnicity</th>\n",
       "      <th>gender</th>\n",
       "    </tr>\n",
       "  </thead>\n",
       "  <tbody>\n",
       "    <tr>\n",
       "      <th>0</th>\n",
       "      <td>0</td>\n",
       "      <td>0</td>\n",
       "      <td>56</td>\n",
       "      <td>43</td>\n",
       "      <td>278</td>\n",
       "      <td>301963</td>\n",
       "      <td>90612</td>\n",
       "      <td>33735</td>\n",
       "      <td>23991</td>\n",
       "      <td>27946</td>\n",
       "      <td>45097</td>\n",
       "      <td>33228</td>\n",
       "      <td>8293</td>\n",
       "      <td>0</td>\n",
       "      <td>0</td>\n",
       "      <td>25</td>\n",
       "      <td>Han Chinese</td>\n",
       "      <td>M</td>\n",
       "    </tr>\n",
       "    <tr>\n",
       "      <th>1</th>\n",
       "      <td>0</td>\n",
       "      <td>0</td>\n",
       "      <td>40</td>\n",
       "      <td>35</td>\n",
       "      <td>-50</td>\n",
       "      <td>73787</td>\n",
       "      <td>28083</td>\n",
       "      <td>1439</td>\n",
       "      <td>2240</td>\n",
       "      <td>2746</td>\n",
       "      <td>3687</td>\n",
       "      <td>5293</td>\n",
       "      <td>2740</td>\n",
       "      <td>0</td>\n",
       "      <td>0</td>\n",
       "      <td>25</td>\n",
       "      <td>Han Chinese</td>\n",
       "      <td>M</td>\n",
       "    </tr>\n",
       "    <tr>\n",
       "      <th>2</th>\n",
       "      <td>0</td>\n",
       "      <td>0</td>\n",
       "      <td>47</td>\n",
       "      <td>48</td>\n",
       "      <td>101</td>\n",
       "      <td>758353</td>\n",
       "      <td>383745</td>\n",
       "      <td>201999</td>\n",
       "      <td>62107</td>\n",
       "      <td>36293</td>\n",
       "      <td>130536</td>\n",
       "      <td>57243</td>\n",
       "      <td>25354</td>\n",
       "      <td>0</td>\n",
       "      <td>0</td>\n",
       "      <td>25</td>\n",
       "      <td>Han Chinese</td>\n",
       "      <td>M</td>\n",
       "    </tr>\n",
       "    <tr>\n",
       "      <th>3</th>\n",
       "      <td>0</td>\n",
       "      <td>0</td>\n",
       "      <td>47</td>\n",
       "      <td>57</td>\n",
       "      <td>-5</td>\n",
       "      <td>2012240</td>\n",
       "      <td>129350</td>\n",
       "      <td>61236</td>\n",
       "      <td>17084</td>\n",
       "      <td>11488</td>\n",
       "      <td>62462</td>\n",
       "      <td>49960</td>\n",
       "      <td>33932</td>\n",
       "      <td>0</td>\n",
       "      <td>0</td>\n",
       "      <td>25</td>\n",
       "      <td>Han Chinese</td>\n",
       "      <td>M</td>\n",
       "    </tr>\n",
       "    <tr>\n",
       "      <th>4</th>\n",
       "      <td>0</td>\n",
       "      <td>0</td>\n",
       "      <td>44</td>\n",
       "      <td>53</td>\n",
       "      <td>-8</td>\n",
       "      <td>1005145</td>\n",
       "      <td>354328</td>\n",
       "      <td>37102</td>\n",
       "      <td>88881</td>\n",
       "      <td>45307</td>\n",
       "      <td>99603</td>\n",
       "      <td>44790</td>\n",
       "      <td>29749</td>\n",
       "      <td>0</td>\n",
       "      <td>0</td>\n",
       "      <td>25</td>\n",
       "      <td>Han Chinese</td>\n",
       "      <td>M</td>\n",
       "    </tr>\n",
       "  </tbody>\n",
       "</table>\n",
       "</div>"
      ],
      "text/plain": [
       "   subject ID  Video ID  Attention  Meditation  Raw    Delta   Theta  Alpha 1  \\\n",
       "0           0         0         56          43  278   301963   90612    33735   \n",
       "1           0         0         40          35  -50    73787   28083     1439   \n",
       "2           0         0         47          48  101   758353  383745   201999   \n",
       "3           0         0         47          57   -5  2012240  129350    61236   \n",
       "4           0         0         44          53   -8  1005145  354328    37102   \n",
       "\n",
       "   Alpha 2  Beta 1  Beta 2  Gamma1  Gamma2  predefined label  \\\n",
       "0    23991   27946   45097   33228    8293                 0   \n",
       "1     2240    2746    3687    5293    2740                 0   \n",
       "2    62107   36293  130536   57243   25354                 0   \n",
       "3    17084   11488   62462   49960   33932                 0   \n",
       "4    88881   45307   99603   44790   29749                 0   \n",
       "\n",
       "   Self-defined label   age    ethnicity  gender  \n",
       "0                   0    25  Han Chinese       M  \n",
       "1                   0    25  Han Chinese       M  \n",
       "2                   0    25  Han Chinese       M  \n",
       "3                   0    25  Han Chinese       M  \n",
       "4                   0    25  Han Chinese       M  "
      ]
     },
     "execution_count": 145,
     "metadata": {},
     "output_type": "execute_result"
    }
   ],
   "source": [
    "dat = pd.read_csv(\"EEG_merged.csv\")\n",
    "dat.head()"
   ]
  },
  {
   "cell_type": "code",
   "execution_count": 146,
   "metadata": {
    "collapsed": false,
    "scrolled": false
   },
   "outputs": [
    {
     "data": {
      "text/html": [
       "<div>\n",
       "<table border=\"1\" class=\"dataframe\">\n",
       "  <thead>\n",
       "    <tr style=\"text-align: right;\">\n",
       "      <th></th>\n",
       "      <th>Video ID</th>\n",
       "      <th>Attention</th>\n",
       "      <th>Meditation</th>\n",
       "      <th>Raw</th>\n",
       "      <th>Delta</th>\n",
       "      <th>Theta</th>\n",
       "      <th>Alpha 1</th>\n",
       "      <th>Alpha 2</th>\n",
       "      <th>Beta 1</th>\n",
       "      <th>Beta 2</th>\n",
       "      <th>Gamma1</th>\n",
       "      <th>Gamma2</th>\n",
       "      <th>predefined label</th>\n",
       "      <th>Self-defined label</th>\n",
       "      <th>age</th>\n",
       "    </tr>\n",
       "    <tr>\n",
       "      <th>subject ID</th>\n",
       "      <th></th>\n",
       "      <th></th>\n",
       "      <th></th>\n",
       "      <th></th>\n",
       "      <th></th>\n",
       "      <th></th>\n",
       "      <th></th>\n",
       "      <th></th>\n",
       "      <th></th>\n",
       "      <th></th>\n",
       "      <th></th>\n",
       "      <th></th>\n",
       "      <th></th>\n",
       "      <th></th>\n",
       "      <th></th>\n",
       "    </tr>\n",
       "  </thead>\n",
       "  <tbody>\n",
       "    <tr>\n",
       "      <th>0</th>\n",
       "      <td>4.313243</td>\n",
       "      <td>48.630452</td>\n",
       "      <td>48.571768</td>\n",
       "      <td>33.042030</td>\n",
       "      <td>684941.555908</td>\n",
       "      <td>165919.786677</td>\n",
       "      <td>35990.755749</td>\n",
       "      <td>24487.685964</td>\n",
       "      <td>20288.437748</td>\n",
       "      <td>37128.914354</td>\n",
       "      <td>38343.019826</td>\n",
       "      <td>15736.938937</td>\n",
       "      <td>0.473434</td>\n",
       "      <td>0.511499</td>\n",
       "      <td>25.0</td>\n",
       "    </tr>\n",
       "    <tr>\n",
       "      <th>1</th>\n",
       "      <td>4.461184</td>\n",
       "      <td>45.561107</td>\n",
       "      <td>57.935434</td>\n",
       "      <td>33.599539</td>\n",
       "      <td>428179.287471</td>\n",
       "      <td>125888.289777</td>\n",
       "      <td>31765.673328</td>\n",
       "      <td>22985.478094</td>\n",
       "      <td>20740.016141</td>\n",
       "      <td>13590.006918</td>\n",
       "      <td>7021.468870</td>\n",
       "      <td>4535.732513</td>\n",
       "      <td>0.489623</td>\n",
       "      <td>0.402767</td>\n",
       "      <td>24.0</td>\n",
       "    </tr>\n",
       "    <tr>\n",
       "      <th>2</th>\n",
       "      <td>4.433801</td>\n",
       "      <td>55.971184</td>\n",
       "      <td>60.865265</td>\n",
       "      <td>33.904984</td>\n",
       "      <td>39549.890966</td>\n",
       "      <td>19263.661994</td>\n",
       "      <td>7781.796729</td>\n",
       "      <td>8248.434579</td>\n",
       "      <td>7975.485202</td>\n",
       "      <td>8410.145639</td>\n",
       "      <td>4621.512461</td>\n",
       "      <td>3556.214953</td>\n",
       "      <td>0.482866</td>\n",
       "      <td>0.508567</td>\n",
       "      <td>31.0</td>\n",
       "    </tr>\n",
       "    <tr>\n",
       "      <th>3</th>\n",
       "      <td>4.432268</td>\n",
       "      <td>40.044140</td>\n",
       "      <td>45.648402</td>\n",
       "      <td>34.219178</td>\n",
       "      <td>780844.464231</td>\n",
       "      <td>221221.465753</td>\n",
       "      <td>52551.698630</td>\n",
       "      <td>34068.783105</td>\n",
       "      <td>23391.176560</td>\n",
       "      <td>24573.475647</td>\n",
       "      <td>12363.896499</td>\n",
       "      <td>5303.480213</td>\n",
       "      <td>0.384323</td>\n",
       "      <td>0.493912</td>\n",
       "      <td>28.0</td>\n",
       "    </tr>\n",
       "    <tr>\n",
       "      <th>4</th>\n",
       "      <td>4.440154</td>\n",
       "      <td>44.895753</td>\n",
       "      <td>52.888803</td>\n",
       "      <td>38.635521</td>\n",
       "      <td>363673.088031</td>\n",
       "      <td>108926.853282</td>\n",
       "      <td>25011.400772</td>\n",
       "      <td>19826.601544</td>\n",
       "      <td>17363.406950</td>\n",
       "      <td>15166.986100</td>\n",
       "      <td>11229.140541</td>\n",
       "      <td>8828.527413</td>\n",
       "      <td>0.487259</td>\n",
       "      <td>0.584556</td>\n",
       "      <td>24.0</td>\n",
       "    </tr>\n",
       "    <tr>\n",
       "      <th>5</th>\n",
       "      <td>4.315372</td>\n",
       "      <td>46.616482</td>\n",
       "      <td>54.213946</td>\n",
       "      <td>34.487322</td>\n",
       "      <td>751906.218700</td>\n",
       "      <td>241902.458003</td>\n",
       "      <td>58220.128368</td>\n",
       "      <td>39022.931854</td>\n",
       "      <td>26944.388273</td>\n",
       "      <td>23847.141838</td>\n",
       "      <td>13674.559429</td>\n",
       "      <td>4347.840729</td>\n",
       "      <td>0.473851</td>\n",
       "      <td>0.607765</td>\n",
       "      <td>24.0</td>\n",
       "    </tr>\n",
       "    <tr>\n",
       "      <th>7</th>\n",
       "      <td>4.387931</td>\n",
       "      <td>44.844044</td>\n",
       "      <td>50.167712</td>\n",
       "      <td>36.307994</td>\n",
       "      <td>568962.452978</td>\n",
       "      <td>130318.122257</td>\n",
       "      <td>30058.974138</td>\n",
       "      <td>20911.165361</td>\n",
       "      <td>18988.803292</td>\n",
       "      <td>28899.112853</td>\n",
       "      <td>21948.364420</td>\n",
       "      <td>15656.793103</td>\n",
       "      <td>0.479624</td>\n",
       "      <td>0.618339</td>\n",
       "      <td>25.0</td>\n",
       "    </tr>\n",
       "    <tr>\n",
       "      <th>8</th>\n",
       "      <td>4.393916</td>\n",
       "      <td>43.990640</td>\n",
       "      <td>50.177847</td>\n",
       "      <td>35.666147</td>\n",
       "      <td>830712.153666</td>\n",
       "      <td>236931.875195</td>\n",
       "      <td>54706.961778</td>\n",
       "      <td>38513.213729</td>\n",
       "      <td>26461.799532</td>\n",
       "      <td>24249.097504</td>\n",
       "      <td>15605.233229</td>\n",
       "      <td>9436.329173</td>\n",
       "      <td>0.482059</td>\n",
       "      <td>0.402496</td>\n",
       "      <td>25.0</td>\n",
       "    </tr>\n",
       "    <tr>\n",
       "      <th>9</th>\n",
       "      <td>4.313243</td>\n",
       "      <td>42.507534</td>\n",
       "      <td>51.110230</td>\n",
       "      <td>29.070579</td>\n",
       "      <td>870734.973830</td>\n",
       "      <td>180547.519429</td>\n",
       "      <td>51447.114195</td>\n",
       "      <td>45816.708168</td>\n",
       "      <td>20216.413957</td>\n",
       "      <td>46573.854084</td>\n",
       "      <td>28369.115781</td>\n",
       "      <td>6730.126090</td>\n",
       "      <td>0.473434</td>\n",
       "      <td>0.498810</td>\n",
       "      <td>24.0</td>\n",
       "    </tr>\n",
       "  </tbody>\n",
       "</table>\n",
       "</div>"
      ],
      "text/plain": [
       "            Video ID  Attention  Meditation        Raw          Delta  \\\n",
       "subject ID                                                              \n",
       "0           4.313243  48.630452   48.571768  33.042030  684941.555908   \n",
       "1           4.461184  45.561107   57.935434  33.599539  428179.287471   \n",
       "2           4.433801  55.971184   60.865265  33.904984   39549.890966   \n",
       "3           4.432268  40.044140   45.648402  34.219178  780844.464231   \n",
       "4           4.440154  44.895753   52.888803  38.635521  363673.088031   \n",
       "5           4.315372  46.616482   54.213946  34.487322  751906.218700   \n",
       "7           4.387931  44.844044   50.167712  36.307994  568962.452978   \n",
       "8           4.393916  43.990640   50.177847  35.666147  830712.153666   \n",
       "9           4.313243  42.507534   51.110230  29.070579  870734.973830   \n",
       "\n",
       "                    Theta       Alpha 1       Alpha 2        Beta 1  \\\n",
       "subject ID                                                            \n",
       "0           165919.786677  35990.755749  24487.685964  20288.437748   \n",
       "1           125888.289777  31765.673328  22985.478094  20740.016141   \n",
       "2            19263.661994   7781.796729   8248.434579   7975.485202   \n",
       "3           221221.465753  52551.698630  34068.783105  23391.176560   \n",
       "4           108926.853282  25011.400772  19826.601544  17363.406950   \n",
       "5           241902.458003  58220.128368  39022.931854  26944.388273   \n",
       "7           130318.122257  30058.974138  20911.165361  18988.803292   \n",
       "8           236931.875195  54706.961778  38513.213729  26461.799532   \n",
       "9           180547.519429  51447.114195  45816.708168  20216.413957   \n",
       "\n",
       "                  Beta 2        Gamma1        Gamma2  predefined label  \\\n",
       "subject ID                                                               \n",
       "0           37128.914354  38343.019826  15736.938937          0.473434   \n",
       "1           13590.006918   7021.468870   4535.732513          0.489623   \n",
       "2            8410.145639   4621.512461   3556.214953          0.482866   \n",
       "3           24573.475647  12363.896499   5303.480213          0.384323   \n",
       "4           15166.986100  11229.140541   8828.527413          0.487259   \n",
       "5           23847.141838  13674.559429   4347.840729          0.473851   \n",
       "7           28899.112853  21948.364420  15656.793103          0.479624   \n",
       "8           24249.097504  15605.233229   9436.329173          0.482059   \n",
       "9           46573.854084  28369.115781   6730.126090          0.473434   \n",
       "\n",
       "            Self-defined label   age  \n",
       "subject ID                            \n",
       "0                     0.511499  25.0  \n",
       "1                     0.402767  24.0  \n",
       "2                     0.508567  31.0  \n",
       "3                     0.493912  28.0  \n",
       "4                     0.584556  24.0  \n",
       "5                     0.607765  24.0  \n",
       "7                     0.618339  25.0  \n",
       "8                     0.402496  25.0  \n",
       "9                     0.498810  24.0  "
      ]
     },
     "execution_count": 146,
     "metadata": {},
     "output_type": "execute_result"
    }
   ],
   "source": [
    "# Display the mean of each attribute, grouped by 9 students\n",
    "mean_dis_stu = dat.groupby(['subject ID']).mean()\n",
    "mean_dis_stu"
   ]
  },
  {
   "cell_type": "code",
   "execution_count": 108,
   "metadata": {
    "collapsed": false
   },
   "outputs": [
    {
     "data": {
      "text/plain": [
       "subject ID\n",
       "0    1261\n",
       "1    1301\n",
       "2    1284\n",
       "3    1314\n",
       "4    1295\n",
       "5    1262\n",
       "7    1276\n",
       "8    1282\n",
       "9    1261\n",
       "dtype: int64"
      ]
     },
     "execution_count": 108,
     "metadata": {},
     "output_type": "execute_result"
    }
   ],
   "source": [
    "count_per_subject_id = dat.groupby(['subject ID']).size()\n",
    "count_per_subject_id # Oh well.. the number of observations per students are not the same!"
   ]
  },
  {
   "cell_type": "code",
   "execution_count": 297,
   "metadata": {
    "collapsed": false
   },
   "outputs": [],
   "source": [
    "# Do the random sampling for stratification\n",
    "end_idx = 0\n",
    "front_idx = 0\n",
    "def random_stratification(df, debug = False):\n",
    "    global end_idx\n",
    "    global front_idx\n",
    "    str_df = pd.DataFrame()\n",
    "    for i in range(len(count_per_subject_id)+1):\n",
    "        if i == 6: # Skip the subject id = 6\n",
    "            continue\n",
    "        else:\n",
    "            end_idx += count_per_subject_id[i]\n",
    "            front_idx = end_idx - count_per_subject_id[i]\n",
    "            temp_df = df.iloc[front_idx:end_idx]\n",
    "            temp_df.index = [x for x in range(end_idx-front_idx)]\n",
    "            \n",
    "            samp_idx = np.random.choice(temp_df[temp_df['subject ID'] == i].index, \n",
    "                                    min(count_per_subject_id), replace = False)\n",
    "            samp_idx = sorted(samp_idx) # sort the index\n",
    "\n",
    "            if debug:\n",
    "                print(str_df)\n",
    "                print(str_df.shape)\n",
    "            str_df = str_df.append(temp_df.iloc[samp_idx])\n",
    "    return str_df"
   ]
  },
  {
   "cell_type": "code",
   "execution_count": 298,
   "metadata": {
    "collapsed": false
   },
   "outputs": [
    {
     "data": {
      "text/plain": [
       "(11349, 18)"
      ]
     },
     "execution_count": 298,
     "metadata": {},
     "output_type": "execute_result"
    }
   ],
   "source": [
    "stratified_dat = random_stratification(dat)\n",
    "stratified_dat.shape"
   ]
  },
  {
   "cell_type": "code",
   "execution_count": null,
   "metadata": {
    "collapsed": true
   },
   "outputs": [],
   "source": [
    "np.corrcoef"
   ]
  },
  {
   "cell_type": "code",
   "execution_count": 301,
   "metadata": {
    "collapsed": false
   },
   "outputs": [
    {
     "data": {
      "text/plain": [
       "subject ID\n",
       "0    1261\n",
       "1    1261\n",
       "2    1261\n",
       "3    1261\n",
       "4    1261\n",
       "5    1261\n",
       "7    1261\n",
       "8    1261\n",
       "9    1261\n",
       "dtype: int64"
      ]
     },
     "execution_count": 301,
     "metadata": {},
     "output_type": "execute_result"
    }
   ],
   "source": [
    "count_per_subject_id2 = stratified_dat.groupby(['subject ID']).size()\n",
    "count_per_subject_id2 # Great! We have a same number of observations per subject ID"
   ]
  },
  {
   "cell_type": "code",
   "execution_count": 302,
   "metadata": {
    "collapsed": true
   },
   "outputs": [],
   "source": [
    "stratified_dat.to_csv(\"Stratified_EEG_data.csv\", index = False)"
   ]
  },
  {
   "cell_type": "code",
   "execution_count": 253,
   "metadata": {
    "collapsed": false
   },
   "outputs": [
    {
     "data": {
      "text/html": [
       "<div>\n",
       "<table border=\"1\" class=\"dataframe\">\n",
       "  <thead>\n",
       "    <tr style=\"text-align: right;\">\n",
       "      <th></th>\n",
       "      <th>subjectid</th>\n",
       "      <th>videoid</th>\n",
       "      <th>attention</th>\n",
       "      <th>meditation</th>\n",
       "      <th>raw</th>\n",
       "      <th>delta</th>\n",
       "      <th>theta</th>\n",
       "      <th>alpha1</th>\n",
       "      <th>alpha2</th>\n",
       "      <th>beta1</th>\n",
       "      <th>...</th>\n",
       "      <th>gamma1</th>\n",
       "      <th>gamma2</th>\n",
       "      <th>age</th>\n",
       "      <th>ethnicity_Bengali</th>\n",
       "      <th>ethnicity_English</th>\n",
       "      <th>ethnicity_Han Chinese</th>\n",
       "      <th>gender_F</th>\n",
       "      <th>gender_M</th>\n",
       "      <th>predefinedlabel</th>\n",
       "      <th>self-definedlabel</th>\n",
       "    </tr>\n",
       "  </thead>\n",
       "  <tbody>\n",
       "    <tr>\n",
       "      <th>0</th>\n",
       "      <td>3</td>\n",
       "      <td>0</td>\n",
       "      <td>0.060606</td>\n",
       "      <td>0.525773</td>\n",
       "      <td>0.689794</td>\n",
       "      <td>0.867288</td>\n",
       "      <td>0.535079</td>\n",
       "      <td>0.720607</td>\n",
       "      <td>0.478347</td>\n",
       "      <td>0.389121</td>\n",
       "      <td>...</td>\n",
       "      <td>0.513935</td>\n",
       "      <td>0.503555</td>\n",
       "      <td>28</td>\n",
       "      <td>0.0</td>\n",
       "      <td>0.0</td>\n",
       "      <td>1.0</td>\n",
       "      <td>1.0</td>\n",
       "      <td>0.0</td>\n",
       "      <td>0</td>\n",
       "      <td>0</td>\n",
       "    </tr>\n",
       "    <tr>\n",
       "      <th>1</th>\n",
       "      <td>3</td>\n",
       "      <td>0</td>\n",
       "      <td>0.282828</td>\n",
       "      <td>0.494845</td>\n",
       "      <td>0.570814</td>\n",
       "      <td>0.913702</td>\n",
       "      <td>0.454668</td>\n",
       "      <td>0.566280</td>\n",
       "      <td>0.490893</td>\n",
       "      <td>0.586673</td>\n",
       "      <td>...</td>\n",
       "      <td>0.613883</td>\n",
       "      <td>0.383890</td>\n",
       "      <td>28</td>\n",
       "      <td>0.0</td>\n",
       "      <td>0.0</td>\n",
       "      <td>1.0</td>\n",
       "      <td>1.0</td>\n",
       "      <td>0.0</td>\n",
       "      <td>0</td>\n",
       "      <td>0</td>\n",
       "    </tr>\n",
       "    <tr>\n",
       "      <th>2</th>\n",
       "      <td>3</td>\n",
       "      <td>0</td>\n",
       "      <td>0.525253</td>\n",
       "      <td>0.742268</td>\n",
       "      <td>0.242833</td>\n",
       "      <td>0.773431</td>\n",
       "      <td>0.380002</td>\n",
       "      <td>0.573420</td>\n",
       "      <td>0.668554</td>\n",
       "      <td>0.645050</td>\n",
       "      <td>...</td>\n",
       "      <td>0.667059</td>\n",
       "      <td>0.404266</td>\n",
       "      <td>28</td>\n",
       "      <td>0.0</td>\n",
       "      <td>0.0</td>\n",
       "      <td>1.0</td>\n",
       "      <td>1.0</td>\n",
       "      <td>0.0</td>\n",
       "      <td>0</td>\n",
       "      <td>0</td>\n",
       "    </tr>\n",
       "    <tr>\n",
       "      <th>3</th>\n",
       "      <td>3</td>\n",
       "      <td>0</td>\n",
       "      <td>0.525253</td>\n",
       "      <td>0.742268</td>\n",
       "      <td>0.601204</td>\n",
       "      <td>0.678648</td>\n",
       "      <td>0.332750</td>\n",
       "      <td>0.525935</td>\n",
       "      <td>0.398881</td>\n",
       "      <td>0.388893</td>\n",
       "      <td>...</td>\n",
       "      <td>0.462761</td>\n",
       "      <td>0.619623</td>\n",
       "      <td>28</td>\n",
       "      <td>0.0</td>\n",
       "      <td>0.0</td>\n",
       "      <td>1.0</td>\n",
       "      <td>1.0</td>\n",
       "      <td>0.0</td>\n",
       "      <td>0</td>\n",
       "      <td>0</td>\n",
       "    </tr>\n",
       "    <tr>\n",
       "      <th>4</th>\n",
       "      <td>3</td>\n",
       "      <td>0</td>\n",
       "      <td>0.555556</td>\n",
       "      <td>0.876289</td>\n",
       "      <td>0.666571</td>\n",
       "      <td>0.753765</td>\n",
       "      <td>0.674127</td>\n",
       "      <td>0.882809</td>\n",
       "      <td>0.868843</td>\n",
       "      <td>0.729096</td>\n",
       "      <td>...</td>\n",
       "      <td>0.905037</td>\n",
       "      <td>0.630379</td>\n",
       "      <td>28</td>\n",
       "      <td>0.0</td>\n",
       "      <td>0.0</td>\n",
       "      <td>1.0</td>\n",
       "      <td>1.0</td>\n",
       "      <td>0.0</td>\n",
       "      <td>0</td>\n",
       "      <td>0</td>\n",
       "    </tr>\n",
       "  </tbody>\n",
       "</table>\n",
       "<p>5 rows × 21 columns</p>\n",
       "</div>"
      ],
      "text/plain": [
       "   subjectid  videoid  attention  meditation       raw     delta     theta  \\\n",
       "0          3        0   0.060606    0.525773  0.689794  0.867288  0.535079   \n",
       "1          3        0   0.282828    0.494845  0.570814  0.913702  0.454668   \n",
       "2          3        0   0.525253    0.742268  0.242833  0.773431  0.380002   \n",
       "3          3        0   0.525253    0.742268  0.601204  0.678648  0.332750   \n",
       "4          3        0   0.555556    0.876289  0.666571  0.753765  0.674127   \n",
       "\n",
       "     alpha1    alpha2     beta1        ...            gamma1    gamma2  age  \\\n",
       "0  0.720607  0.478347  0.389121        ...          0.513935  0.503555   28   \n",
       "1  0.566280  0.490893  0.586673        ...          0.613883  0.383890   28   \n",
       "2  0.573420  0.668554  0.645050        ...          0.667059  0.404266   28   \n",
       "3  0.525935  0.398881  0.388893        ...          0.462761  0.619623   28   \n",
       "4  0.882809  0.868843  0.729096        ...          0.905037  0.630379   28   \n",
       "\n",
       "   ethnicity_Bengali  ethnicity_English  ethnicity_Han Chinese  gender_F  \\\n",
       "0                0.0                0.0                    1.0       1.0   \n",
       "1                0.0                0.0                    1.0       1.0   \n",
       "2                0.0                0.0                    1.0       1.0   \n",
       "3                0.0                0.0                    1.0       1.0   \n",
       "4                0.0                0.0                    1.0       1.0   \n",
       "\n",
       "   gender_M  predefinedlabel  self-definedlabel  \n",
       "0       0.0                0                  0  \n",
       "1       0.0                0                  0  \n",
       "2       0.0                0                  0  \n",
       "3       0.0                0                  0  \n",
       "4       0.0                0                  0  \n",
       "\n",
       "[5 rows x 21 columns]"
      ]
     },
     "execution_count": 253,
     "metadata": {},
     "output_type": "execute_result"
    }
   ],
   "source": [
    "dat = pd.read_csv(\"EEG_norm_outliers_removed_strat.csv\")\n",
    "dat.head()"
   ]
  },
  {
   "cell_type": "code",
   "execution_count": 4,
   "metadata": {
    "collapsed": false
   },
   "outputs": [],
   "source": [
    "# temp = dat.groupby(['predefinedlabel']).mean()\n",
    "# new_temp = temp.drop(['subjectid', 'videoid', 'age'], axis=1)\n",
    "# new_temp.T.plot(kind='bar', figsize=(14,8))\n",
    "# plt.title(\"Predefined Label distribution for each attribute's mean\")\n",
    "# plt.xlabel(\"Attribute\")\n",
    "# plt.ylabel(\"Mean\")\n",
    "# plt.show()\n"
   ]
  },
  {
   "cell_type": "code",
   "execution_count": 5,
   "metadata": {
    "collapsed": false
   },
   "outputs": [],
   "source": [
    "# temp = dat.groupby(['self-definedlabel']).mean()\n",
    "# new_temp = temp.drop(['subjectid', 'videoid', 'age'], axis=1)\n",
    "# new_temp.T.plot(kind='bar', figsize=(14,8))\n",
    "# plt.title(\"Self defined Label distribution for each attribute's mean\")\n",
    "# plt.xlabel(\"Attribute\")\n",
    "# plt.ylabel(\"Mean\")\n",
    "# plt.show()"
   ]
  },
  {
   "cell_type": "code",
   "execution_count": 6,
   "metadata": {
    "collapsed": false
   },
   "outputs": [],
   "source": [
    "# temp = dat.groupby(['self-definedlabel']).mean()\n",
    "# print(temp.T)"
   ]
  },
  {
   "cell_type": "markdown",
   "metadata": {
    "collapsed": false
   },
   "source": [
    "## 1. A decision tree"
   ]
  },
  {
   "cell_type": "code",
   "execution_count": 3,
   "metadata": {
    "collapsed": false
   },
   "outputs": [
    {
     "data": {
      "text/html": [
       "<div>\n",
       "<table border=\"1\" class=\"dataframe\">\n",
       "  <thead>\n",
       "    <tr style=\"text-align: right;\">\n",
       "      <th></th>\n",
       "      <th>attention</th>\n",
       "      <th>meditation</th>\n",
       "      <th>raw</th>\n",
       "      <th>delta</th>\n",
       "      <th>theta</th>\n",
       "      <th>alpha1</th>\n",
       "      <th>alpha2</th>\n",
       "      <th>beta1</th>\n",
       "      <th>beta2</th>\n",
       "      <th>gamma1</th>\n",
       "      <th>gamma2</th>\n",
       "      <th>age</th>\n",
       "    </tr>\n",
       "  </thead>\n",
       "  <tbody>\n",
       "    <tr>\n",
       "      <th>0</th>\n",
       "      <td>0.060606</td>\n",
       "      <td>0.525773</td>\n",
       "      <td>0.689794</td>\n",
       "      <td>0.867288</td>\n",
       "      <td>0.535079</td>\n",
       "      <td>0.720607</td>\n",
       "      <td>0.478347</td>\n",
       "      <td>0.389121</td>\n",
       "      <td>0.477901</td>\n",
       "      <td>0.513935</td>\n",
       "      <td>0.503555</td>\n",
       "      <td>28</td>\n",
       "    </tr>\n",
       "    <tr>\n",
       "      <th>1</th>\n",
       "      <td>0.282828</td>\n",
       "      <td>0.494845</td>\n",
       "      <td>0.570814</td>\n",
       "      <td>0.913702</td>\n",
       "      <td>0.454668</td>\n",
       "      <td>0.566280</td>\n",
       "      <td>0.490893</td>\n",
       "      <td>0.586673</td>\n",
       "      <td>0.665260</td>\n",
       "      <td>0.613883</td>\n",
       "      <td>0.383890</td>\n",
       "      <td>28</td>\n",
       "    </tr>\n",
       "    <tr>\n",
       "      <th>2</th>\n",
       "      <td>0.525253</td>\n",
       "      <td>0.742268</td>\n",
       "      <td>0.242833</td>\n",
       "      <td>0.773431</td>\n",
       "      <td>0.380002</td>\n",
       "      <td>0.573420</td>\n",
       "      <td>0.668554</td>\n",
       "      <td>0.645050</td>\n",
       "      <td>0.571373</td>\n",
       "      <td>0.667059</td>\n",
       "      <td>0.404266</td>\n",
       "      <td>28</td>\n",
       "    </tr>\n",
       "    <tr>\n",
       "      <th>3</th>\n",
       "      <td>0.525253</td>\n",
       "      <td>0.742268</td>\n",
       "      <td>0.601204</td>\n",
       "      <td>0.678648</td>\n",
       "      <td>0.332750</td>\n",
       "      <td>0.525935</td>\n",
       "      <td>0.398881</td>\n",
       "      <td>0.388893</td>\n",
       "      <td>0.290201</td>\n",
       "      <td>0.462761</td>\n",
       "      <td>0.619623</td>\n",
       "      <td>28</td>\n",
       "    </tr>\n",
       "    <tr>\n",
       "      <th>4</th>\n",
       "      <td>0.555556</td>\n",
       "      <td>0.876289</td>\n",
       "      <td>0.666571</td>\n",
       "      <td>0.753765</td>\n",
       "      <td>0.674127</td>\n",
       "      <td>0.882809</td>\n",
       "      <td>0.868843</td>\n",
       "      <td>0.729096</td>\n",
       "      <td>0.805422</td>\n",
       "      <td>0.905037</td>\n",
       "      <td>0.630379</td>\n",
       "      <td>28</td>\n",
       "    </tr>\n",
       "  </tbody>\n",
       "</table>\n",
       "</div>"
      ],
      "text/plain": [
       "   attention  meditation       raw     delta     theta    alpha1    alpha2  \\\n",
       "0   0.060606    0.525773  0.689794  0.867288  0.535079  0.720607  0.478347   \n",
       "1   0.282828    0.494845  0.570814  0.913702  0.454668  0.566280  0.490893   \n",
       "2   0.525253    0.742268  0.242833  0.773431  0.380002  0.573420  0.668554   \n",
       "3   0.525253    0.742268  0.601204  0.678648  0.332750  0.525935  0.398881   \n",
       "4   0.555556    0.876289  0.666571  0.753765  0.674127  0.882809  0.868843   \n",
       "\n",
       "      beta1     beta2    gamma1    gamma2  age  \n",
       "0  0.389121  0.477901  0.513935  0.503555   28  \n",
       "1  0.586673  0.665260  0.613883  0.383890   28  \n",
       "2  0.645050  0.571373  0.667059  0.404266   28  \n",
       "3  0.388893  0.290201  0.462761  0.619623   28  \n",
       "4  0.729096  0.805422  0.905037  0.630379   28  "
      ]
     },
     "execution_count": 3,
     "metadata": {},
     "output_type": "execute_result"
    }
   ],
   "source": [
    "# 1. remove subjectid and videoid / then split into exp & tar variable\n",
    "new_dat = dat.iloc[:,2:14]\n",
    "new_dat.head()"
   ]
  },
  {
   "cell_type": "code",
   "execution_count": 250,
   "metadata": {
    "collapsed": false
   },
   "outputs": [
    {
     "data": {
      "text/html": [
       "<div>\n",
       "<table border=\"1\" class=\"dataframe\">\n",
       "  <thead>\n",
       "    <tr style=\"text-align: right;\">\n",
       "      <th></th>\n",
       "      <th>self-definedlabel</th>\n",
       "    </tr>\n",
       "  </thead>\n",
       "  <tbody>\n",
       "    <tr>\n",
       "      <th>0</th>\n",
       "      <td>0</td>\n",
       "    </tr>\n",
       "    <tr>\n",
       "      <th>1</th>\n",
       "      <td>0</td>\n",
       "    </tr>\n",
       "    <tr>\n",
       "      <th>2</th>\n",
       "      <td>0</td>\n",
       "    </tr>\n",
       "    <tr>\n",
       "      <th>3</th>\n",
       "      <td>0</td>\n",
       "    </tr>\n",
       "    <tr>\n",
       "      <th>4</th>\n",
       "      <td>0</td>\n",
       "    </tr>\n",
       "  </tbody>\n",
       "</table>\n",
       "</div>"
      ],
      "text/plain": [
       "   self-definedlabel\n",
       "0                  0\n",
       "1                  0\n",
       "2                  0\n",
       "3                  0\n",
       "4                  0"
      ]
     },
     "execution_count": 250,
     "metadata": {},
     "output_type": "execute_result"
    }
   ],
   "source": [
    "tar = dat.iloc[:,20:]\n",
    "tar.head()"
   ]
  },
  {
   "cell_type": "code",
   "execution_count": 350,
   "metadata": {
    "collapsed": false
   },
   "outputs": [],
   "source": [
    "# 2. Split into training and testing set / validation set 6:2:2\n",
    "dat_train, dat_test, dat_train_target, dat_test_target = train_test_split(new_dat, tar, test_size=0.2, random_state=33)\n",
    "# dat_train, dat_validation, dat_train_target, dat_validation_target = train_test_split(dat_train, dat_train_target, test_size=0.25, random_state=33)\n",
    "\n",
    "# dat_train.to_csv(\"EEG_train.csv\", index = False)\n",
    "# dat_test.to_csv(\"EEG_test.csv\", index = False)\n",
    "# # dat_validation.to_csv(\"EEG_validation.csv\", index = False)\n",
    "# dat_train_target.to_csv(\"EEG_train_target.csv\", index = False)\n",
    "# dat_test_target.to_csv(\"EEG_test_target.csv\", index = False)\n",
    "# dat_validation_target.to_csv(\"EEG_validation_target.csv\", index = False)\n",
    "\n",
    "# print(dat_train.shape) # 60%\n",
    "# print(dat_test.shape) # 20%\n",
    "# print(dat_validation.shape) # 20%"
   ]
  },
  {
   "cell_type": "code",
   "execution_count": 403,
   "metadata": {
    "collapsed": false
   },
   "outputs": [
    {
     "data": {
      "text/plain": [
       "DecisionTreeClassifier(class_weight=None, criterion='gini', max_depth=None,\n",
       "            max_features=None, max_leaf_nodes=None, min_samples_leaf=1,\n",
       "            min_samples_split=2, min_weight_fraction_leaf=0.0,\n",
       "            presort=False, random_state=None, splitter='best')"
      ]
     },
     "execution_count": 403,
     "metadata": {},
     "output_type": "execute_result"
    }
   ],
   "source": [
    "# 3. Build a decision tree\n",
    "dt = tree.DecisionTreeClassifier()\n",
    "dt"
   ]
  },
  {
   "cell_type": "code",
   "execution_count": 404,
   "metadata": {
    "collapsed": false
   },
   "outputs": [],
   "source": [
    "dt = dt.fit(dat_train, dat_train_target)"
   ]
  },
  {
   "cell_type": "code",
   "execution_count": 405,
   "metadata": {
    "collapsed": false
   },
   "outputs": [
    {
     "name": "stdout",
     "output_type": "stream",
     "text": [
      "[0 0 0 1 0 1 1 1 1 0 0 0 0 1 1 1 0 0 0 1 0 1 0 1 1 1 0 1 1 1]\n"
     ]
    }
   ],
   "source": [
    "dt_prediction = dt.predict(dat_test)\n",
    "print(dt_prediction[:30])"
   ]
  },
  {
   "cell_type": "code",
   "execution_count": 406,
   "metadata": {
    "collapsed": false
   },
   "outputs": [
    {
     "data": {
      "text/plain": [
       "array([[584, 415],\n",
       "       [411, 660]])"
      ]
     },
     "execution_count": 406,
     "metadata": {},
     "output_type": "execute_result"
    }
   ],
   "source": [
    "# Confusion matrix\n",
    "cm = confusion_matrix(dat_test_target, dt_prediction)\n",
    "cm"
   ]
  },
  {
   "cell_type": "code",
   "execution_count": 407,
   "metadata": {
    "collapsed": false
   },
   "outputs": [
    {
     "name": "stdout",
     "output_type": "stream",
     "text": [
      "Accuracy : 0.601\n"
     ]
    }
   ],
   "source": [
    "print(\"Accuracy : {0:.3f}\".format(metrics.accuracy_score(dat_test_target, dt_prediction)))"
   ]
  },
  {
   "cell_type": "code",
   "execution_count": 408,
   "metadata": {
    "collapsed": false
   },
   "outputs": [
    {
     "name": "stdout",
     "output_type": "stream",
     "text": [
      "             precision    recall  f1-score   support\n",
      "\n",
      "          0       0.59      0.58      0.59       999\n",
      "          1       0.61      0.62      0.62      1071\n",
      "\n",
      "avg / total       0.60      0.60      0.60      2070\n",
      "\n",
      "\n"
     ]
    }
   ],
   "source": [
    "# Show classification report\n",
    "print(metrics.classification_report(dat_test_target, dt_prediction)+\"\\n\")"
   ]
  },
  {
   "cell_type": "code",
   "execution_count": null,
   "metadata": {
    "collapsed": true
   },
   "outputs": [],
   "source": [
    "# Some tasks to be considered\n",
    "# 1. Since we have both predefined and user-defined labels, simply compare them to calculate accuracy (the most boring task)\n",
    "# 2. Use usef-defined label as a target variable and build a prediction\n",
    "# 3. Without knowing their confusion level, create clusters? \n",
    "# 4. etc...\n",
    "\n",
    "# We could use Logistic Regression / Decision Tree / Naive Baye / SVM / etc.... \n",
    "# We can also use some Ensemble learning methods... to be considered"
   ]
  },
  {
   "cell_type": "code",
   "execution_count": null,
   "metadata": {
    "collapsed": true
   },
   "outputs": [],
   "source": [
    "# Matt - Aggregation \n",
    "# Abram - SVM, LDA\n",
    "# Hyunyou - Kernel PCA , data visualization, clustering \n",
    "# Sungmin - RF and (hard/soft) VS DT VS NB"
   ]
  },
  {
   "cell_type": "code",
   "execution_count": 215,
   "metadata": {
    "collapsed": false
   },
   "outputs": [
    {
     "data": {
      "text/plain": [
       "Index(['attention', 'meditation', 'raw', 'delta', 'theta', 'alpha1', 'alpha2',\n",
       "       'beta1', 'beta2', 'gamma1', 'gamma2', 'age'],\n",
       "      dtype='object')"
      ]
     },
     "execution_count": 215,
     "metadata": {},
     "output_type": "execute_result"
    }
   ],
   "source": [
    "new_dat.columns"
   ]
  },
  {
   "cell_type": "code",
   "execution_count": null,
   "metadata": {
    "collapsed": true
   },
   "outputs": [],
   "source": []
  },
  {
   "cell_type": "code",
   "execution_count": 222,
   "metadata": {
    "collapsed": false
   },
   "outputs": [
    {
     "data": {
      "text/plain": [
       "RandomForestClassifier(bootstrap=True, class_weight=None, criterion='gini',\n",
       "            max_depth=None, max_features='auto', max_leaf_nodes=None,\n",
       "            min_samples_leaf=1, min_samples_split=2,\n",
       "            min_weight_fraction_leaf=0.0, n_estimators=10, n_jobs=1,\n",
       "            oob_score=False, random_state=None, verbose=0,\n",
       "            warm_start=False)"
      ]
     },
     "execution_count": 222,
     "metadata": {},
     "output_type": "execute_result"
    }
   ],
   "source": [
    "clf = RandomForestClassifier()\n",
    "clf.fit(dat_train, dat_train_target)"
   ]
  },
  {
   "cell_type": "code",
   "execution_count": 223,
   "metadata": {
    "collapsed": false
   },
   "outputs": [
    {
     "data": {
      "text/plain": [
       "array([[696, 303],\n",
       "       [439, 632]])"
      ]
     },
     "execution_count": 223,
     "metadata": {},
     "output_type": "execute_result"
    }
   ],
   "source": [
    "pre_rf = clf.predict(dat_test)\n",
    "# Confusion matrix\n",
    "cm2 = confusion_matrix(dat_test_target, pre_rf)\n",
    "cm2"
   ]
  },
  {
   "cell_type": "code",
   "execution_count": 224,
   "metadata": {
    "collapsed": false
   },
   "outputs": [
    {
     "name": "stdout",
     "output_type": "stream",
     "text": [
      "Accuracy : 0.642\n"
     ]
    }
   ],
   "source": [
    "print(\"Accuracy : {0:.3f}\".format(metrics.accuracy_score(dat_test_target, pre_rf)))"
   ]
  },
  {
   "cell_type": "code",
   "execution_count": 221,
   "metadata": {
    "collapsed": false
   },
   "outputs": [
    {
     "name": "stdout",
     "output_type": "stream",
     "text": [
      "             precision    recall  f1-score   support\n",
      "\n",
      "          0       0.59      0.60      0.59       999\n",
      "          1       0.62      0.62      0.62      1071\n",
      "\n",
      "avg / total       0.61      0.61      0.61      2070\n",
      "\n",
      "\n"
     ]
    }
   ],
   "source": [
    "# Show classification report\n",
    "print(metrics.classification_report(dat_test_target, dt_prediction)+\"\\n\")"
   ]
  },
  {
   "cell_type": "code",
   "execution_count": 226,
   "metadata": {
    "collapsed": false
   },
   "outputs": [
    {
     "data": {
      "text/plain": [
       "array([0, 0, 0, ..., 1, 1, 0])"
      ]
     },
     "execution_count": 226,
     "metadata": {},
     "output_type": "execute_result"
    }
   ],
   "source": [
    "# Simple Naive Bayes\n",
    "nb = naive_bayes.GaussianNB()\n",
    "nb_fit = nb.fit(dat_train, dat_train_target)\n",
    "nb_pred = nb_fit.predict(dat_test)"
   ]
  },
  {
   "cell_type": "code",
   "execution_count": 227,
   "metadata": {
    "collapsed": false
   },
   "outputs": [
    {
     "data": {
      "text/plain": [
       "array([[589, 410],\n",
       "       [462, 609]])"
      ]
     },
     "execution_count": 227,
     "metadata": {},
     "output_type": "execute_result"
    }
   ],
   "source": [
    "# Confusion matrix\n",
    "cm3 = confusion_matrix(dat_test_target, nb_pred)\n",
    "cm3"
   ]
  },
  {
   "cell_type": "code",
   "execution_count": 228,
   "metadata": {
    "collapsed": false
   },
   "outputs": [
    {
     "name": "stdout",
     "output_type": "stream",
     "text": [
      "Accuracy : 0.579\n"
     ]
    }
   ],
   "source": [
    "print(\"Accuracy : {0:.3f}\".format(metrics.accuracy_score(dat_test_target, nb_pred)))"
   ]
  },
  {
   "cell_type": "code",
   "execution_count": 229,
   "metadata": {
    "collapsed": false
   },
   "outputs": [
    {
     "name": "stdout",
     "output_type": "stream",
     "text": [
      "             precision    recall  f1-score   support\n",
      "\n",
      "          0       0.56      0.59      0.57       999\n",
      "          1       0.60      0.57      0.58      1071\n",
      "\n",
      "avg / total       0.58      0.58      0.58      2070\n",
      "\n",
      "\n"
     ]
    }
   ],
   "source": [
    "# Show classification report\n",
    "print(metrics.classification_report(dat_test_target, nb_pred)+\"\\n\")"
   ]
  },
  {
   "cell_type": "markdown",
   "metadata": {},
   "source": [
    "## Build diverse Random Forests "
   ]
  },
  {
   "cell_type": "code",
   "execution_count": 429,
   "metadata": {
    "collapsed": true
   },
   "outputs": [],
   "source": [
    "np.random.seed(1234)\n",
    "rf_model = RandomForestClassifier(n_estimators = 61, max_depth = 9,\n",
    "                                 max_features = 6, oob_score = True)"
   ]
  },
  {
   "cell_type": "code",
   "execution_count": 430,
   "metadata": {
    "collapsed": true
   },
   "outputs": [],
   "source": [
    "features = ['attention', 'meditation', 'raw', 'delta', 'theta', 'alpha1', 'alpha2',\n",
    "       'beta1', 'beta2', 'gamma1', 'gamma2', 'age']"
   ]
  },
  {
   "cell_type": "code",
   "execution_count": 431,
   "metadata": {
    "collapsed": false
   },
   "outputs": [
    {
     "data": {
      "text/plain": [
       "RandomForestClassifier(bootstrap=True, class_weight=None, criterion='gini',\n",
       "            max_depth=9, max_features=6, max_leaf_nodes=None,\n",
       "            min_samples_leaf=1, min_samples_split=2,\n",
       "            min_weight_fraction_leaf=0.0, n_estimators=61, n_jobs=1,\n",
       "            oob_score=True, random_state=None, verbose=0, warm_start=False)"
      ]
     },
     "execution_count": 431,
     "metadata": {},
     "output_type": "execute_result"
    }
   ],
   "source": [
    "# Train the model\n",
    "rf_model.fit(X = dat_train[features], y = dat_train_target)"
   ]
  },
  {
   "cell_type": "code",
   "execution_count": 432,
   "metadata": {
    "collapsed": false
   },
   "outputs": [
    {
     "data": {
      "text/plain": [
       "0.67181964573268926"
      ]
     },
     "execution_count": 432,
     "metadata": {},
     "output_type": "execute_result"
    }
   ],
   "source": [
    "rf_model.oob_score_"
   ]
  },
  {
   "cell_type": "raw",
   "metadata": {},
   "source": [
    "feature_imp = {}\n",
    "for i, imp in enumerate(rf_model.feature_importances_):\n",
    "    feature_imp[features[i]] = imp"
   ]
  },
  {
   "cell_type": "code",
   "execution_count": 414,
   "metadata": {
    "collapsed": false
   },
   "outputs": [],
   "source": [
    "feature_imp_sorted = sorted(feature_imp.items(), key =lambda x : x[1], reverse = True)"
   ]
  },
  {
   "cell_type": "code",
   "execution_count": 415,
   "metadata": {
    "collapsed": false
   },
   "outputs": [
    {
     "data": {
      "text/plain": [
       "[('attention', 0.13140841227058783),\n",
       " ('gamma2', 0.10287504392675298),\n",
       " ('delta', 0.099302454940374069),\n",
       " ('theta', 0.096180801454999659),\n",
       " ('gamma1', 0.093306753903431044),\n",
       " ('beta2', 0.090117590715446463),\n",
       " ('beta1', 0.078219686202722405),\n",
       " ('alpha2', 0.071647524448302038),\n",
       " ('meditation', 0.064241362019138007),\n",
       " ('raw', 0.060707461856992995),\n",
       " ('age', 0.056576377109705069),\n",
       " ('alpha1', 0.055416531151547474)]"
      ]
     },
     "execution_count": 415,
     "metadata": {},
     "output_type": "execute_result"
    }
   ],
   "source": [
    "# Random forest clasifier assigns an importance value to each feature in training\n",
    "feature_imp_sorted"
   ]
  },
  {
   "cell_type": "code",
   "execution_count": 349,
   "metadata": {
    "collapsed": true
   },
   "outputs": [],
   "source": [
    "# Hyper-parameter tuning\n",
    "max_features = [2,3,4,6]\n",
    "max_depth = [x for x in range(2,10)]\n",
    "n_estimators = [y for y in range(2,100)]"
   ]
  },
  {
   "cell_type": "code",
   "execution_count": 350,
   "metadata": {
    "collapsed": false
   },
   "outputs": [],
   "source": [
    "highest_acc = 0\n",
    "def RandomForestParameterTuning():\n",
    "    global highest_acc\n",
    "    for j in max_features:\n",
    "        for k in max_depth:\n",
    "            for l in n_estimators:                 \n",
    "                rf_model = RandomForestClassifier(n_estimators = l, max_depth = k,\n",
    "                                                  max_features = j, oob_score = True)\n",
    "                rf_model.fit(X = dat_validation[features], y = dat_validation_target)\n",
    "                if rf_model.oob_score_ > highest_acc:\n",
    "                    highest_acc = rf_model.oob_score_\n",
    "                    print('found higher acc at.. num trees :' , l, ' num_depth : ', k, ' max_features : ', j, ' acc : ', rf_model.oob_score_)"
   ]
  },
  {
   "cell_type": "code",
   "execution_count": 346,
   "metadata": {
    "collapsed": true
   },
   "outputs": [],
   "source": [
    "highest_acc = 0\n",
    "def RandomForestParameterTuning():\n",
    "    global highest_acc\n",
    "    for j in max_features:\n",
    "        for k in max_depth:\n",
    "            for l in n_estimators:                 \n",
    "                rf_model = RandomForestClassifier(criterion = 'entropy', n_estimators = l, max_depth = k,\n",
    "                                                  max_features = j, oob_score = True)\n",
    "                rf_model.fit(X = dat_train[features], y = dat_train_target)\n",
    "                if rf_model.oob_score_ > highest_acc:\n",
    "                    highest_acc = rf_model.oob_score_\n",
    "                    print('found higher acc at.. num trees :' , l, ' num_depth : ', k, ' max_features : ', j, ' acc : ', rf_model.oob_score_)"
   ]
  },
  {
   "cell_type": "code",
   "execution_count": 351,
   "metadata": {
    "collapsed": false
   },
   "outputs": [
    {
     "name": "stdout",
     "output_type": "stream",
     "text": [
      "found higher acc at.. num trees : 2  num_depth :  2  max_features :  2  acc :  0.542995169082\n",
      "found higher acc at.. num trees : 4  num_depth :  2  max_features :  2  acc :  0.545410628019\n",
      "found higher acc at.. num trees : 5  num_depth :  2  max_features :  2  acc :  0.561352657005\n",
      "found higher acc at.. num trees : 7  num_depth :  2  max_features :  2  acc :  0.565217391304\n",
      "found higher acc at.. num trees : 9  num_depth :  2  max_features :  2  acc :  0.582608695652\n",
      "found higher acc at.. num trees : 12  num_depth :  2  max_features :  2  acc :  0.589371980676\n",
      "found higher acc at.. num trees : 15  num_depth :  2  max_features :  2  acc :  0.589855072464\n",
      "found higher acc at.. num trees : 17  num_depth :  2  max_features :  2  acc :  0.595652173913\n",
      "found higher acc at.. num trees : 20  num_depth :  2  max_features :  2  acc :  0.598550724638\n",
      "found higher acc at.. num trees : 27  num_depth :  2  max_features :  2  acc :  0.6\n",
      "found higher acc at.. num trees : 28  num_depth :  2  max_features :  2  acc :  0.602898550725\n",
      "found higher acc at.. num trees : 39  num_depth :  2  max_features :  2  acc :  0.605314009662\n",
      "found higher acc at.. num trees : 42  num_depth :  2  max_features :  2  acc :  0.609178743961\n",
      "found higher acc at.. num trees : 51  num_depth :  3  max_features :  2  acc :  0.612560386473\n",
      "found higher acc at.. num trees : 29  num_depth :  4  max_features :  2  acc :  0.616425120773\n",
      "found higher acc at.. num trees : 50  num_depth :  4  max_features :  2  acc :  0.624154589372\n",
      "found higher acc at.. num trees : 32  num_depth :  5  max_features :  2  acc :  0.624637681159\n",
      "found higher acc at.. num trees : 34  num_depth :  5  max_features :  2  acc :  0.626086956522\n",
      "found higher acc at.. num trees : 40  num_depth :  5  max_features :  2  acc :  0.629951690821\n",
      "found higher acc at.. num trees : 60  num_depth :  5  max_features :  2  acc :  0.633816425121\n",
      "found higher acc at.. num trees : 99  num_depth :  5  max_features :  2  acc :  0.634299516908\n",
      "found higher acc at.. num trees : 43  num_depth :  6  max_features :  2  acc :  0.639130434783\n",
      "found higher acc at.. num trees : 59  num_depth :  7  max_features :  2  acc :  0.64154589372\n",
      "found higher acc at.. num trees : 96  num_depth :  7  max_features :  2  acc :  0.642512077295\n",
      "found higher acc at.. num trees : 58  num_depth :  8  max_features :  2  acc :  0.645410628019\n",
      "found higher acc at.. num trees : 77  num_depth :  8  max_features :  2  acc :  0.647342995169\n",
      "found higher acc at.. num trees : 78  num_depth :  9  max_features :  2  acc :  0.650724637681\n",
      "found higher acc at.. num trees : 97  num_depth :  9  max_features :  2  acc :  0.653623188406\n",
      "found higher acc at.. num trees : 59  num_depth :  8  max_features :  3  acc :  0.657971014493\n",
      "found higher acc at.. num trees : 64  num_depth :  8  max_features :  4  acc :  0.659903381643\n",
      "found higher acc at.. num trees : 95  num_depth :  8  max_features :  4  acc :  0.660869565217\n",
      "found higher acc at.. num trees : 98  num_depth :  8  max_features :  6  acc :  0.661352657005\n",
      "found higher acc at.. num trees : 61  num_depth :  9  max_features :  6  acc :  0.661835748792\n"
     ]
    }
   ],
   "source": [
    "RandomForestParameterTuning()"
   ]
  },
  {
   "cell_type": "code",
   "execution_count": null,
   "metadata": {
    "collapsed": true
   },
   "outputs": [],
   "source": [
    "# RF with entropy, n_estimator : 45, max_features : 3, depth 9 gives the highest acc 67.2\n",
    "# RF with gini-index, n_estimator : 45, max_features : 6, depth 9 gives 67.9\n",
    "\n",
    "# Running on validation set gives\n",
    "#found higher acc at.. num trees : 61  num_depth :  9  max_features :  6  acc :  0.661835748792\n",
    "\n"
   ]
  },
  {
   "cell_type": "markdown",
   "metadata": {},
   "source": [
    "### Random Forest with Feature Selection "
   ]
  },
  {
   "cell_type": "code",
   "execution_count": 23,
   "metadata": {
    "collapsed": false
   },
   "outputs": [],
   "source": [
    "impo_dat_train = dat_train.loc[:, ['attention', 'gamma2', 'delta', 'theta', 'gamma1', 'beta2']]\n",
    "impo_features = ['attention', 'gamma2', 'delta', 'theta', 'gamma1', 'beta2']\n",
    "\n",
    "# Hyper-parameter tuning\n",
    "max_features = [2,3,6]\n",
    "max_depth = [x for x in range(2,10)]\n",
    "n_estimators = [y for y in range(2,100)]"
   ]
  },
  {
   "cell_type": "code",
   "execution_count": 376,
   "metadata": {
    "collapsed": true
   },
   "outputs": [],
   "source": [
    "highest_acc = 0\n",
    "def RandomForestParameterTuning():\n",
    "    global highest_acc\n",
    "    for j in max_features:\n",
    "        for k in max_depth:\n",
    "            for l in n_estimators:                 \n",
    "                rf_model = RandomForestClassifier(criterion = 'entropy', n_estimators = l, max_depth = k,\n",
    "                                                  max_features = j, oob_score = True)\n",
    "                rf_model.fit(X = impo_dat_train[impo_features], y = dat_train_target)\n",
    "                if rf_model.oob_score_ > highest_acc:\n",
    "                    highest_acc = rf_model.oob_score_\n",
    "                    print('found higher acc at.. num trees :' , l, ' num_depth : ', k, ' max_features : ', j, ' acc : ', rf_model.oob_score_)"
   ]
  },
  {
   "cell_type": "code",
   "execution_count": 416,
   "metadata": {
    "collapsed": false
   },
   "outputs": [],
   "source": [
    "# RandomForestParameterTuning()"
   ]
  },
  {
   "cell_type": "markdown",
   "metadata": {},
   "source": [
    "### Decide the optimal Tree "
   ]
  },
  {
   "cell_type": "code",
   "execution_count": 419,
   "metadata": {
    "collapsed": true
   },
   "outputs": [],
   "source": [
    "accuracy = []\n",
    "n_estimators = [z for z in range(2,300)]\n",
    "def OptimalTreeFinder():\n",
    "    for l in n_estimators:                 \n",
    "        rf_model = RandomForestClassifier(n_estimators = l, max_depth = 9,\n",
    "                                          max_features = 2, oob_score = True)\n",
    "        rf_model.fit(X = dat_train[features], y = dat_train_target)\n",
    "        accuracy.append(rf_model.oob_score_)"
   ]
  },
  {
   "cell_type": "code",
   "execution_count": 420,
   "metadata": {
    "collapsed": false
   },
   "outputs": [],
   "source": [
    "OptimalTreeFinder()"
   ]
  },
  {
   "cell_type": "code",
   "execution_count": 428,
   "metadata": {
    "collapsed": false
   },
   "outputs": [
    {
     "data": {
      "image/png": "[encoded data removed]",
      "text/plain": [
       "<matplotlib.figure.Figure at 0x11e442710>"
      ]
     },
     "metadata": {},
     "output_type": "display_data"
    }
   ],
   "source": [
    "plt.plot([x for x in range(len(accuracy))], accuracy)\n",
    "plt.xlabel('The number of trees')\n",
    "plt.ylabel('Accuracy')\n",
    "plt.title('Accuracy over the number of trees')\n",
    "plt.show()"
   ]
  },
  {
   "cell_type": "code",
   "execution_count": 436,
   "metadata": {
    "collapsed": false
   },
   "outputs": [
    {
     "data": {
      "text/plain": [
       "array([[644, 355],\n",
       "       [325, 746]])"
      ]
     },
     "execution_count": 436,
     "metadata": {},
     "output_type": "execute_result"
    }
   ],
   "source": [
    "rf_pred = rf_model.predict(dat_test)\n",
    "cm4 = confusion_matrix(dat_test_target, rf_pred)\n",
    "cm4"
   ]
  },
  {
   "cell_type": "code",
   "execution_count": 437,
   "metadata": {
    "collapsed": false
   },
   "outputs": [
    {
     "name": "stdout",
     "output_type": "stream",
     "text": [
      "Accuracy : 0.671\n"
     ]
    }
   ],
   "source": [
    "print(\"Accuracy : {0:.3f}\".format(metrics.accuracy_score(dat_test_target, rf_pred)))"
   ]
  },
  {
   "cell_type": "code",
   "execution_count": 438,
   "metadata": {
    "collapsed": false
   },
   "outputs": [
    {
     "name": "stdout",
     "output_type": "stream",
     "text": [
      "             precision    recall  f1-score   support\n",
      "\n",
      "          0       0.66      0.64      0.65       999\n",
      "          1       0.68      0.70      0.69      1071\n",
      "\n",
      "avg / total       0.67      0.67      0.67      2070\n",
      "\n",
      "\n"
     ]
    }
   ],
   "source": [
    "# Show classification report\n",
    "print(metrics.classification_report(dat_test_target, rf_pred)+\"\\n\")"
   ]
  },
  {
   "cell_type": "markdown",
   "metadata": {
    "collapsed": true
   },
   "source": [
    "### Build a model with optimized hyper-parameter"
   ]
  },
  {
   "cell_type": "code",
   "execution_count": 351,
   "metadata": {
    "collapsed": true
   },
   "outputs": [],
   "source": [
    "# RF with gini-index, n_estimator : 45, max_features : 6, depth 9 gives 67.9\n",
    "np.random.seed(1234)\n",
    "final_rf_model = RandomForestClassifier(n_estimators = 45, max_depth = 9,\n",
    "                                 max_features = 6, oob_score = True)"
   ]
  },
  {
   "cell_type": "code",
   "execution_count": 352,
   "metadata": {
    "collapsed": false
   },
   "outputs": [
    {
     "name": "stderr",
     "output_type": "stream",
     "text": [
      "//anaconda/lib/python3.5/site-packages/ipykernel/__main__.py:1: DataConversionWarning: A column-vector y was passed when a 1d array was expected. Please change the shape of y to (n_samples,), for example using ravel().\n",
      "  if __name__ == '__main__':\n"
     ]
    },
    {
     "data": {
      "text/plain": [
       "RandomForestClassifier(bootstrap=True, class_weight=None, criterion='gini',\n",
       "            max_depth=9, max_features=6, max_leaf_nodes=None,\n",
       "            min_samples_leaf=1, min_samples_split=2,\n",
       "            min_weight_fraction_leaf=0.0, n_estimators=45, n_jobs=1,\n",
       "            oob_score=True, random_state=None, verbose=0, warm_start=False)"
      ]
     },
     "execution_count": 352,
     "metadata": {},
     "output_type": "execute_result"
    }
   ],
   "source": [
    "final_rf_model.fit(X = dat_train, y = dat_train_target)"
   ]
  },
  {
   "cell_type": "code",
   "execution_count": 353,
   "metadata": {
    "collapsed": false
   },
   "outputs": [],
   "source": [
    "final_rf_pred = final_rf_model.predict(dat_test)"
   ]
  },
  {
   "cell_type": "code",
   "execution_count": 354,
   "metadata": {
    "collapsed": false
   },
   "outputs": [
    {
     "data": {
      "text/plain": [
       "array([[648, 351],\n",
       "       [328, 743]])"
      ]
     },
     "execution_count": 354,
     "metadata": {},
     "output_type": "execute_result"
    }
   ],
   "source": [
    "cm5 = confusion_matrix(dat_test_target, final_rf_pred)\n",
    "cm5"
   ]
  },
  {
   "cell_type": "code",
   "execution_count": 355,
   "metadata": {
    "collapsed": false
   },
   "outputs": [
    {
     "name": "stdout",
     "output_type": "stream",
     "text": [
      "             precision    recall  f1-score   support\n",
      "\n",
      "          0       0.66      0.65      0.66       999\n",
      "          1       0.68      0.69      0.69      1071\n",
      "\n",
      "avg / total       0.67      0.67      0.67      2070\n",
      "\n",
      "\n"
     ]
    }
   ],
   "source": [
    "# Show classification report\n",
    "print(metrics.classification_report(dat_test_target, final_rf_pred)+\"\\n\")"
   ]
  },
  {
   "cell_type": "code",
   "execution_count": 356,
   "metadata": {
    "collapsed": false
   },
   "outputs": [
    {
     "name": "stdout",
     "output_type": "stream",
     "text": [
      "Accuracy : 0.672\n"
     ]
    }
   ],
   "source": [
    "print(\"Accuracy : {0:.3f}\".format(metrics.accuracy_score(dat_test_target, final_rf_pred)))"
   ]
  },
  {
   "cell_type": "markdown",
   "metadata": {},
   "source": [
    "## Increase size of training set"
   ]
  },
  {
   "cell_type": "code",
   "execution_count": 256,
   "metadata": {
    "collapsed": false
   },
   "outputs": [],
   "source": [
    "dat.head()\n",
    "new_dat2 = dat.iloc[:,2:14]"
   ]
  },
  {
   "cell_type": "code",
   "execution_count": 261,
   "metadata": {
    "collapsed": false
   },
   "outputs": [
    {
     "data": {
      "text/plain": [
       "(10350, 13)"
      ]
     },
     "execution_count": 261,
     "metadata": {},
     "output_type": "execute_result"
    }
   ],
   "source": [
    "# Make a new dataframe with target variable\n",
    "new_dat2['Target'] = dat.iloc[:, 20]\n",
    "new_dat2.shape"
   ]
  },
  {
   "cell_type": "code",
   "execution_count": 102,
   "metadata": {
    "collapsed": false
   },
   "outputs": [],
   "source": [
    "def calculate_mn(dd):\n",
    "    idx = 0\n",
    "    container = []\n",
    "    while True:\n",
    "        if idx == dd.shape[0]-1:\n",
    "            break\n",
    "        else:\n",
    "            mean = (dd[idx] + dd[idx+1]) / 2\n",
    "            container.append(mean)\n",
    "            idx = idx + 1\n",
    "        \n",
    "    return container"
   ]
  },
  {
   "cell_type": "code",
   "execution_count": 145,
   "metadata": {
    "collapsed": false
   },
   "outputs": [],
   "source": [
    "haha = new_dat.apply(lambda x: calculate_mn(x), axis=0)"
   ]
  },
  {
   "cell_type": "code",
   "execution_count": 265,
   "metadata": {
    "collapsed": true
   },
   "outputs": [],
   "source": [
    "final_dat = pd.DataFrame(columns=new_dat2.columns)"
   ]
  },
  {
   "cell_type": "code",
   "execution_count": 266,
   "metadata": {
    "collapsed": false
   },
   "outputs": [],
   "source": [
    "for k in range(new_dat.shape[0]-1):\n",
    "    final_dat = final_dat.append(new_dat2.iloc[k]) \n",
    "    temp_dat = pd.DataFrame([(haha[j][k]) for j in range(12)]).T\n",
    "    temp_dat['Target'] = final_dat['Target'][k]\n",
    "    temp_dat.columns = final_dat.columns\n",
    "    final_dat = final_dat.append(temp_dat)"
   ]
  },
  {
   "cell_type": "code",
   "execution_count": 268,
   "metadata": {
    "collapsed": false
   },
   "outputs": [
    {
     "data": {
      "text/html": [
       "<div>\n",
       "<table border=\"1\" class=\"dataframe\">\n",
       "  <thead>\n",
       "    <tr style=\"text-align: right;\">\n",
       "      <th></th>\n",
       "      <th>attention</th>\n",
       "      <th>meditation</th>\n",
       "      <th>raw</th>\n",
       "      <th>delta</th>\n",
       "      <th>theta</th>\n",
       "      <th>alpha1</th>\n",
       "      <th>alpha2</th>\n",
       "      <th>beta1</th>\n",
       "      <th>beta2</th>\n",
       "      <th>gamma1</th>\n",
       "      <th>gamma2</th>\n",
       "      <th>age</th>\n",
       "      <th>Target</th>\n",
       "    </tr>\n",
       "  </thead>\n",
       "  <tbody>\n",
       "    <tr>\n",
       "      <th>0</th>\n",
       "      <td>0.060606</td>\n",
       "      <td>0.525773</td>\n",
       "      <td>0.689794</td>\n",
       "      <td>0.867288</td>\n",
       "      <td>0.535079</td>\n",
       "      <td>0.720607</td>\n",
       "      <td>0.478347</td>\n",
       "      <td>0.389121</td>\n",
       "      <td>0.477901</td>\n",
       "      <td>0.513935</td>\n",
       "      <td>0.503555</td>\n",
       "      <td>28.0</td>\n",
       "      <td>0.0</td>\n",
       "    </tr>\n",
       "    <tr>\n",
       "      <th>0</th>\n",
       "      <td>0.171717</td>\n",
       "      <td>0.510309</td>\n",
       "      <td>0.630304</td>\n",
       "      <td>0.890495</td>\n",
       "      <td>0.494873</td>\n",
       "      <td>0.643444</td>\n",
       "      <td>0.484620</td>\n",
       "      <td>0.487897</td>\n",
       "      <td>0.571580</td>\n",
       "      <td>0.563909</td>\n",
       "      <td>0.443723</td>\n",
       "      <td>28.0</td>\n",
       "      <td>0.0</td>\n",
       "    </tr>\n",
       "    <tr>\n",
       "      <th>1</th>\n",
       "      <td>0.282828</td>\n",
       "      <td>0.494845</td>\n",
       "      <td>0.570814</td>\n",
       "      <td>0.913702</td>\n",
       "      <td>0.454668</td>\n",
       "      <td>0.566280</td>\n",
       "      <td>0.490893</td>\n",
       "      <td>0.586673</td>\n",
       "      <td>0.665260</td>\n",
       "      <td>0.613883</td>\n",
       "      <td>0.383890</td>\n",
       "      <td>28.0</td>\n",
       "      <td>0.0</td>\n",
       "    </tr>\n",
       "    <tr>\n",
       "      <th>0</th>\n",
       "      <td>0.404040</td>\n",
       "      <td>0.618557</td>\n",
       "      <td>0.406823</td>\n",
       "      <td>0.843566</td>\n",
       "      <td>0.417335</td>\n",
       "      <td>0.569850</td>\n",
       "      <td>0.579724</td>\n",
       "      <td>0.615861</td>\n",
       "      <td>0.618316</td>\n",
       "      <td>0.640471</td>\n",
       "      <td>0.394078</td>\n",
       "      <td>28.0</td>\n",
       "      <td>0.0</td>\n",
       "    </tr>\n",
       "    <tr>\n",
       "      <th>2</th>\n",
       "      <td>0.525253</td>\n",
       "      <td>0.742268</td>\n",
       "      <td>0.242833</td>\n",
       "      <td>0.773431</td>\n",
       "      <td>0.380002</td>\n",
       "      <td>0.573420</td>\n",
       "      <td>0.668554</td>\n",
       "      <td>0.645050</td>\n",
       "      <td>0.571373</td>\n",
       "      <td>0.667059</td>\n",
       "      <td>0.404266</td>\n",
       "      <td>28.0</td>\n",
       "      <td>0.0</td>\n",
       "    </tr>\n",
       "  </tbody>\n",
       "</table>\n",
       "</div>"
      ],
      "text/plain": [
       "   attention  meditation       raw     delta     theta    alpha1    alpha2  \\\n",
       "0   0.060606    0.525773  0.689794  0.867288  0.535079  0.720607  0.478347   \n",
       "0   0.171717    0.510309  0.630304  0.890495  0.494873  0.643444  0.484620   \n",
       "1   0.282828    0.494845  0.570814  0.913702  0.454668  0.566280  0.490893   \n",
       "0   0.404040    0.618557  0.406823  0.843566  0.417335  0.569850  0.579724   \n",
       "2   0.525253    0.742268  0.242833  0.773431  0.380002  0.573420  0.668554   \n",
       "\n",
       "      beta1     beta2    gamma1    gamma2   age  Target  \n",
       "0  0.389121  0.477901  0.513935  0.503555  28.0     0.0  \n",
       "0  0.487897  0.571580  0.563909  0.443723  28.0     0.0  \n",
       "1  0.586673  0.665260  0.613883  0.383890  28.0     0.0  \n",
       "0  0.615861  0.618316  0.640471  0.394078  28.0     0.0  \n",
       "2  0.645050  0.571373  0.667059  0.404266  28.0     0.0  "
      ]
     },
     "execution_count": 268,
     "metadata": {},
     "output_type": "execute_result"
    }
   ],
   "source": [
    "final_dat.head()"
   ]
  },
  {
   "cell_type": "code",
   "execution_count": 320,
   "metadata": {
    "collapsed": false
   },
   "outputs": [],
   "source": [
    "final_dat.index = [x for x in range(final_dat.shape[0])]"
   ]
  },
  {
   "cell_type": "code",
   "execution_count": 318,
   "metadata": {
    "collapsed": false
   },
   "outputs": [
    {
     "data": {
      "text/html": [
       "<div>\n",
       "<table border=\"1\" class=\"dataframe\">\n",
       "  <thead>\n",
       "    <tr style=\"text-align: right;\">\n",
       "      <th></th>\n",
       "      <th>attention</th>\n",
       "      <th>meditation</th>\n",
       "      <th>raw</th>\n",
       "      <th>delta</th>\n",
       "      <th>theta</th>\n",
       "      <th>alpha1</th>\n",
       "      <th>alpha2</th>\n",
       "      <th>beta1</th>\n",
       "      <th>beta2</th>\n",
       "      <th>gamma1</th>\n",
       "      <th>gamma2</th>\n",
       "      <th>age</th>\n",
       "      <th>Target</th>\n",
       "    </tr>\n",
       "  </thead>\n",
       "  <tbody>\n",
       "    <tr>\n",
       "      <th>0</th>\n",
       "      <td>0.060606</td>\n",
       "      <td>0.525773</td>\n",
       "      <td>0.689794</td>\n",
       "      <td>0.867288</td>\n",
       "      <td>0.535079</td>\n",
       "      <td>0.720607</td>\n",
       "      <td>0.478347</td>\n",
       "      <td>0.389121</td>\n",
       "      <td>0.477901</td>\n",
       "      <td>0.513935</td>\n",
       "      <td>0.503555</td>\n",
       "      <td>28.0</td>\n",
       "      <td>0.0</td>\n",
       "    </tr>\n",
       "    <tr>\n",
       "      <th>1</th>\n",
       "      <td>0.171717</td>\n",
       "      <td>0.510309</td>\n",
       "      <td>0.630304</td>\n",
       "      <td>0.890495</td>\n",
       "      <td>0.494873</td>\n",
       "      <td>0.643444</td>\n",
       "      <td>0.484620</td>\n",
       "      <td>0.487897</td>\n",
       "      <td>0.571580</td>\n",
       "      <td>0.563909</td>\n",
       "      <td>0.443723</td>\n",
       "      <td>28.0</td>\n",
       "      <td>0.0</td>\n",
       "    </tr>\n",
       "    <tr>\n",
       "      <th>2</th>\n",
       "      <td>0.282828</td>\n",
       "      <td>0.494845</td>\n",
       "      <td>0.570814</td>\n",
       "      <td>0.913702</td>\n",
       "      <td>0.454668</td>\n",
       "      <td>0.566280</td>\n",
       "      <td>0.490893</td>\n",
       "      <td>0.586673</td>\n",
       "      <td>0.665260</td>\n",
       "      <td>0.613883</td>\n",
       "      <td>0.383890</td>\n",
       "      <td>28.0</td>\n",
       "      <td>0.0</td>\n",
       "    </tr>\n",
       "    <tr>\n",
       "      <th>3</th>\n",
       "      <td>0.404040</td>\n",
       "      <td>0.618557</td>\n",
       "      <td>0.406823</td>\n",
       "      <td>0.843566</td>\n",
       "      <td>0.417335</td>\n",
       "      <td>0.569850</td>\n",
       "      <td>0.579724</td>\n",
       "      <td>0.615861</td>\n",
       "      <td>0.618316</td>\n",
       "      <td>0.640471</td>\n",
       "      <td>0.394078</td>\n",
       "      <td>28.0</td>\n",
       "      <td>0.0</td>\n",
       "    </tr>\n",
       "    <tr>\n",
       "      <th>4</th>\n",
       "      <td>0.525253</td>\n",
       "      <td>0.742268</td>\n",
       "      <td>0.242833</td>\n",
       "      <td>0.773431</td>\n",
       "      <td>0.380002</td>\n",
       "      <td>0.573420</td>\n",
       "      <td>0.668554</td>\n",
       "      <td>0.645050</td>\n",
       "      <td>0.571373</td>\n",
       "      <td>0.667059</td>\n",
       "      <td>0.404266</td>\n",
       "      <td>28.0</td>\n",
       "      <td>0.0</td>\n",
       "    </tr>\n",
       "  </tbody>\n",
       "</table>\n",
       "</div>"
      ],
      "text/plain": [
       "   attention  meditation       raw     delta     theta    alpha1    alpha2  \\\n",
       "0   0.060606    0.525773  0.689794  0.867288  0.535079  0.720607  0.478347   \n",
       "1   0.171717    0.510309  0.630304  0.890495  0.494873  0.643444  0.484620   \n",
       "2   0.282828    0.494845  0.570814  0.913702  0.454668  0.566280  0.490893   \n",
       "3   0.404040    0.618557  0.406823  0.843566  0.417335  0.569850  0.579724   \n",
       "4   0.525253    0.742268  0.242833  0.773431  0.380002  0.573420  0.668554   \n",
       "\n",
       "      beta1     beta2    gamma1    gamma2   age  Target  \n",
       "0  0.389121  0.477901  0.513935  0.503555  28.0     0.0  \n",
       "1  0.487897  0.571580  0.563909  0.443723  28.0     0.0  \n",
       "2  0.586673  0.665260  0.613883  0.383890  28.0     0.0  \n",
       "3  0.615861  0.618316  0.640471  0.394078  28.0     0.0  \n",
       "4  0.645050  0.571373  0.667059  0.404266  28.0     0.0  "
      ]
     },
     "execution_count": 318,
     "metadata": {},
     "output_type": "execute_result"
    }
   ],
   "source": []
  },
  {
   "cell_type": "markdown",
   "metadata": {},
   "source": [
    "## Separate training/testing"
   ]
  },
  {
   "cell_type": "code",
   "execution_count": 357,
   "metadata": {
    "collapsed": true
   },
   "outputs": [],
   "source": [
    "dat_train2, dat_test2, dat_train_target2, dat_test_target2 = train_test_split(final_dat, final_dat['Target'], test_size=0.2)"
   ]
  },
  {
   "cell_type": "code",
   "execution_count": 358,
   "metadata": {
    "collapsed": true
   },
   "outputs": [],
   "source": [
    "final_rf_model = RandomForestClassifier(n_estimators = 45, max_depth = 9,\n",
    "                                 max_features = 6, oob_score = True)"
   ]
  },
  {
   "cell_type": "code",
   "execution_count": 359,
   "metadata": {
    "collapsed": false
   },
   "outputs": [
    {
     "data": {
      "text/plain": [
       "RandomForestClassifier(bootstrap=True, class_weight=None, criterion='gini',\n",
       "            max_depth=9, max_features=6, max_leaf_nodes=None,\n",
       "            min_samples_leaf=1, min_samples_split=2,\n",
       "            min_weight_fraction_leaf=0.0, n_estimators=45, n_jobs=1,\n",
       "            oob_score=True, random_state=None, verbose=0, warm_start=False)"
      ]
     },
     "execution_count": 359,
     "metadata": {},
     "output_type": "execute_result"
    }
   ],
   "source": [
    "final_rf_model.fit(X = dat_train2, y = dat_train_target2)"
   ]
  },
  {
   "cell_type": "code",
   "execution_count": 360,
   "metadata": {
    "collapsed": true
   },
   "outputs": [],
   "source": [
    "final_rf_pred = final_rf_model.predict(dat_test2)"
   ]
  },
  {
   "cell_type": "code",
   "execution_count": 361,
   "metadata": {
    "collapsed": false
   },
   "outputs": [
    {
     "data": {
      "text/plain": [
       "array([[1981,    0],\n",
       "       [   0, 2159]])"
      ]
     },
     "execution_count": 361,
     "metadata": {},
     "output_type": "execute_result"
    }
   ],
   "source": [
    "cm6 = confusion_matrix(dat_test_target2, final_rf_pred)\n",
    "cm6"
   ]
  },
  {
   "cell_type": "code",
   "execution_count": 362,
   "metadata": {
    "collapsed": false
   },
   "outputs": [
    {
     "name": "stdout",
     "output_type": "stream",
     "text": [
      "Accuracy : 1.000\n"
     ]
    }
   ],
   "source": [
    "print(\"Accuracy : {0:.3f}\".format(metrics.accuracy_score(dat_test_target2, final_rf_pred)))"
   ]
  },
  {
   "cell_type": "code",
   "execution_count": 330,
   "metadata": {
    "collapsed": false
   },
   "outputs": [
    {
     "name": "stdout",
     "output_type": "stream",
     "text": [
      "             precision    recall  f1-score   support\n",
      "\n",
      "        0.0       1.00      1.00      1.00      1996\n",
      "        1.0       1.00      1.00      1.00      2144\n",
      "\n",
      "avg / total       1.00      1.00      1.00      4140\n",
      "\n",
      "\n"
     ]
    }
   ],
   "source": [
    "# Show classification report\n",
    "print(metrics.classification_report(dat_test_target2, final_rf_pred)+\"\\n\")"
   ]
  },
  {
   "cell_type": "code",
   "execution_count": 331,
   "metadata": {
    "collapsed": false
   },
   "outputs": [
    {
     "data": {
      "text/plain": [
       "DecisionTreeClassifier(class_weight=None, criterion='gini', max_depth=None,\n",
       "            max_features=None, max_leaf_nodes=None, min_samples_leaf=1,\n",
       "            min_samples_split=2, min_weight_fraction_leaf=0.0,\n",
       "            presort=False, random_state=None, splitter='best')"
      ]
     },
     "execution_count": 331,
     "metadata": {},
     "output_type": "execute_result"
    }
   ],
   "source": [
    "dt = tree.DecisionTreeClassifier()\n",
    "dt"
   ]
  },
  {
   "cell_type": "code",
   "execution_count": 332,
   "metadata": {
    "collapsed": false
   },
   "outputs": [
    {
     "name": "stdout",
     "output_type": "stream",
     "text": [
      "[ 0.  1.  1.  1.  0.  1.  0.  1.  0.  0.  0.  0.  1.  0.  0.  0.  0.  0.\n",
      "  1.  0.  1.  1.  1.  1.  0.  1.  1.  1.  0.  1.]\n"
     ]
    },
    {
     "data": {
      "text/plain": [
       "array([[1996,    0],\n",
       "       [   0, 2144]])"
      ]
     },
     "execution_count": 332,
     "metadata": {},
     "output_type": "execute_result"
    }
   ],
   "source": [
    "dt = dt.fit(dat_train2, dat_train_target2)\n",
    "dt_prediction = dt.predict(dat_test2)\n",
    "print(dt_prediction[:30])\n",
    "cm = confusion_matrix(dat_test_target2, dt_prediction)\n",
    "cm"
   ]
  },
  {
   "cell_type": "code",
   "execution_count": null,
   "metadata": {
    "collapsed": true
   },
   "outputs": [],
   "source": []
  }
 ],
 "metadata": {
  "anaconda-cloud": {},
  "kernelspec": {
   "display_name": "Python [Root]",
   "language": "python",
   "name": "Python [Root]"
  },
  "language_info": {
   "codemirror_mode": {
    "name": "ipython",
    "version": 3
   },
   "file_extension": ".py",
   "mimetype": "text/x-python",
   "name": "python",
   "nbconvert_exporter": "python",
   "pygments_lexer": "ipython3",
   "version": "3.5.2"
  },
  "nav_menu": {},
  "toc": {
   "navigate_menu": true,
   "number_sections": true,
   "sideBar": true,
   "threshold": 6,
   "toc_cell": false,
   "toc_section_display": "block",
   "toc_window_display": false
  }
 },
 "nbformat": 4,
 "nbformat_minor": 0
}
