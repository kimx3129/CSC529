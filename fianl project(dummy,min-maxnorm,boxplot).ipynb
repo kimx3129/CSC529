{
 "cells": [
  {
   "cell_type": "code",
   "execution_count": 8,
   "metadata": {
    "collapsed": false
   },
   "outputs": [
    {
     "name": "stdout",
     "output_type": "stream",
     "text": [
      "C:\\Users\\Choi Hyun You\\Desktop\\csc529\\project\n"
     ]
    }
   ],
   "source": [
    "cd C:\\Users\\Choi Hyun You\\Desktop\\csc529\\project"
   ]
  },
  {
   "cell_type": "code",
   "execution_count": 9,
   "metadata": {
    "collapsed": false
   },
   "outputs": [],
   "source": [
    "import numpy as np\n",
    "import pandas as pd\n",
    "\n",
    "%matplotlib inline\n",
    "import matplotlib.pyplot as plt"
   ]
  },
  {
   "cell_type": "code",
   "execution_count": 115,
   "metadata": {
    "collapsed": false
   },
   "outputs": [],
   "source": [
    "data = pd.read_csv(\"EEG_merged.csv\", sep=',')"
   ]
  },
  {
   "cell_type": "code",
   "execution_count": 116,
   "metadata": {
    "collapsed": true
   },
   "outputs": [],
   "source": [
    "new_data = data[data[\"subject ID\"] != 6]"
   ]
  },
  {
   "cell_type": "code",
   "execution_count": 30,
   "metadata": {
    "collapsed": false
   },
   "outputs": [],
   "source": [
    "Mean= data.groupby(['subject ID']).mean()"
   ]
  },
  {
   "cell_type": "code",
   "execution_count": 31,
   "metadata": {
    "collapsed": false
   },
   "outputs": [
    {
     "data": {
      "text/html": [
       "<div>\n",
       "<table border=\"1\" class=\"dataframe\">\n",
       "  <thead>\n",
       "    <tr style=\"text-align: right;\">\n",
       "      <th></th>\n",
       "      <th>Video ID</th>\n",
       "      <th>Attention</th>\n",
       "      <th>Meditation</th>\n",
       "      <th>Raw</th>\n",
       "      <th>Delta</th>\n",
       "      <th>Theta</th>\n",
       "      <th>Alpha 1</th>\n",
       "      <th>Alpha 2</th>\n",
       "      <th>Beta 1</th>\n",
       "      <th>Beta 2</th>\n",
       "      <th>Gamma1</th>\n",
       "      <th>Gamma2</th>\n",
       "      <th>predefined label</th>\n",
       "      <th>Self-defined label</th>\n",
       "    </tr>\n",
       "    <tr>\n",
       "      <th>subject ID</th>\n",
       "      <th></th>\n",
       "      <th></th>\n",
       "      <th></th>\n",
       "      <th></th>\n",
       "      <th></th>\n",
       "      <th></th>\n",
       "      <th></th>\n",
       "      <th></th>\n",
       "      <th></th>\n",
       "      <th></th>\n",
       "      <th></th>\n",
       "      <th></th>\n",
       "      <th></th>\n",
       "      <th></th>\n",
       "    </tr>\n",
       "  </thead>\n",
       "  <tbody>\n",
       "    <tr>\n",
       "      <th>0</th>\n",
       "      <td>4.313243</td>\n",
       "      <td>48.630452</td>\n",
       "      <td>48.571768</td>\n",
       "      <td>33.042030</td>\n",
       "      <td>684941.555908</td>\n",
       "      <td>165919.786677</td>\n",
       "      <td>35990.755749</td>\n",
       "      <td>24487.685964</td>\n",
       "      <td>20288.437748</td>\n",
       "      <td>37128.914354</td>\n",
       "      <td>38343.019826</td>\n",
       "      <td>15736.938937</td>\n",
       "      <td>0.473434</td>\n",
       "      <td>0.511499</td>\n",
       "    </tr>\n",
       "    <tr>\n",
       "      <th>1</th>\n",
       "      <td>4.461184</td>\n",
       "      <td>45.561107</td>\n",
       "      <td>57.935434</td>\n",
       "      <td>33.599539</td>\n",
       "      <td>428179.287471</td>\n",
       "      <td>125888.289777</td>\n",
       "      <td>31765.673328</td>\n",
       "      <td>22985.478094</td>\n",
       "      <td>20740.016141</td>\n",
       "      <td>13590.006918</td>\n",
       "      <td>7021.468870</td>\n",
       "      <td>4535.732513</td>\n",
       "      <td>0.489623</td>\n",
       "      <td>0.402767</td>\n",
       "    </tr>\n",
       "    <tr>\n",
       "      <th>2</th>\n",
       "      <td>4.433801</td>\n",
       "      <td>55.971184</td>\n",
       "      <td>60.865265</td>\n",
       "      <td>33.904984</td>\n",
       "      <td>39549.890966</td>\n",
       "      <td>19263.661994</td>\n",
       "      <td>7781.796729</td>\n",
       "      <td>8248.434579</td>\n",
       "      <td>7975.485202</td>\n",
       "      <td>8410.145639</td>\n",
       "      <td>4621.512461</td>\n",
       "      <td>3556.214953</td>\n",
       "      <td>0.482866</td>\n",
       "      <td>0.508567</td>\n",
       "    </tr>\n",
       "    <tr>\n",
       "      <th>3</th>\n",
       "      <td>4.432268</td>\n",
       "      <td>40.044140</td>\n",
       "      <td>45.648402</td>\n",
       "      <td>34.219178</td>\n",
       "      <td>780844.464231</td>\n",
       "      <td>221221.465753</td>\n",
       "      <td>52551.698630</td>\n",
       "      <td>34068.783105</td>\n",
       "      <td>23391.176560</td>\n",
       "      <td>24573.475647</td>\n",
       "      <td>12363.896499</td>\n",
       "      <td>5303.480213</td>\n",
       "      <td>0.384323</td>\n",
       "      <td>0.493912</td>\n",
       "    </tr>\n",
       "    <tr>\n",
       "      <th>4</th>\n",
       "      <td>4.440154</td>\n",
       "      <td>44.895753</td>\n",
       "      <td>52.888803</td>\n",
       "      <td>38.635521</td>\n",
       "      <td>363673.088031</td>\n",
       "      <td>108926.853282</td>\n",
       "      <td>25011.400772</td>\n",
       "      <td>19826.601544</td>\n",
       "      <td>17363.406950</td>\n",
       "      <td>15166.986100</td>\n",
       "      <td>11229.140541</td>\n",
       "      <td>8828.527413</td>\n",
       "      <td>0.487259</td>\n",
       "      <td>0.584556</td>\n",
       "    </tr>\n",
       "    <tr>\n",
       "      <th>5</th>\n",
       "      <td>4.315372</td>\n",
       "      <td>46.616482</td>\n",
       "      <td>54.213946</td>\n",
       "      <td>34.487322</td>\n",
       "      <td>751906.218700</td>\n",
       "      <td>241902.458003</td>\n",
       "      <td>58220.128368</td>\n",
       "      <td>39022.931854</td>\n",
       "      <td>26944.388273</td>\n",
       "      <td>23847.141838</td>\n",
       "      <td>13674.559429</td>\n",
       "      <td>4347.840729</td>\n",
       "      <td>0.473851</td>\n",
       "      <td>0.607765</td>\n",
       "    </tr>\n",
       "    <tr>\n",
       "      <th>6</th>\n",
       "      <td>4.408627</td>\n",
       "      <td>0.000000</td>\n",
       "      <td>0.000000</td>\n",
       "      <td>348.143529</td>\n",
       "      <td>748472.609412</td>\n",
       "      <td>251335.407843</td>\n",
       "      <td>66816.250980</td>\n",
       "      <td>78602.474510</td>\n",
       "      <td>61069.448627</td>\n",
       "      <td>160509.882353</td>\n",
       "      <td>144203.941176</td>\n",
       "      <td>70526.086275</td>\n",
       "      <td>0.479216</td>\n",
       "      <td>0.500392</td>\n",
       "    </tr>\n",
       "    <tr>\n",
       "      <th>7</th>\n",
       "      <td>4.387931</td>\n",
       "      <td>44.844044</td>\n",
       "      <td>50.167712</td>\n",
       "      <td>36.307994</td>\n",
       "      <td>568962.452978</td>\n",
       "      <td>130318.122257</td>\n",
       "      <td>30058.974138</td>\n",
       "      <td>20911.165361</td>\n",
       "      <td>18988.803292</td>\n",
       "      <td>28899.112853</td>\n",
       "      <td>21948.364420</td>\n",
       "      <td>15656.793103</td>\n",
       "      <td>0.479624</td>\n",
       "      <td>0.618339</td>\n",
       "    </tr>\n",
       "    <tr>\n",
       "      <th>8</th>\n",
       "      <td>4.393916</td>\n",
       "      <td>43.990640</td>\n",
       "      <td>50.177847</td>\n",
       "      <td>35.666147</td>\n",
       "      <td>830712.153666</td>\n",
       "      <td>236931.875195</td>\n",
       "      <td>54706.961778</td>\n",
       "      <td>38513.213729</td>\n",
       "      <td>26461.799532</td>\n",
       "      <td>24249.097504</td>\n",
       "      <td>15605.233229</td>\n",
       "      <td>9436.329173</td>\n",
       "      <td>0.482059</td>\n",
       "      <td>0.402496</td>\n",
       "    </tr>\n",
       "    <tr>\n",
       "      <th>9</th>\n",
       "      <td>4.313243</td>\n",
       "      <td>42.507534</td>\n",
       "      <td>51.110230</td>\n",
       "      <td>29.070579</td>\n",
       "      <td>870734.973830</td>\n",
       "      <td>180547.519429</td>\n",
       "      <td>51447.114195</td>\n",
       "      <td>45816.708168</td>\n",
       "      <td>20216.413957</td>\n",
       "      <td>46573.854084</td>\n",
       "      <td>28369.115781</td>\n",
       "      <td>6730.126090</td>\n",
       "      <td>0.473434</td>\n",
       "      <td>0.498810</td>\n",
       "    </tr>\n",
       "  </tbody>\n",
       "</table>\n",
       "</div>"
      ],
      "text/plain": [
       "            Video ID  Attention  Meditation         Raw          Delta  \\\n",
       "subject ID                                                               \n",
       "0           4.313243  48.630452   48.571768   33.042030  684941.555908   \n",
       "1           4.461184  45.561107   57.935434   33.599539  428179.287471   \n",
       "2           4.433801  55.971184   60.865265   33.904984   39549.890966   \n",
       "3           4.432268  40.044140   45.648402   34.219178  780844.464231   \n",
       "4           4.440154  44.895753   52.888803   38.635521  363673.088031   \n",
       "5           4.315372  46.616482   54.213946   34.487322  751906.218700   \n",
       "6           4.408627   0.000000    0.000000  348.143529  748472.609412   \n",
       "7           4.387931  44.844044   50.167712   36.307994  568962.452978   \n",
       "8           4.393916  43.990640   50.177847   35.666147  830712.153666   \n",
       "9           4.313243  42.507534   51.110230   29.070579  870734.973830   \n",
       "\n",
       "                    Theta       Alpha 1       Alpha 2        Beta 1  \\\n",
       "subject ID                                                            \n",
       "0           165919.786677  35990.755749  24487.685964  20288.437748   \n",
       "1           125888.289777  31765.673328  22985.478094  20740.016141   \n",
       "2            19263.661994   7781.796729   8248.434579   7975.485202   \n",
       "3           221221.465753  52551.698630  34068.783105  23391.176560   \n",
       "4           108926.853282  25011.400772  19826.601544  17363.406950   \n",
       "5           241902.458003  58220.128368  39022.931854  26944.388273   \n",
       "6           251335.407843  66816.250980  78602.474510  61069.448627   \n",
       "7           130318.122257  30058.974138  20911.165361  18988.803292   \n",
       "8           236931.875195  54706.961778  38513.213729  26461.799532   \n",
       "9           180547.519429  51447.114195  45816.708168  20216.413957   \n",
       "\n",
       "                   Beta 2         Gamma1        Gamma2  predefined label  \\\n",
       "subject ID                                                                 \n",
       "0            37128.914354   38343.019826  15736.938937          0.473434   \n",
       "1            13590.006918    7021.468870   4535.732513          0.489623   \n",
       "2             8410.145639    4621.512461   3556.214953          0.482866   \n",
       "3            24573.475647   12363.896499   5303.480213          0.384323   \n",
       "4            15166.986100   11229.140541   8828.527413          0.487259   \n",
       "5            23847.141838   13674.559429   4347.840729          0.473851   \n",
       "6           160509.882353  144203.941176  70526.086275          0.479216   \n",
       "7            28899.112853   21948.364420  15656.793103          0.479624   \n",
       "8            24249.097504   15605.233229   9436.329173          0.482059   \n",
       "9            46573.854084   28369.115781   6730.126090          0.473434   \n",
       "\n",
       "            Self-defined label  \n",
       "subject ID                      \n",
       "0                     0.511499  \n",
       "1                     0.402767  \n",
       "2                     0.508567  \n",
       "3                     0.493912  \n",
       "4                     0.584556  \n",
       "5                     0.607765  \n",
       "6                     0.500392  \n",
       "7                     0.618339  \n",
       "8                     0.402496  \n",
       "9                     0.498810  "
      ]
     },
     "execution_count": 31,
     "metadata": {},
     "output_type": "execute_result"
    }
   ],
   "source": [
    "Mean"
   ]
  },
  {
   "cell_type": "code",
   "execution_count": 32,
   "metadata": {
    "collapsed": false
   },
   "outputs": [],
   "source": [
    "data2 = pd.read_csv(\"demographic info.csv\", sep=',')\n"
   ]
  },
  {
   "cell_type": "code",
   "execution_count": 117,
   "metadata": {
    "collapsed": false
   },
   "outputs": [],
   "source": [
    "new_mean= new_data.groupby(['subject ID']).mean()"
   ]
  },
  {
   "cell_type": "markdown",
   "metadata": {},
   "source": [
    "new_mean"
   ]
  },
  {
   "cell_type": "code",
   "execution_count": 118,
   "metadata": {
    "collapsed": false
   },
   "outputs": [
    {
     "data": {
      "text/html": [
       "<div>\n",
       "<table border=\"1\" class=\"dataframe\">\n",
       "  <thead>\n",
       "    <tr style=\"text-align: right;\">\n",
       "      <th></th>\n",
       "      <th>Video ID</th>\n",
       "      <th>Attention</th>\n",
       "      <th>Meditation</th>\n",
       "      <th>Raw</th>\n",
       "      <th>Delta</th>\n",
       "      <th>Theta</th>\n",
       "      <th>Alpha 1</th>\n",
       "      <th>Alpha 2</th>\n",
       "      <th>Beta 1</th>\n",
       "      <th>Beta 2</th>\n",
       "      <th>Gamma1</th>\n",
       "      <th>Gamma2</th>\n",
       "      <th>predefined label</th>\n",
       "      <th>Self-defined label</th>\n",
       "      <th>age</th>\n",
       "    </tr>\n",
       "    <tr>\n",
       "      <th>subject ID</th>\n",
       "      <th></th>\n",
       "      <th></th>\n",
       "      <th></th>\n",
       "      <th></th>\n",
       "      <th></th>\n",
       "      <th></th>\n",
       "      <th></th>\n",
       "      <th></th>\n",
       "      <th></th>\n",
       "      <th></th>\n",
       "      <th></th>\n",
       "      <th></th>\n",
       "      <th></th>\n",
       "      <th></th>\n",
       "      <th></th>\n",
       "    </tr>\n",
       "  </thead>\n",
       "  <tbody>\n",
       "    <tr>\n",
       "      <th>0</th>\n",
       "      <td>4.313243</td>\n",
       "      <td>48.630452</td>\n",
       "      <td>48.571768</td>\n",
       "      <td>33.042030</td>\n",
       "      <td>684941.555908</td>\n",
       "      <td>165919.786677</td>\n",
       "      <td>35990.755749</td>\n",
       "      <td>24487.685964</td>\n",
       "      <td>20288.437748</td>\n",
       "      <td>37128.914354</td>\n",
       "      <td>38343.019826</td>\n",
       "      <td>15736.938937</td>\n",
       "      <td>0.473434</td>\n",
       "      <td>0.511499</td>\n",
       "      <td>25.0</td>\n",
       "    </tr>\n",
       "    <tr>\n",
       "      <th>1</th>\n",
       "      <td>4.461184</td>\n",
       "      <td>45.561107</td>\n",
       "      <td>57.935434</td>\n",
       "      <td>33.599539</td>\n",
       "      <td>428179.287471</td>\n",
       "      <td>125888.289777</td>\n",
       "      <td>31765.673328</td>\n",
       "      <td>22985.478094</td>\n",
       "      <td>20740.016141</td>\n",
       "      <td>13590.006918</td>\n",
       "      <td>7021.468870</td>\n",
       "      <td>4535.732513</td>\n",
       "      <td>0.489623</td>\n",
       "      <td>0.402767</td>\n",
       "      <td>24.0</td>\n",
       "    </tr>\n",
       "    <tr>\n",
       "      <th>2</th>\n",
       "      <td>4.433801</td>\n",
       "      <td>55.971184</td>\n",
       "      <td>60.865265</td>\n",
       "      <td>33.904984</td>\n",
       "      <td>39549.890966</td>\n",
       "      <td>19263.661994</td>\n",
       "      <td>7781.796729</td>\n",
       "      <td>8248.434579</td>\n",
       "      <td>7975.485202</td>\n",
       "      <td>8410.145639</td>\n",
       "      <td>4621.512461</td>\n",
       "      <td>3556.214953</td>\n",
       "      <td>0.482866</td>\n",
       "      <td>0.508567</td>\n",
       "      <td>31.0</td>\n",
       "    </tr>\n",
       "    <tr>\n",
       "      <th>3</th>\n",
       "      <td>4.432268</td>\n",
       "      <td>40.044140</td>\n",
       "      <td>45.648402</td>\n",
       "      <td>34.219178</td>\n",
       "      <td>780844.464231</td>\n",
       "      <td>221221.465753</td>\n",
       "      <td>52551.698630</td>\n",
       "      <td>34068.783105</td>\n",
       "      <td>23391.176560</td>\n",
       "      <td>24573.475647</td>\n",
       "      <td>12363.896499</td>\n",
       "      <td>5303.480213</td>\n",
       "      <td>0.384323</td>\n",
       "      <td>0.493912</td>\n",
       "      <td>28.0</td>\n",
       "    </tr>\n",
       "    <tr>\n",
       "      <th>4</th>\n",
       "      <td>4.440154</td>\n",
       "      <td>44.895753</td>\n",
       "      <td>52.888803</td>\n",
       "      <td>38.635521</td>\n",
       "      <td>363673.088031</td>\n",
       "      <td>108926.853282</td>\n",
       "      <td>25011.400772</td>\n",
       "      <td>19826.601544</td>\n",
       "      <td>17363.406950</td>\n",
       "      <td>15166.986100</td>\n",
       "      <td>11229.140541</td>\n",
       "      <td>8828.527413</td>\n",
       "      <td>0.487259</td>\n",
       "      <td>0.584556</td>\n",
       "      <td>24.0</td>\n",
       "    </tr>\n",
       "    <tr>\n",
       "      <th>5</th>\n",
       "      <td>4.315372</td>\n",
       "      <td>46.616482</td>\n",
       "      <td>54.213946</td>\n",
       "      <td>34.487322</td>\n",
       "      <td>751906.218700</td>\n",
       "      <td>241902.458003</td>\n",
       "      <td>58220.128368</td>\n",
       "      <td>39022.931854</td>\n",
       "      <td>26944.388273</td>\n",
       "      <td>23847.141838</td>\n",
       "      <td>13674.559429</td>\n",
       "      <td>4347.840729</td>\n",
       "      <td>0.473851</td>\n",
       "      <td>0.607765</td>\n",
       "      <td>24.0</td>\n",
       "    </tr>\n",
       "    <tr>\n",
       "      <th>7</th>\n",
       "      <td>4.387931</td>\n",
       "      <td>44.844044</td>\n",
       "      <td>50.167712</td>\n",
       "      <td>36.307994</td>\n",
       "      <td>568962.452978</td>\n",
       "      <td>130318.122257</td>\n",
       "      <td>30058.974138</td>\n",
       "      <td>20911.165361</td>\n",
       "      <td>18988.803292</td>\n",
       "      <td>28899.112853</td>\n",
       "      <td>21948.364420</td>\n",
       "      <td>15656.793103</td>\n",
       "      <td>0.479624</td>\n",
       "      <td>0.618339</td>\n",
       "      <td>25.0</td>\n",
       "    </tr>\n",
       "    <tr>\n",
       "      <th>8</th>\n",
       "      <td>4.393916</td>\n",
       "      <td>43.990640</td>\n",
       "      <td>50.177847</td>\n",
       "      <td>35.666147</td>\n",
       "      <td>830712.153666</td>\n",
       "      <td>236931.875195</td>\n",
       "      <td>54706.961778</td>\n",
       "      <td>38513.213729</td>\n",
       "      <td>26461.799532</td>\n",
       "      <td>24249.097504</td>\n",
       "      <td>15605.233229</td>\n",
       "      <td>9436.329173</td>\n",
       "      <td>0.482059</td>\n",
       "      <td>0.402496</td>\n",
       "      <td>25.0</td>\n",
       "    </tr>\n",
       "    <tr>\n",
       "      <th>9</th>\n",
       "      <td>4.313243</td>\n",
       "      <td>42.507534</td>\n",
       "      <td>51.110230</td>\n",
       "      <td>29.070579</td>\n",
       "      <td>870734.973830</td>\n",
       "      <td>180547.519429</td>\n",
       "      <td>51447.114195</td>\n",
       "      <td>45816.708168</td>\n",
       "      <td>20216.413957</td>\n",
       "      <td>46573.854084</td>\n",
       "      <td>28369.115781</td>\n",
       "      <td>6730.126090</td>\n",
       "      <td>0.473434</td>\n",
       "      <td>0.498810</td>\n",
       "      <td>24.0</td>\n",
       "    </tr>\n",
       "  </tbody>\n",
       "</table>\n",
       "</div>"
      ],
      "text/plain": [
       "            Video ID  Attention  Meditation        Raw          Delta  \\\n",
       "subject ID                                                              \n",
       "0           4.313243  48.630452   48.571768  33.042030  684941.555908   \n",
       "1           4.461184  45.561107   57.935434  33.599539  428179.287471   \n",
       "2           4.433801  55.971184   60.865265  33.904984   39549.890966   \n",
       "3           4.432268  40.044140   45.648402  34.219178  780844.464231   \n",
       "4           4.440154  44.895753   52.888803  38.635521  363673.088031   \n",
       "5           4.315372  46.616482   54.213946  34.487322  751906.218700   \n",
       "7           4.387931  44.844044   50.167712  36.307994  568962.452978   \n",
       "8           4.393916  43.990640   50.177847  35.666147  830712.153666   \n",
       "9           4.313243  42.507534   51.110230  29.070579  870734.973830   \n",
       "\n",
       "                    Theta       Alpha 1       Alpha 2        Beta 1  \\\n",
       "subject ID                                                            \n",
       "0           165919.786677  35990.755749  24487.685964  20288.437748   \n",
       "1           125888.289777  31765.673328  22985.478094  20740.016141   \n",
       "2            19263.661994   7781.796729   8248.434579   7975.485202   \n",
       "3           221221.465753  52551.698630  34068.783105  23391.176560   \n",
       "4           108926.853282  25011.400772  19826.601544  17363.406950   \n",
       "5           241902.458003  58220.128368  39022.931854  26944.388273   \n",
       "7           130318.122257  30058.974138  20911.165361  18988.803292   \n",
       "8           236931.875195  54706.961778  38513.213729  26461.799532   \n",
       "9           180547.519429  51447.114195  45816.708168  20216.413957   \n",
       "\n",
       "                  Beta 2        Gamma1        Gamma2  predefined label  \\\n",
       "subject ID                                                               \n",
       "0           37128.914354  38343.019826  15736.938937          0.473434   \n",
       "1           13590.006918   7021.468870   4535.732513          0.489623   \n",
       "2            8410.145639   4621.512461   3556.214953          0.482866   \n",
       "3           24573.475647  12363.896499   5303.480213          0.384323   \n",
       "4           15166.986100  11229.140541   8828.527413          0.487259   \n",
       "5           23847.141838  13674.559429   4347.840729          0.473851   \n",
       "7           28899.112853  21948.364420  15656.793103          0.479624   \n",
       "8           24249.097504  15605.233229   9436.329173          0.482059   \n",
       "9           46573.854084  28369.115781   6730.126090          0.473434   \n",
       "\n",
       "            Self-defined label   age  \n",
       "subject ID                            \n",
       "0                     0.511499  25.0  \n",
       "1                     0.402767  24.0  \n",
       "2                     0.508567  31.0  \n",
       "3                     0.493912  28.0  \n",
       "4                     0.584556  24.0  \n",
       "5                     0.607765  24.0  \n",
       "7                     0.618339  25.0  \n",
       "8                     0.402496  25.0  \n",
       "9                     0.498810  24.0  "
      ]
     },
     "execution_count": 118,
     "metadata": {},
     "output_type": "execute_result"
    }
   ],
   "source": [
    "new_mean"
   ]
  },
  {
   "cell_type": "code",
   "execution_count": 53,
   "metadata": {
    "collapsed": false
   },
   "outputs": [
    {
     "data": {
      "text/plain": [
       "[<matplotlib.lines.Line2D at 0xb5fbb00>]"
      ]
     },
     "execution_count": 53,
     "metadata": {},
     "output_type": "execute_result"
    },
    {
     "data": {
      "image/png": "[encoded data removed]",
      "text/plain": [
       "<matplotlib.figure.Figure at 0xb1d1a90>"
      ]
     },
     "metadata": {},
     "output_type": "display_data"
    }
   ],
   "source": [
    "plt.plot(new_mean[\"Attention\"])"
   ]
  },
  {
   "cell_type": "code",
   "execution_count": 49,
   "metadata": {
    "collapsed": false
   },
   "outputs": [
    {
     "data": {
      "text/plain": [
       "[<matplotlib.lines.Line2D at 0xaf65048>]"
      ]
     },
     "execution_count": 49,
     "metadata": {},
     "output_type": "execute_result"
    },
    {
     "data": {
      "image/png": "[encoded data removed]",
      "text/plain": [
       "<matplotlib.figure.Figure at 0xa974ef0>"
      ]
     },
     "metadata": {},
     "output_type": "display_data"
    }
   ],
   "source": [
    "plt.plot(new_mean[\"Meditation\"])"
   ]
  },
  {
   "cell_type": "code",
   "execution_count": 71,
   "metadata": {
    "collapsed": false
   },
   "outputs": [
    {
     "name": "stderr",
     "output_type": "stream",
     "text": [
      "C:\\Users\\Choi Hyun You\\Anaconda2-1\\lib\\site-packages\\ipykernel\\__main__.py:1: FutureWarning: \n",
      "The default value for 'return_type' will change to 'axes' in a future release.\n",
      " To use the future behavior now, set return_type='axes'.\n",
      " To keep the previous behavior and silence this warning, set return_type='dict'.\n",
      "  if __name__ == '__main__':\n"
     ]
    },
    {
     "data": {
      "image/png": "[encoded data removed]",
      "text/plain": [
       "<matplotlib.figure.Figure at 0xb82c978>"
      ]
     },
     "metadata": {},
     "output_type": "display_data"
    }
   ],
   "source": [
    "plt.show(new_mean.boxplot(column=[\"Delta\",\"Theta\"]))"
   ]
  },
  {
   "cell_type": "code",
   "execution_count": 72,
   "metadata": {
    "collapsed": false
   },
   "outputs": [
    {
     "name": "stderr",
     "output_type": "stream",
     "text": [
      "C:\\Users\\Choi Hyun You\\Anaconda2-1\\lib\\site-packages\\ipykernel\\__main__.py:1: FutureWarning: \n",
      "The default value for 'return_type' will change to 'axes' in a future release.\n",
      " To use the future behavior now, set return_type='axes'.\n",
      " To keep the previous behavior and silence this warning, set return_type='dict'.\n",
      "  if __name__ == '__main__':\n"
     ]
    },
    {
     "data": {
      "image/png": "[encoded data removed]",
      "text/plain": [
       "<matplotlib.figure.Figure at 0xbb5c128>"
      ]
     },
     "metadata": {},
     "output_type": "display_data"
    }
   ],
   "source": [
    "plt.show(new_mean.boxplot(column=[\"Alpha 1\", \"Alpha 2\", \"Beta 1\",\"Beta 2\", \"Gamma1\", \"Gamma2\" ]))"
   ]
  },
  {
   "cell_type": "markdown",
   "metadata": {},
   "source": [
    "#Min-Max Normalization"
   ]
  },
  {
   "cell_type": "code",
   "execution_count": 113,
   "metadata": {
    "collapsed": false
   },
   "outputs": [],
   "source": [
    "min_max_new_data_norm = (new_data - new_data.min()) / (new_data.max()-new_data.min())\n"
   ]
  },
  {
   "cell_type": "code",
   "execution_count": 74,
   "metadata": {
    "collapsed": true
   },
   "outputs": [],
   "source": [
    "new_min_max_mean= min_max_new_data_norm.groupby(['subject ID']).mean()"
   ]
  },
  {
   "cell_type": "code",
   "execution_count": 75,
   "metadata": {
    "collapsed": false
   },
   "outputs": [
    {
     "data": {
      "text/html": [
       "<div>\n",
       "<table border=\"1\" class=\"dataframe\">\n",
       "  <thead>\n",
       "    <tr style=\"text-align: right;\">\n",
       "      <th></th>\n",
       "      <th>Video ID</th>\n",
       "      <th>Attention</th>\n",
       "      <th>Meditation</th>\n",
       "      <th>Raw</th>\n",
       "      <th>Delta</th>\n",
       "      <th>Theta</th>\n",
       "      <th>Alpha 1</th>\n",
       "      <th>Alpha 2</th>\n",
       "      <th>Beta 1</th>\n",
       "      <th>Beta 2</th>\n",
       "      <th>Gamma1</th>\n",
       "      <th>Gamma2</th>\n",
       "      <th>predefined label</th>\n",
       "      <th>Self-defined label</th>\n",
       "    </tr>\n",
       "    <tr>\n",
       "      <th>subject ID</th>\n",
       "      <th></th>\n",
       "      <th></th>\n",
       "      <th></th>\n",
       "      <th></th>\n",
       "      <th></th>\n",
       "      <th></th>\n",
       "      <th></th>\n",
       "      <th></th>\n",
       "      <th></th>\n",
       "      <th></th>\n",
       "      <th></th>\n",
       "      <th></th>\n",
       "      <th></th>\n",
       "      <th></th>\n",
       "    </tr>\n",
       "  </thead>\n",
       "  <tbody>\n",
       "    <tr>\n",
       "      <th>0.000000</th>\n",
       "      <td>0.479249</td>\n",
       "      <td>0.486305</td>\n",
       "      <td>0.485718</td>\n",
       "      <td>0.596629</td>\n",
       "      <td>0.172668</td>\n",
       "      <td>0.064613</td>\n",
       "      <td>0.026270</td>\n",
       "      <td>0.024078</td>\n",
       "      <td>0.024121</td>\n",
       "      <td>0.034267</td>\n",
       "      <td>0.058270</td>\n",
       "      <td>0.055499</td>\n",
       "      <td>0.473434</td>\n",
       "      <td>0.511499</td>\n",
       "    </tr>\n",
       "    <tr>\n",
       "      <th>0.111111</th>\n",
       "      <td>0.495687</td>\n",
       "      <td>0.455611</td>\n",
       "      <td>0.579354</td>\n",
       "      <td>0.596789</td>\n",
       "      <td>0.107898</td>\n",
       "      <td>0.049022</td>\n",
       "      <td>0.023186</td>\n",
       "      <td>0.022601</td>\n",
       "      <td>0.024658</td>\n",
       "      <td>0.012541</td>\n",
       "      <td>0.010669</td>\n",
       "      <td>0.015991</td>\n",
       "      <td>0.489623</td>\n",
       "      <td>0.402767</td>\n",
       "    </tr>\n",
       "    <tr>\n",
       "      <th>0.222222</th>\n",
       "      <td>0.492645</td>\n",
       "      <td>0.559712</td>\n",
       "      <td>0.608653</td>\n",
       "      <td>0.596876</td>\n",
       "      <td>0.009864</td>\n",
       "      <td>0.007496</td>\n",
       "      <td>0.005679</td>\n",
       "      <td>0.008109</td>\n",
       "      <td>0.009480</td>\n",
       "      <td>0.007760</td>\n",
       "      <td>0.007022</td>\n",
       "      <td>0.012536</td>\n",
       "      <td>0.482866</td>\n",
       "      <td>0.508567</td>\n",
       "    </tr>\n",
       "    <tr>\n",
       "      <th>0.333333</th>\n",
       "      <td>0.492474</td>\n",
       "      <td>0.400441</td>\n",
       "      <td>0.456484</td>\n",
       "      <td>0.596967</td>\n",
       "      <td>0.196860</td>\n",
       "      <td>0.086151</td>\n",
       "      <td>0.038359</td>\n",
       "      <td>0.033500</td>\n",
       "      <td>0.027810</td>\n",
       "      <td>0.022679</td>\n",
       "      <td>0.018788</td>\n",
       "      <td>0.018699</td>\n",
       "      <td>0.384323</td>\n",
       "      <td>0.493912</td>\n",
       "    </tr>\n",
       "    <tr>\n",
       "      <th>0.444444</th>\n",
       "      <td>0.493350</td>\n",
       "      <td>0.448958</td>\n",
       "      <td>0.528888</td>\n",
       "      <td>0.598233</td>\n",
       "      <td>0.091626</td>\n",
       "      <td>0.042417</td>\n",
       "      <td>0.018256</td>\n",
       "      <td>0.019495</td>\n",
       "      <td>0.020643</td>\n",
       "      <td>0.013997</td>\n",
       "      <td>0.017064</td>\n",
       "      <td>0.031132</td>\n",
       "      <td>0.487259</td>\n",
       "      <td>0.584556</td>\n",
       "    </tr>\n",
       "    <tr>\n",
       "      <th>0.555556</th>\n",
       "      <td>0.479486</td>\n",
       "      <td>0.466165</td>\n",
       "      <td>0.542139</td>\n",
       "      <td>0.597043</td>\n",
       "      <td>0.189560</td>\n",
       "      <td>0.094206</td>\n",
       "      <td>0.042496</td>\n",
       "      <td>0.038372</td>\n",
       "      <td>0.032035</td>\n",
       "      <td>0.022008</td>\n",
       "      <td>0.020780</td>\n",
       "      <td>0.015328</td>\n",
       "      <td>0.473851</td>\n",
       "      <td>0.607765</td>\n",
       "    </tr>\n",
       "    <tr>\n",
       "      <th>0.777778</th>\n",
       "      <td>0.487548</td>\n",
       "      <td>0.448440</td>\n",
       "      <td>0.501677</td>\n",
       "      <td>0.597565</td>\n",
       "      <td>0.143412</td>\n",
       "      <td>0.050748</td>\n",
       "      <td>0.021940</td>\n",
       "      <td>0.020561</td>\n",
       "      <td>0.022576</td>\n",
       "      <td>0.026671</td>\n",
       "      <td>0.033354</td>\n",
       "      <td>0.055217</td>\n",
       "      <td>0.479624</td>\n",
       "      <td>0.618339</td>\n",
       "    </tr>\n",
       "    <tr>\n",
       "      <th>0.888889</th>\n",
       "      <td>0.488213</td>\n",
       "      <td>0.439906</td>\n",
       "      <td>0.501778</td>\n",
       "      <td>0.597381</td>\n",
       "      <td>0.209440</td>\n",
       "      <td>0.092270</td>\n",
       "      <td>0.039932</td>\n",
       "      <td>0.037871</td>\n",
       "      <td>0.031461</td>\n",
       "      <td>0.022379</td>\n",
       "      <td>0.023714</td>\n",
       "      <td>0.033276</td>\n",
       "      <td>0.482059</td>\n",
       "      <td>0.402496</td>\n",
       "    </tr>\n",
       "    <tr>\n",
       "      <th>1.000000</th>\n",
       "      <td>0.479249</td>\n",
       "      <td>0.425075</td>\n",
       "      <td>0.511102</td>\n",
       "      <td>0.595490</td>\n",
       "      <td>0.219536</td>\n",
       "      <td>0.070310</td>\n",
       "      <td>0.037552</td>\n",
       "      <td>0.045053</td>\n",
       "      <td>0.024035</td>\n",
       "      <td>0.042984</td>\n",
       "      <td>0.043112</td>\n",
       "      <td>0.023731</td>\n",
       "      <td>0.473434</td>\n",
       "      <td>0.498810</td>\n",
       "    </tr>\n",
       "  </tbody>\n",
       "</table>\n",
       "</div>"
      ],
      "text/plain": [
       "            Video ID  Attention  Meditation       Raw     Delta     Theta  \\\n",
       "subject ID                                                                  \n",
       "0.000000    0.479249   0.486305    0.485718  0.596629  0.172668  0.064613   \n",
       "0.111111    0.495687   0.455611    0.579354  0.596789  0.107898  0.049022   \n",
       "0.222222    0.492645   0.559712    0.608653  0.596876  0.009864  0.007496   \n",
       "0.333333    0.492474   0.400441    0.456484  0.596967  0.196860  0.086151   \n",
       "0.444444    0.493350   0.448958    0.528888  0.598233  0.091626  0.042417   \n",
       "0.555556    0.479486   0.466165    0.542139  0.597043  0.189560  0.094206   \n",
       "0.777778    0.487548   0.448440    0.501677  0.597565  0.143412  0.050748   \n",
       "0.888889    0.488213   0.439906    0.501778  0.597381  0.209440  0.092270   \n",
       "1.000000    0.479249   0.425075    0.511102  0.595490  0.219536  0.070310   \n",
       "\n",
       "             Alpha 1   Alpha 2    Beta 1    Beta 2    Gamma1    Gamma2  \\\n",
       "subject ID                                                               \n",
       "0.000000    0.026270  0.024078  0.024121  0.034267  0.058270  0.055499   \n",
       "0.111111    0.023186  0.022601  0.024658  0.012541  0.010669  0.015991   \n",
       "0.222222    0.005679  0.008109  0.009480  0.007760  0.007022  0.012536   \n",
       "0.333333    0.038359  0.033500  0.027810  0.022679  0.018788  0.018699   \n",
       "0.444444    0.018256  0.019495  0.020643  0.013997  0.017064  0.031132   \n",
       "0.555556    0.042496  0.038372  0.032035  0.022008  0.020780  0.015328   \n",
       "0.777778    0.021940  0.020561  0.022576  0.026671  0.033354  0.055217   \n",
       "0.888889    0.039932  0.037871  0.031461  0.022379  0.023714  0.033276   \n",
       "1.000000    0.037552  0.045053  0.024035  0.042984  0.043112  0.023731   \n",
       "\n",
       "            predefined label  Self-defined label  \n",
       "subject ID                                        \n",
       "0.000000            0.473434            0.511499  \n",
       "0.111111            0.489623            0.402767  \n",
       "0.222222            0.482866            0.508567  \n",
       "0.333333            0.384323            0.493912  \n",
       "0.444444            0.487259            0.584556  \n",
       "0.555556            0.473851            0.607765  \n",
       "0.777778            0.479624            0.618339  \n",
       "0.888889            0.482059            0.402496  \n",
       "1.000000            0.473434            0.498810  "
      ]
     },
     "execution_count": 75,
     "metadata": {},
     "output_type": "execute_result"
    }
   ],
   "source": [
    "new_min_max_mean"
   ]
  },
  {
   "cell_type": "code",
   "execution_count": 77,
   "metadata": {
    "collapsed": false
   },
   "outputs": [
    {
     "name": "stderr",
     "output_type": "stream",
     "text": [
      "C:\\Users\\Choi Hyun You\\Anaconda2-1\\lib\\site-packages\\ipykernel\\__main__.py:1: FutureWarning: \n",
      "The default value for 'return_type' will change to 'axes' in a future release.\n",
      " To use the future behavior now, set return_type='axes'.\n",
      " To keep the previous behavior and silence this warning, set return_type='dict'.\n",
      "  if __name__ == '__main__':\n"
     ]
    },
    {
     "data": {
      "image/png": "[encoded data removed]",
      "text/plain": [
       "<matplotlib.figure.Figure at 0xcc64470>"
      ]
     },
     "metadata": {},
     "output_type": "display_data"
    }
   ],
   "source": [
    "plt.show(new_min_max_mean.boxplot(column=[\"Delta\",\"Theta\",\"Alpha 1\", \"Alpha 2\", \"Beta 1\",\"Beta 2\", \"Gamma1\", \"Gamma2\"]))"
   ]
  },
  {
   "cell_type": "code",
   "execution_count": 100,
   "metadata": {
    "collapsed": false
   },
   "outputs": [
    {
     "data": {
      "text/plain": [
       "<matplotlib.axes._subplots.AxesSubplot at 0xe800a58>"
      ]
     },
     "execution_count": 100,
     "metadata": {},
     "output_type": "execute_result"
    },
    {
     "data": {
      "image/png": "[encoded data removed]",
      "text/plain": [
       "<matplotlib.figure.Figure at 0x109466a0>"
      ]
     },
     "metadata": {},
     "output_type": "display_data"
    }
   ],
   "source": [
    "min_max_new_data_norm[\"Attention\"].plot(kind=\"hist\", bins=50)\n",
    "#pd.unique(new_min_max[\"Attention\"])"
   ]
  },
  {
   "cell_type": "code",
   "execution_count": 102,
   "metadata": {
    "collapsed": false
   },
   "outputs": [
    {
     "data": {
      "text/plain": [
       "<matplotlib.axes._subplots.AxesSubplot at 0x109512b0>"
      ]
     },
     "execution_count": 102,
     "metadata": {},
     "output_type": "execute_result"
    },
    {
     "data": {
      "image/png": "[encoded data removed]",
      "text/plain": [
       "<matplotlib.figure.Figure at 0x10426dd8>"
      ]
     },
     "metadata": {},
     "output_type": "display_data"
    }
   ],
   "source": [
    "min_max_new_data_norm[\"Meditation\"].plot(kind=\"hist\", bins=100)"
   ]
  },
  {
   "cell_type": "code",
   "execution_count": 103,
   "metadata": {
    "collapsed": false
   },
   "outputs": [
    {
     "data": {
      "text/plain": [
       "<matplotlib.axes._subplots.AxesSubplot at 0x10f0a588>"
      ]
     },
     "execution_count": 103,
     "metadata": {},
     "output_type": "execute_result"
    },
    {
     "data": {
      "image/png": "[encoded data removed]",
      "text/plain": [
       "<matplotlib.figure.Figure at 0xed60b38>"
      ]
     },
     "metadata": {},
     "output_type": "display_data"
    }
   ],
   "source": [
    "min_max_new_data_norm[\"Delta\"].plot(kind=\"hist\", bins=100)"
   ]
  },
  {
   "cell_type": "code",
   "execution_count": 104,
   "metadata": {
    "collapsed": false
   },
   "outputs": [
    {
     "data": {
      "text/plain": [
       "<matplotlib.axes._subplots.AxesSubplot at 0xe9da6d8>"
      ]
     },
     "execution_count": 104,
     "metadata": {},
     "output_type": "execute_result"
    },
    {
     "data": {
      "image/png": "[encoded data removed]",
      "text/plain": [
       "<matplotlib.figure.Figure at 0x10f0a710>"
      ]
     },
     "metadata": {},
     "output_type": "display_data"
    }
   ],
   "source": [
    "min_max_new_data_norm[\"Theta\"].plot(kind=\"hist\", bins=100)"
   ]
  },
  {
   "cell_type": "code",
   "execution_count": 107,
   "metadata": {
    "collapsed": false
   },
   "outputs": [
    {
     "data": {
      "text/plain": [
       "<matplotlib.axes._subplots.AxesSubplot at 0x113b59e8>"
      ]
     },
     "execution_count": 107,
     "metadata": {},
     "output_type": "execute_result"
    },
    {
     "data": {
      "image/png": "[encoded data removed]",
      "text/plain": [
       "<matplotlib.figure.Figure at 0x11fe2cc0>"
      ]
     },
     "metadata": {},
     "output_type": "display_data"
    }
   ],
   "source": [
    "min_max_new_data_norm[\"Alpha 1\"].plot(kind=\"hist\", bins=50)"
   ]
  },
  {
   "cell_type": "code",
   "execution_count": 108,
   "metadata": {
    "collapsed": false
   },
   "outputs": [
    {
     "data": {
      "text/plain": [
       "<matplotlib.axes._subplots.AxesSubplot at 0x123aada0>"
      ]
     },
     "execution_count": 108,
     "metadata": {},
     "output_type": "execute_result"
    },
    {
     "data": {
      "image/png": "[encoded data removed]",
      "text/plain": [
       "<matplotlib.figure.Figure at 0x123a2908>"
      ]
     },
     "metadata": {},
     "output_type": "display_data"
    }
   ],
   "source": [
    "min_max_new_data_norm[\"Alpha 2\"].plot(kind=\"hist\", bins=50)"
   ]
  },
  {
   "cell_type": "code",
   "execution_count": 109,
   "metadata": {
    "collapsed": false
   },
   "outputs": [
    {
     "data": {
      "text/plain": [
       "<matplotlib.axes._subplots.AxesSubplot at 0x123aab38>"
      ]
     },
     "execution_count": 109,
     "metadata": {},
     "output_type": "execute_result"
    },
    {
     "data": {
      "image/png": "[encoded data removed]",
      "text/plain": [
       "<matplotlib.figure.Figure at 0x127479e8>"
      ]
     },
     "metadata": {},
     "output_type": "display_data"
    }
   ],
   "source": [
    "min_max_new_data_norm[\"Beta 1\"].plot(kind=\"hist\", bins=50)"
   ]
  },
  {
   "cell_type": "code",
   "execution_count": 110,
   "metadata": {
    "collapsed": false
   },
   "outputs": [
    {
     "data": {
      "text/plain": [
       "<matplotlib.axes._subplots.AxesSubplot at 0x123aa748>"
      ]
     },
     "execution_count": 110,
     "metadata": {},
     "output_type": "execute_result"
    },
    {
     "data": {
      "image/png": "[encoded data removed]",
      "text/plain": [
       "<matplotlib.figure.Figure at 0x12af4c18>"
      ]
     },
     "metadata": {},
     "output_type": "display_data"
    }
   ],
   "source": [
    "min_max_new_data_norm[\"Beta 2\"].plot(kind=\"hist\", bins=50)"
   ]
  },
  {
   "cell_type": "code",
   "execution_count": 111,
   "metadata": {
    "collapsed": false
   },
   "outputs": [
    {
     "data": {
      "text/plain": [
       "<matplotlib.axes._subplots.AxesSubplot at 0x12fc5860>"
      ]
     },
     "execution_count": 111,
     "metadata": {},
     "output_type": "execute_result"
    },
    {
     "data": {
      "image/png": "[encoded data removed]",
      "text/plain": [
       "<matplotlib.figure.Figure at 0x12ef9048>"
      ]
     },
     "metadata": {},
     "output_type": "display_data"
    }
   ],
   "source": [
    "min_max_new_data_norm[\"Gamma1\"].plot(kind=\"hist\", bins=50)"
   ]
  },
  {
   "cell_type": "code",
   "execution_count": 112,
   "metadata": {
    "collapsed": false
   },
   "outputs": [
    {
     "data": {
      "text/plain": [
       "<matplotlib.axes._subplots.AxesSubplot at 0x12fc5160>"
      ]
     },
     "execution_count": 112,
     "metadata": {},
     "output_type": "execute_result"
    },
    {
     "data": {
      "image/png": "[encoded data removed]",
      "text/plain": [
       "<matplotlib.figure.Figure at 0x1328fc88>"
      ]
     },
     "metadata": {},
     "output_type": "display_data"
    }
   ],
   "source": [
    "min_max_new_data_norm[\"Gamma2\"].plot(kind=\"hist\", bins=50)"
   ]
  },
  {
   "cell_type": "markdown",
   "metadata": {},
   "source": [
    "# get dummy variables "
   ]
  },
  {
   "cell_type": "code",
   "execution_count": 119,
   "metadata": {
    "collapsed": false
   },
   "outputs": [
    {
     "data": {
      "text/html": [
       "<div>\n",
       "<table border=\"1\" class=\"dataframe\">\n",
       "  <thead>\n",
       "    <tr style=\"text-align: right;\">\n",
       "      <th></th>\n",
       "      <th>subject ID</th>\n",
       "      <th>Video ID</th>\n",
       "      <th>Attention</th>\n",
       "      <th>Meditation</th>\n",
       "      <th>Raw</th>\n",
       "      <th>Delta</th>\n",
       "      <th>Theta</th>\n",
       "      <th>Alpha 1</th>\n",
       "      <th>Alpha 2</th>\n",
       "      <th>Beta 1</th>\n",
       "      <th>...</th>\n",
       "      <th>Gamma1</th>\n",
       "      <th>Gamma2</th>\n",
       "      <th>predefined label</th>\n",
       "      <th>Self-defined label</th>\n",
       "      <th>age</th>\n",
       "      <th>ethnicity_Bengali</th>\n",
       "      <th>ethnicity_English</th>\n",
       "      <th>ethnicity_Han Chinese</th>\n",
       "      <th>gender_F</th>\n",
       "      <th>gender_M</th>\n",
       "    </tr>\n",
       "  </thead>\n",
       "  <tbody>\n",
       "    <tr>\n",
       "      <th>0</th>\n",
       "      <td>0</td>\n",
       "      <td>0</td>\n",
       "      <td>56</td>\n",
       "      <td>43</td>\n",
       "      <td>278</td>\n",
       "      <td>301963</td>\n",
       "      <td>90612</td>\n",
       "      <td>33735</td>\n",
       "      <td>23991</td>\n",
       "      <td>27946</td>\n",
       "      <td>...</td>\n",
       "      <td>33228</td>\n",
       "      <td>8293</td>\n",
       "      <td>0</td>\n",
       "      <td>0</td>\n",
       "      <td>25</td>\n",
       "      <td>0.0</td>\n",
       "      <td>0.0</td>\n",
       "      <td>1.0</td>\n",
       "      <td>0.0</td>\n",
       "      <td>1.0</td>\n",
       "    </tr>\n",
       "    <tr>\n",
       "      <th>1</th>\n",
       "      <td>0</td>\n",
       "      <td>0</td>\n",
       "      <td>40</td>\n",
       "      <td>35</td>\n",
       "      <td>-50</td>\n",
       "      <td>73787</td>\n",
       "      <td>28083</td>\n",
       "      <td>1439</td>\n",
       "      <td>2240</td>\n",
       "      <td>2746</td>\n",
       "      <td>...</td>\n",
       "      <td>5293</td>\n",
       "      <td>2740</td>\n",
       "      <td>0</td>\n",
       "      <td>0</td>\n",
       "      <td>25</td>\n",
       "      <td>0.0</td>\n",
       "      <td>0.0</td>\n",
       "      <td>1.0</td>\n",
       "      <td>0.0</td>\n",
       "      <td>1.0</td>\n",
       "    </tr>\n",
       "    <tr>\n",
       "      <th>2</th>\n",
       "      <td>0</td>\n",
       "      <td>0</td>\n",
       "      <td>47</td>\n",
       "      <td>48</td>\n",
       "      <td>101</td>\n",
       "      <td>758353</td>\n",
       "      <td>383745</td>\n",
       "      <td>201999</td>\n",
       "      <td>62107</td>\n",
       "      <td>36293</td>\n",
       "      <td>...</td>\n",
       "      <td>57243</td>\n",
       "      <td>25354</td>\n",
       "      <td>0</td>\n",
       "      <td>0</td>\n",
       "      <td>25</td>\n",
       "      <td>0.0</td>\n",
       "      <td>0.0</td>\n",
       "      <td>1.0</td>\n",
       "      <td>0.0</td>\n",
       "      <td>1.0</td>\n",
       "    </tr>\n",
       "    <tr>\n",
       "      <th>3</th>\n",
       "      <td>0</td>\n",
       "      <td>0</td>\n",
       "      <td>47</td>\n",
       "      <td>57</td>\n",
       "      <td>-5</td>\n",
       "      <td>2012240</td>\n",
       "      <td>129350</td>\n",
       "      <td>61236</td>\n",
       "      <td>17084</td>\n",
       "      <td>11488</td>\n",
       "      <td>...</td>\n",
       "      <td>49960</td>\n",
       "      <td>33932</td>\n",
       "      <td>0</td>\n",
       "      <td>0</td>\n",
       "      <td>25</td>\n",
       "      <td>0.0</td>\n",
       "      <td>0.0</td>\n",
       "      <td>1.0</td>\n",
       "      <td>0.0</td>\n",
       "      <td>1.0</td>\n",
       "    </tr>\n",
       "    <tr>\n",
       "      <th>4</th>\n",
       "      <td>0</td>\n",
       "      <td>0</td>\n",
       "      <td>44</td>\n",
       "      <td>53</td>\n",
       "      <td>-8</td>\n",
       "      <td>1005145</td>\n",
       "      <td>354328</td>\n",
       "      <td>37102</td>\n",
       "      <td>88881</td>\n",
       "      <td>45307</td>\n",
       "      <td>...</td>\n",
       "      <td>44790</td>\n",
       "      <td>29749</td>\n",
       "      <td>0</td>\n",
       "      <td>0</td>\n",
       "      <td>25</td>\n",
       "      <td>0.0</td>\n",
       "      <td>0.0</td>\n",
       "      <td>1.0</td>\n",
       "      <td>0.0</td>\n",
       "      <td>1.0</td>\n",
       "    </tr>\n",
       "    <tr>\n",
       "      <th>5</th>\n",
       "      <td>0</td>\n",
       "      <td>0</td>\n",
       "      <td>44</td>\n",
       "      <td>66</td>\n",
       "      <td>73</td>\n",
       "      <td>1786446</td>\n",
       "      <td>176766</td>\n",
       "      <td>59352</td>\n",
       "      <td>26157</td>\n",
       "      <td>15054</td>\n",
       "      <td>...</td>\n",
       "      <td>33782</td>\n",
       "      <td>31750</td>\n",
       "      <td>0</td>\n",
       "      <td>0</td>\n",
       "      <td>25</td>\n",
       "      <td>0.0</td>\n",
       "      <td>0.0</td>\n",
       "      <td>1.0</td>\n",
       "      <td>0.0</td>\n",
       "      <td>1.0</td>\n",
       "    </tr>\n",
       "    <tr>\n",
       "      <th>6</th>\n",
       "      <td>0</td>\n",
       "      <td>0</td>\n",
       "      <td>43</td>\n",
       "      <td>69</td>\n",
       "      <td>130</td>\n",
       "      <td>635191</td>\n",
       "      <td>122446</td>\n",
       "      <td>90107</td>\n",
       "      <td>65072</td>\n",
       "      <td>36230</td>\n",
       "      <td>...</td>\n",
       "      <td>62938</td>\n",
       "      <td>59307</td>\n",
       "      <td>0</td>\n",
       "      <td>0</td>\n",
       "      <td>25</td>\n",
       "      <td>0.0</td>\n",
       "      <td>0.0</td>\n",
       "      <td>1.0</td>\n",
       "      <td>0.0</td>\n",
       "      <td>1.0</td>\n",
       "    </tr>\n",
       "    <tr>\n",
       "      <th>7</th>\n",
       "      <td>0</td>\n",
       "      <td>0</td>\n",
       "      <td>40</td>\n",
       "      <td>61</td>\n",
       "      <td>-2</td>\n",
       "      <td>161098</td>\n",
       "      <td>12119</td>\n",
       "      <td>1963</td>\n",
       "      <td>809</td>\n",
       "      <td>1277</td>\n",
       "      <td>...</td>\n",
       "      <td>3266</td>\n",
       "      <td>2518</td>\n",
       "      <td>0</td>\n",
       "      <td>0</td>\n",
       "      <td>25</td>\n",
       "      <td>0.0</td>\n",
       "      <td>0.0</td>\n",
       "      <td>1.0</td>\n",
       "      <td>0.0</td>\n",
       "      <td>1.0</td>\n",
       "    </tr>\n",
       "    <tr>\n",
       "      <th>8</th>\n",
       "      <td>0</td>\n",
       "      <td>0</td>\n",
       "      <td>43</td>\n",
       "      <td>69</td>\n",
       "      <td>17</td>\n",
       "      <td>492796</td>\n",
       "      <td>120998</td>\n",
       "      <td>63697</td>\n",
       "      <td>68242</td>\n",
       "      <td>10769</td>\n",
       "      <td>...</td>\n",
       "      <td>73756</td>\n",
       "      <td>22676</td>\n",
       "      <td>0</td>\n",
       "      <td>0</td>\n",
       "      <td>25</td>\n",
       "      <td>0.0</td>\n",
       "      <td>0.0</td>\n",
       "      <td>1.0</td>\n",
       "      <td>0.0</td>\n",
       "      <td>1.0</td>\n",
       "    </tr>\n",
       "    <tr>\n",
       "      <th>9</th>\n",
       "      <td>0</td>\n",
       "      <td>0</td>\n",
       "      <td>47</td>\n",
       "      <td>69</td>\n",
       "      <td>-59</td>\n",
       "      <td>82048</td>\n",
       "      <td>116131</td>\n",
       "      <td>47317</td>\n",
       "      <td>26197</td>\n",
       "      <td>41642</td>\n",
       "      <td>...</td>\n",
       "      <td>32551</td>\n",
       "      <td>41810</td>\n",
       "      <td>0</td>\n",
       "      <td>0</td>\n",
       "      <td>25</td>\n",
       "      <td>0.0</td>\n",
       "      <td>0.0</td>\n",
       "      <td>1.0</td>\n",
       "      <td>0.0</td>\n",
       "      <td>1.0</td>\n",
       "    </tr>\n",
       "  </tbody>\n",
       "</table>\n",
       "<p>10 rows × 21 columns</p>\n",
       "</div>"
      ],
      "text/plain": [
       "   subject ID  Video ID  Attention  Meditation  Raw    Delta   Theta  Alpha 1  \\\n",
       "0           0         0         56          43  278   301963   90612    33735   \n",
       "1           0         0         40          35  -50    73787   28083     1439   \n",
       "2           0         0         47          48  101   758353  383745   201999   \n",
       "3           0         0         47          57   -5  2012240  129350    61236   \n",
       "4           0         0         44          53   -8  1005145  354328    37102   \n",
       "5           0         0         44          66   73  1786446  176766    59352   \n",
       "6           0         0         43          69  130   635191  122446    90107   \n",
       "7           0         0         40          61   -2   161098   12119     1963   \n",
       "8           0         0         43          69   17   492796  120998    63697   \n",
       "9           0         0         47          69  -59    82048  116131    47317   \n",
       "\n",
       "   Alpha 2  Beta 1    ...      Gamma1  Gamma2  predefined label  \\\n",
       "0    23991   27946    ...       33228    8293                 0   \n",
       "1     2240    2746    ...        5293    2740                 0   \n",
       "2    62107   36293    ...       57243   25354                 0   \n",
       "3    17084   11488    ...       49960   33932                 0   \n",
       "4    88881   45307    ...       44790   29749                 0   \n",
       "5    26157   15054    ...       33782   31750                 0   \n",
       "6    65072   36230    ...       62938   59307                 0   \n",
       "7      809    1277    ...        3266    2518                 0   \n",
       "8    68242   10769    ...       73756   22676                 0   \n",
       "9    26197   41642    ...       32551   41810                 0   \n",
       "\n",
       "   Self-defined label   age   ethnicity_Bengali   ethnicity_English  \\\n",
       "0                   0    25                 0.0                 0.0   \n",
       "1                   0    25                 0.0                 0.0   \n",
       "2                   0    25                 0.0                 0.0   \n",
       "3                   0    25                 0.0                 0.0   \n",
       "4                   0    25                 0.0                 0.0   \n",
       "5                   0    25                 0.0                 0.0   \n",
       "6                   0    25                 0.0                 0.0   \n",
       "7                   0    25                 0.0                 0.0   \n",
       "8                   0    25                 0.0                 0.0   \n",
       "9                   0    25                 0.0                 0.0   \n",
       "\n",
       "    ethnicity_Han Chinese   gender_F   gender_M  \n",
       "0                     1.0        0.0        1.0  \n",
       "1                     1.0        0.0        1.0  \n",
       "2                     1.0        0.0        1.0  \n",
       "3                     1.0        0.0        1.0  \n",
       "4                     1.0        0.0        1.0  \n",
       "5                     1.0        0.0        1.0  \n",
       "6                     1.0        0.0        1.0  \n",
       "7                     1.0        0.0        1.0  \n",
       "8                     1.0        0.0        1.0  \n",
       "9                     1.0        0.0        1.0  \n",
       "\n",
       "[10 rows x 21 columns]"
      ]
     },
     "execution_count": 119,
     "metadata": {},
     "output_type": "execute_result"
    }
   ],
   "source": [
    "new_data = pd.get_dummies(new_data[['subject ID', 'Video ID', 'Attention', \n",
    "                                   'Meditation', 'Raw','Delta', 'Theta', 'Alpha 1', 'Alpha 2', \n",
    "                                   'Beta 1', 'Beta 2','Gamma1', 'Gamma2', 'predefined label', \n",
    "                                   'Self-defined label', ' age', ' ethnicity', ' gender']])\n",
    "\n",
    "new_data.head(10)"
   ]
  },
  {
   "cell_type": "code",
   "execution_count": null,
   "metadata": {
    "collapsed": true
   },
   "outputs": [],
   "source": []
  }
 ],
 "metadata": {
  "anaconda-cloud": {},
  "kernelspec": {
   "display_name": "Python [Root]",
   "language": "python",
   "name": "Python [Root]"
  },
  "language_info": {
   "codemirror_mode": {
    "name": "ipython",
    "version": 2
   },
   "file_extension": ".py",
   "mimetype": "text/x-python",
   "name": "python",
   "nbconvert_exporter": "python",
   "pygments_lexer": "ipython2",
   "version": "2.7.12"
  }
 },
 "nbformat": 4,
 "nbformat_minor": 0
}
