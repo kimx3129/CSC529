{
 "cells": [
  {
   "cell_type": "code",
   "execution_count": 107,
   "metadata": {
    "collapsed": true
   },
   "outputs": [],
   "source": [
    "import pandas as pd\n",
    "import numpy as np\n",
    "import matplotlib.pyplot as plt\n",
    "from scipy import stats\n",
    "% matplotlib inline"
   ]
  },
  {
   "cell_type": "code",
   "execution_count": 7,
   "metadata": {
    "collapsed": true
   },
   "outputs": [],
   "source": [
    "eeg = pd.read_csv('EEG data.csv')\n",
    "student = pd.read_csv('demographic info.csv')"
   ]
  },
  {
   "cell_type": "code",
   "execution_count": 8,
   "metadata": {
    "collapsed": false
   },
   "outputs": [
    {
     "data": {
      "text/html": [
       "<div>\n",
       "<table border=\"1\" class=\"dataframe\">\n",
       "  <thead>\n",
       "    <tr style=\"text-align: right;\">\n",
       "      <th></th>\n",
       "      <th>subject ID</th>\n",
       "      <th>Video ID</th>\n",
       "      <th>Attention</th>\n",
       "      <th>Meditation</th>\n",
       "      <th>Raw</th>\n",
       "      <th>Delta</th>\n",
       "      <th>Theta</th>\n",
       "      <th>Alpha 1</th>\n",
       "      <th>Alpha 2</th>\n",
       "      <th>Beta 1</th>\n",
       "      <th>Beta 2</th>\n",
       "      <th>Gamma1</th>\n",
       "      <th>Gamma2</th>\n",
       "      <th>predefined label</th>\n",
       "      <th>Self-defined label</th>\n",
       "    </tr>\n",
       "  </thead>\n",
       "  <tbody>\n",
       "    <tr>\n",
       "      <th>0</th>\n",
       "      <td>0</td>\n",
       "      <td>0</td>\n",
       "      <td>56</td>\n",
       "      <td>43</td>\n",
       "      <td>278</td>\n",
       "      <td>301963</td>\n",
       "      <td>90612</td>\n",
       "      <td>33735</td>\n",
       "      <td>23991</td>\n",
       "      <td>27946</td>\n",
       "      <td>45097</td>\n",
       "      <td>33228</td>\n",
       "      <td>8293</td>\n",
       "      <td>0</td>\n",
       "      <td>0</td>\n",
       "    </tr>\n",
       "    <tr>\n",
       "      <th>1</th>\n",
       "      <td>0</td>\n",
       "      <td>0</td>\n",
       "      <td>40</td>\n",
       "      <td>35</td>\n",
       "      <td>-50</td>\n",
       "      <td>73787</td>\n",
       "      <td>28083</td>\n",
       "      <td>1439</td>\n",
       "      <td>2240</td>\n",
       "      <td>2746</td>\n",
       "      <td>3687</td>\n",
       "      <td>5293</td>\n",
       "      <td>2740</td>\n",
       "      <td>0</td>\n",
       "      <td>0</td>\n",
       "    </tr>\n",
       "    <tr>\n",
       "      <th>2</th>\n",
       "      <td>0</td>\n",
       "      <td>0</td>\n",
       "      <td>47</td>\n",
       "      <td>48</td>\n",
       "      <td>101</td>\n",
       "      <td>758353</td>\n",
       "      <td>383745</td>\n",
       "      <td>201999</td>\n",
       "      <td>62107</td>\n",
       "      <td>36293</td>\n",
       "      <td>130536</td>\n",
       "      <td>57243</td>\n",
       "      <td>25354</td>\n",
       "      <td>0</td>\n",
       "      <td>0</td>\n",
       "    </tr>\n",
       "    <tr>\n",
       "      <th>3</th>\n",
       "      <td>0</td>\n",
       "      <td>0</td>\n",
       "      <td>47</td>\n",
       "      <td>57</td>\n",
       "      <td>-5</td>\n",
       "      <td>2012240</td>\n",
       "      <td>129350</td>\n",
       "      <td>61236</td>\n",
       "      <td>17084</td>\n",
       "      <td>11488</td>\n",
       "      <td>62462</td>\n",
       "      <td>49960</td>\n",
       "      <td>33932</td>\n",
       "      <td>0</td>\n",
       "      <td>0</td>\n",
       "    </tr>\n",
       "    <tr>\n",
       "      <th>4</th>\n",
       "      <td>0</td>\n",
       "      <td>0</td>\n",
       "      <td>44</td>\n",
       "      <td>53</td>\n",
       "      <td>-8</td>\n",
       "      <td>1005145</td>\n",
       "      <td>354328</td>\n",
       "      <td>37102</td>\n",
       "      <td>88881</td>\n",
       "      <td>45307</td>\n",
       "      <td>99603</td>\n",
       "      <td>44790</td>\n",
       "      <td>29749</td>\n",
       "      <td>0</td>\n",
       "      <td>0</td>\n",
       "    </tr>\n",
       "  </tbody>\n",
       "</table>\n",
       "</div>"
      ],
      "text/plain": [
       "   subject ID  Video ID  Attention  Meditation  Raw    Delta   Theta  Alpha 1  \\\n",
       "0           0         0         56          43  278   301963   90612    33735   \n",
       "1           0         0         40          35  -50    73787   28083     1439   \n",
       "2           0         0         47          48  101   758353  383745   201999   \n",
       "3           0         0         47          57   -5  2012240  129350    61236   \n",
       "4           0         0         44          53   -8  1005145  354328    37102   \n",
       "\n",
       "   Alpha 2  Beta 1  Beta 2  Gamma1  Gamma2  predefined label  \\\n",
       "0    23991   27946   45097   33228    8293                 0   \n",
       "1     2240    2746    3687    5293    2740                 0   \n",
       "2    62107   36293  130536   57243   25354                 0   \n",
       "3    17084   11488   62462   49960   33932                 0   \n",
       "4    88881   45307   99603   44790   29749                 0   \n",
       "\n",
       "   Self-defined label  \n",
       "0                   0  \n",
       "1                   0  \n",
       "2                   0  \n",
       "3                   0  \n",
       "4                   0  "
      ]
     },
     "execution_count": 8,
     "metadata": {},
     "output_type": "execute_result"
    }
   ],
   "source": [
    "eeg.head()"
   ]
  },
  {
   "cell_type": "code",
   "execution_count": 10,
   "metadata": {
    "collapsed": false
   },
   "outputs": [
    {
     "data": {
      "text/html": [
       "<div>\n",
       "<table border=\"1\" class=\"dataframe\">\n",
       "  <thead>\n",
       "    <tr style=\"text-align: right;\">\n",
       "      <th></th>\n",
       "      <th>subject ID</th>\n",
       "      <th>age</th>\n",
       "      <th>ethnicity</th>\n",
       "      <th>gender</th>\n",
       "    </tr>\n",
       "  </thead>\n",
       "  <tbody>\n",
       "    <tr>\n",
       "      <th>0</th>\n",
       "      <td>0</td>\n",
       "      <td>25</td>\n",
       "      <td>Han Chinese</td>\n",
       "      <td>M</td>\n",
       "    </tr>\n",
       "    <tr>\n",
       "      <th>1</th>\n",
       "      <td>1</td>\n",
       "      <td>24</td>\n",
       "      <td>Han Chinese</td>\n",
       "      <td>M</td>\n",
       "    </tr>\n",
       "    <tr>\n",
       "      <th>2</th>\n",
       "      <td>2</td>\n",
       "      <td>31</td>\n",
       "      <td>English</td>\n",
       "      <td>M</td>\n",
       "    </tr>\n",
       "    <tr>\n",
       "      <th>3</th>\n",
       "      <td>3</td>\n",
       "      <td>28</td>\n",
       "      <td>Han Chinese</td>\n",
       "      <td>F</td>\n",
       "    </tr>\n",
       "    <tr>\n",
       "      <th>4</th>\n",
       "      <td>4</td>\n",
       "      <td>24</td>\n",
       "      <td>Bengali</td>\n",
       "      <td>M</td>\n",
       "    </tr>\n",
       "  </tbody>\n",
       "</table>\n",
       "</div>"
      ],
      "text/plain": [
       "   subject ID   age    ethnicity  gender\n",
       "0           0    25  Han Chinese       M\n",
       "1           1    24  Han Chinese       M\n",
       "2           2    31      English       M\n",
       "3           3    28  Han Chinese       F\n",
       "4           4    24      Bengali       M"
      ]
     },
     "execution_count": 10,
     "metadata": {},
     "output_type": "execute_result"
    }
   ],
   "source": [
    "student.head()\n",
    "student.columns.values"
   ]
  },
  {
   "cell_type": "code",
   "execution_count": 27,
   "metadata": {
    "collapsed": false
   },
   "outputs": [
    {
     "data": {
      "text/html": [
       "<div>\n",
       "<table border=\"1\" class=\"dataframe\">\n",
       "  <thead>\n",
       "    <tr style=\"text-align: right;\">\n",
       "      <th></th>\n",
       "      <th>Video ID</th>\n",
       "      <th>Attention</th>\n",
       "      <th>Meditation</th>\n",
       "      <th>Raw</th>\n",
       "      <th>Delta</th>\n",
       "      <th>Theta</th>\n",
       "      <th>Alpha 1</th>\n",
       "      <th>Alpha 2</th>\n",
       "      <th>Beta 1</th>\n",
       "      <th>Beta 2</th>\n",
       "      <th>Gamma1</th>\n",
       "      <th>Gamma2</th>\n",
       "      <th>predefined label</th>\n",
       "      <th>Self-defined label</th>\n",
       "      <th>age</th>\n",
       "    </tr>\n",
       "    <tr>\n",
       "      <th>subject ID</th>\n",
       "      <th></th>\n",
       "      <th></th>\n",
       "      <th></th>\n",
       "      <th></th>\n",
       "      <th></th>\n",
       "      <th></th>\n",
       "      <th></th>\n",
       "      <th></th>\n",
       "      <th></th>\n",
       "      <th></th>\n",
       "      <th></th>\n",
       "      <th></th>\n",
       "      <th></th>\n",
       "      <th></th>\n",
       "      <th></th>\n",
       "    </tr>\n",
       "  </thead>\n",
       "  <tbody>\n",
       "    <tr>\n",
       "      <th>0</th>\n",
       "      <td>4.313243</td>\n",
       "      <td>48.630452</td>\n",
       "      <td>48.571768</td>\n",
       "      <td>33.042030</td>\n",
       "      <td>684941.555908</td>\n",
       "      <td>165919.786677</td>\n",
       "      <td>35990.755749</td>\n",
       "      <td>24487.685964</td>\n",
       "      <td>20288.437748</td>\n",
       "      <td>37128.914354</td>\n",
       "      <td>38343.019826</td>\n",
       "      <td>15736.938937</td>\n",
       "      <td>0.473434</td>\n",
       "      <td>0.511499</td>\n",
       "      <td>25.0</td>\n",
       "    </tr>\n",
       "    <tr>\n",
       "      <th>1</th>\n",
       "      <td>4.461184</td>\n",
       "      <td>45.561107</td>\n",
       "      <td>57.935434</td>\n",
       "      <td>33.599539</td>\n",
       "      <td>428179.287471</td>\n",
       "      <td>125888.289777</td>\n",
       "      <td>31765.673328</td>\n",
       "      <td>22985.478094</td>\n",
       "      <td>20740.016141</td>\n",
       "      <td>13590.006918</td>\n",
       "      <td>7021.468870</td>\n",
       "      <td>4535.732513</td>\n",
       "      <td>0.489623</td>\n",
       "      <td>0.402767</td>\n",
       "      <td>24.0</td>\n",
       "    </tr>\n",
       "    <tr>\n",
       "      <th>2</th>\n",
       "      <td>4.433801</td>\n",
       "      <td>55.971184</td>\n",
       "      <td>60.865265</td>\n",
       "      <td>33.904984</td>\n",
       "      <td>39549.890966</td>\n",
       "      <td>19263.661994</td>\n",
       "      <td>7781.796729</td>\n",
       "      <td>8248.434579</td>\n",
       "      <td>7975.485202</td>\n",
       "      <td>8410.145639</td>\n",
       "      <td>4621.512461</td>\n",
       "      <td>3556.214953</td>\n",
       "      <td>0.482866</td>\n",
       "      <td>0.508567</td>\n",
       "      <td>31.0</td>\n",
       "    </tr>\n",
       "    <tr>\n",
       "      <th>3</th>\n",
       "      <td>4.432268</td>\n",
       "      <td>40.044140</td>\n",
       "      <td>45.648402</td>\n",
       "      <td>34.219178</td>\n",
       "      <td>780844.464231</td>\n",
       "      <td>221221.465753</td>\n",
       "      <td>52551.698630</td>\n",
       "      <td>34068.783105</td>\n",
       "      <td>23391.176560</td>\n",
       "      <td>24573.475647</td>\n",
       "      <td>12363.896499</td>\n",
       "      <td>5303.480213</td>\n",
       "      <td>0.384323</td>\n",
       "      <td>0.493912</td>\n",
       "      <td>28.0</td>\n",
       "    </tr>\n",
       "    <tr>\n",
       "      <th>4</th>\n",
       "      <td>4.440154</td>\n",
       "      <td>44.895753</td>\n",
       "      <td>52.888803</td>\n",
       "      <td>38.635521</td>\n",
       "      <td>363673.088031</td>\n",
       "      <td>108926.853282</td>\n",
       "      <td>25011.400772</td>\n",
       "      <td>19826.601544</td>\n",
       "      <td>17363.406950</td>\n",
       "      <td>15166.986100</td>\n",
       "      <td>11229.140541</td>\n",
       "      <td>8828.527413</td>\n",
       "      <td>0.487259</td>\n",
       "      <td>0.584556</td>\n",
       "      <td>24.0</td>\n",
       "    </tr>\n",
       "    <tr>\n",
       "      <th>5</th>\n",
       "      <td>4.315372</td>\n",
       "      <td>46.616482</td>\n",
       "      <td>54.213946</td>\n",
       "      <td>34.487322</td>\n",
       "      <td>751906.218700</td>\n",
       "      <td>241902.458003</td>\n",
       "      <td>58220.128368</td>\n",
       "      <td>39022.931854</td>\n",
       "      <td>26944.388273</td>\n",
       "      <td>23847.141838</td>\n",
       "      <td>13674.559429</td>\n",
       "      <td>4347.840729</td>\n",
       "      <td>0.473851</td>\n",
       "      <td>0.607765</td>\n",
       "      <td>24.0</td>\n",
       "    </tr>\n",
       "    <tr>\n",
       "      <th>6</th>\n",
       "      <td>4.408627</td>\n",
       "      <td>0.000000</td>\n",
       "      <td>0.000000</td>\n",
       "      <td>348.143529</td>\n",
       "      <td>748472.609412</td>\n",
       "      <td>251335.407843</td>\n",
       "      <td>66816.250980</td>\n",
       "      <td>78602.474510</td>\n",
       "      <td>61069.448627</td>\n",
       "      <td>160509.882353</td>\n",
       "      <td>144203.941176</td>\n",
       "      <td>70526.086275</td>\n",
       "      <td>0.479216</td>\n",
       "      <td>0.500392</td>\n",
       "      <td>24.0</td>\n",
       "    </tr>\n",
       "    <tr>\n",
       "      <th>7</th>\n",
       "      <td>4.387931</td>\n",
       "      <td>44.844044</td>\n",
       "      <td>50.167712</td>\n",
       "      <td>36.307994</td>\n",
       "      <td>568962.452978</td>\n",
       "      <td>130318.122257</td>\n",
       "      <td>30058.974138</td>\n",
       "      <td>20911.165361</td>\n",
       "      <td>18988.803292</td>\n",
       "      <td>28899.112853</td>\n",
       "      <td>21948.364420</td>\n",
       "      <td>15656.793103</td>\n",
       "      <td>0.479624</td>\n",
       "      <td>0.618339</td>\n",
       "      <td>25.0</td>\n",
       "    </tr>\n",
       "    <tr>\n",
       "      <th>8</th>\n",
       "      <td>4.393916</td>\n",
       "      <td>43.990640</td>\n",
       "      <td>50.177847</td>\n",
       "      <td>35.666147</td>\n",
       "      <td>830712.153666</td>\n",
       "      <td>236931.875195</td>\n",
       "      <td>54706.961778</td>\n",
       "      <td>38513.213729</td>\n",
       "      <td>26461.799532</td>\n",
       "      <td>24249.097504</td>\n",
       "      <td>15605.233229</td>\n",
       "      <td>9436.329173</td>\n",
       "      <td>0.482059</td>\n",
       "      <td>0.402496</td>\n",
       "      <td>25.0</td>\n",
       "    </tr>\n",
       "    <tr>\n",
       "      <th>9</th>\n",
       "      <td>4.313243</td>\n",
       "      <td>42.507534</td>\n",
       "      <td>51.110230</td>\n",
       "      <td>29.070579</td>\n",
       "      <td>870734.973830</td>\n",
       "      <td>180547.519429</td>\n",
       "      <td>51447.114195</td>\n",
       "      <td>45816.708168</td>\n",
       "      <td>20216.413957</td>\n",
       "      <td>46573.854084</td>\n",
       "      <td>28369.115781</td>\n",
       "      <td>6730.126090</td>\n",
       "      <td>0.473434</td>\n",
       "      <td>0.498810</td>\n",
       "      <td>24.0</td>\n",
       "    </tr>\n",
       "  </tbody>\n",
       "</table>\n",
       "</div>"
      ],
      "text/plain": [
       "            Video ID  Attention  Meditation         Raw          Delta  \\\n",
       "subject ID                                                               \n",
       "0           4.313243  48.630452   48.571768   33.042030  684941.555908   \n",
       "1           4.461184  45.561107   57.935434   33.599539  428179.287471   \n",
       "2           4.433801  55.971184   60.865265   33.904984   39549.890966   \n",
       "3           4.432268  40.044140   45.648402   34.219178  780844.464231   \n",
       "4           4.440154  44.895753   52.888803   38.635521  363673.088031   \n",
       "5           4.315372  46.616482   54.213946   34.487322  751906.218700   \n",
       "6           4.408627   0.000000    0.000000  348.143529  748472.609412   \n",
       "7           4.387931  44.844044   50.167712   36.307994  568962.452978   \n",
       "8           4.393916  43.990640   50.177847   35.666147  830712.153666   \n",
       "9           4.313243  42.507534   51.110230   29.070579  870734.973830   \n",
       "\n",
       "                    Theta       Alpha 1       Alpha 2        Beta 1  \\\n",
       "subject ID                                                            \n",
       "0           165919.786677  35990.755749  24487.685964  20288.437748   \n",
       "1           125888.289777  31765.673328  22985.478094  20740.016141   \n",
       "2            19263.661994   7781.796729   8248.434579   7975.485202   \n",
       "3           221221.465753  52551.698630  34068.783105  23391.176560   \n",
       "4           108926.853282  25011.400772  19826.601544  17363.406950   \n",
       "5           241902.458003  58220.128368  39022.931854  26944.388273   \n",
       "6           251335.407843  66816.250980  78602.474510  61069.448627   \n",
       "7           130318.122257  30058.974138  20911.165361  18988.803292   \n",
       "8           236931.875195  54706.961778  38513.213729  26461.799532   \n",
       "9           180547.519429  51447.114195  45816.708168  20216.413957   \n",
       "\n",
       "                   Beta 2         Gamma1        Gamma2  predefined label  \\\n",
       "subject ID                                                                 \n",
       "0            37128.914354   38343.019826  15736.938937          0.473434   \n",
       "1            13590.006918    7021.468870   4535.732513          0.489623   \n",
       "2             8410.145639    4621.512461   3556.214953          0.482866   \n",
       "3            24573.475647   12363.896499   5303.480213          0.384323   \n",
       "4            15166.986100   11229.140541   8828.527413          0.487259   \n",
       "5            23847.141838   13674.559429   4347.840729          0.473851   \n",
       "6           160509.882353  144203.941176  70526.086275          0.479216   \n",
       "7            28899.112853   21948.364420  15656.793103          0.479624   \n",
       "8            24249.097504   15605.233229   9436.329173          0.482059   \n",
       "9            46573.854084   28369.115781   6730.126090          0.473434   \n",
       "\n",
       "            Self-defined label   age  \n",
       "subject ID                            \n",
       "0                     0.511499  25.0  \n",
       "1                     0.402767  24.0  \n",
       "2                     0.508567  31.0  \n",
       "3                     0.493912  28.0  \n",
       "4                     0.584556  24.0  \n",
       "5                     0.607765  24.0  \n",
       "6                     0.500392  24.0  \n",
       "7                     0.618339  25.0  \n",
       "8                     0.402496  25.0  \n",
       "9                     0.498810  24.0  "
      ]
     },
     "execution_count": 27,
     "metadata": {},
     "output_type": "execute_result"
    }
   ],
   "source": [
    "merged = pd.merge(eeg, student, how = 'inner', on = 'subject ID')\n",
    "merged.groupby('subject ID').mean()"
   ]
  },
  {
   "cell_type": "code",
   "execution_count": 28,
   "metadata": {
    "collapsed": false
   },
   "outputs": [
    {
     "data": {
      "text/plain": [
       "array(['subject ID', 'Video ID', 'Attention', 'Meditation', 'Raw', 'Delta',\n",
       "       'Theta', 'Alpha 1', 'Alpha 2', 'Beta 1', 'Beta 2', 'Gamma1',\n",
       "       'Gamma2', 'predefined label', 'Self-defined label', ' age',\n",
       "       ' ethnicity', ' gender'], dtype=object)"
      ]
     },
     "execution_count": 28,
     "metadata": {},
     "output_type": "execute_result"
    }
   ],
   "source": [
    "merged_final.columns.values"
   ]
  },
  {
   "cell_type": "code",
   "execution_count": 49,
   "metadata": {
    "collapsed": false
   },
   "outputs": [
    {
     "data": {
      "text/plain": [
       "11536"
      ]
     },
     "execution_count": 49,
     "metadata": {},
     "output_type": "execute_result"
    }
   ],
   "source": [
    "merged_final = merged.ix[(merged['subject ID'] != 6), ]\n",
    "finaldata = merged_final.rename(columns = {' age': 'age', ' ethnicity' : 'ethnicity', ' gender' : 'gender'})"
   ]
  },
  {
   "cell_type": "code",
   "execution_count": 133,
   "metadata": {
    "collapsed": false
   },
   "outputs": [
    {
     "data": {
      "text/plain": [
       "<matplotlib.axes._subplots.AxesSubplot at 0x10e93cd68>"
      ]
     },
     "execution_count": 133,
     "metadata": {},
     "output_type": "execute_result"
    },
    {
     "data": {
      "image/png": "[encoded data removed]",
      "text/plain": [
       "<matplotlib.figure.Figure at 0x108bd2c50>"
      ]
     },
     "metadata": {},
     "output_type": "display_data"
    }
   ],
   "source": [
    "subjects = finaldata.groupby('subject ID').mean()\n",
    "videos = finaldata.groupby('Video ID').mean()\n",
    "\n",
    "videos['Attention'].plot(kind='bar')\n",
    "videos['Meditation'].plot(kind='bar')\n",
    "#videos['Raw'].plot(kind='bar')\n",
    "#videos['Delta'].plot(kind='bar')\n",
    "#videos['Theta'].plot(kind='bar')\n",
    "#videos['Alpha 1'].plot(kind='bar')\n",
    "#videos['Alpha 2'].plot(kind='bar')\n",
    "#videos['Beta 1'].plot(kind='bar')\n",
    "#videos['Beta 2'].plot(kind='bar')\n",
    "#videos['Gamma1'].plot(kind='bar')\n",
    "#videos['Gamma2'].plot(kind='bar')"
   ]
  },
  {
   "cell_type": "code",
   "execution_count": 98,
   "metadata": {
    "collapsed": false
   },
   "outputs": [
    {
     "data": {
      "text/plain": [
       "<matplotlib.text.Text at 0x10dae6ac8>"
      ]
     },
     "execution_count": 98,
     "metadata": {},
     "output_type": "execute_result"
    },
    {
     "data": {
      "image/png": "[encoded data removed]",
      "text/plain": [
       "<matplotlib.figure.Figure at 0x10bb4c0f0>"
      ]
     },
     "metadata": {},
     "output_type": "display_data"
    }
   ],
   "source": [
    "subvid = finaldata.groupby(['subject ID', 'Video ID']).mean()\n",
    "\n",
    "numcols = ['Attention', 'Meditation', 'Raw', 'Delta', 'Theta', 'Alpha 1', 'Alpha 2', 'Beta 1', 'Beta 2', 'Gamma1', 'Gamma2']\n",
    "\n",
    "fig = plt.figure(figsize = (10, 20))\n",
    "fig.subplots_adjust(hspace=1.0)\n",
    "\n",
    "plt.subplot(821)\n",
    "subvid['Attention'].plot(kind = 'hist')\n",
    "plt.title('Attention')\n",
    "\n",
    "plt.subplot(822)\n",
    "subvid['Meditation'].plot(kind = 'hist')\n",
    "plt.title('Meditation')\n",
    "\n",
    "plt.subplot(823)\n",
    "subvid['Raw'].plot(kind = 'hist')\n",
    "plt.title('Raw')\n",
    "\n",
    "plt.subplot(824)\n",
    "subvid['Delta'].plot(kind = 'hist')\n",
    "plt.title('Delta')\n",
    "\n",
    "plt.subplot(825)\n",
    "subvid['Theta'].plot(kind = 'hist')\n",
    "plt.title('Theta')\n",
    "\n",
    "plt.subplot(826)\n",
    "subvid['Alpha 1'].plot(kind = 'hist')\n",
    "plt.title('Alpha 1')\n",
    "\n",
    "plt.subplot(827)\n",
    "subvid['Alpha 2'].plot(kind = 'hist')\n",
    "plt.title('Alpha 2')\n",
    "\n",
    "plt.subplot(828)\n",
    "subvid['Beta 1'].plot(kind = 'hist')\n",
    "plt.title('Beta 1')\n"
   ]
  },
  {
   "cell_type": "code",
   "execution_count": 102,
   "metadata": {
    "collapsed": false
   },
   "outputs": [
    {
     "data": {
      "text/plain": [
       "<matplotlib.text.Text at 0x1102c5240>"
      ]
     },
     "execution_count": 102,
     "metadata": {},
     "output_type": "execute_result"
    },
    {
     "data": {
      "image/png": "[encoded data removed]",
      "text/plain": [
       "<matplotlib.figure.Figure at 0x1100227b8>"
      ]
     },
     "metadata": {},
     "output_type": "display_data"
    }
   ],
   "source": [
    "fig = plt.figure(figsize = (10, 8))\n",
    "fig.subplots_adjust(hspace=1.0)\n",
    "\n",
    "plt.subplot(321)\n",
    "subvid['Beta 2'].plot(kind = 'hist')\n",
    "plt.title('Beta 2')\n",
    "\n",
    "plt.subplot(322)\n",
    "subvid['Gamma1'].plot(kind = 'hist')\n",
    "plt.title('Gamma1')\n",
    "\n",
    "plt.subplot(323)\n",
    "subvid['Gamma2'].plot(kind = 'hist')\n",
    "plt.title('Gamma2')"
   ]
  },
  {
   "cell_type": "code",
   "execution_count": 136,
   "metadata": {
    "collapsed": false
   },
   "outputs": [
    {
     "data": {
      "text/plain": [
       "<matplotlib.text.Text at 0x111f01dd8>"
      ]
     },
     "execution_count": 136,
     "metadata": {},
     "output_type": "execute_result"
    },
    {
     "data": {
      "image/png": "[encoded data removed]",
      "text/plain": [
       "<matplotlib.figure.Figure at 0x111d517f0>"
      ]
     },
     "metadata": {},
     "output_type": "display_data"
    }
   ],
   "source": [
    "# create zscores for features that appear normally distributed:\n",
    "scoredata = subvid[['Attention', 'Meditation', 'Raw']].apply(stats.zscore, axis=1)\n",
    "scoredata.rename(columns={'Attention' : 'Attention_z', 'Mediation' : 'Meditation_z', 'Raw' : 'Raw_z'}, inplace=True)\n",
    "\n",
    "# min max normalization for Delta variable (faily uniform)\n",
    "minmaxdata = (subvid['Delta'] - subvid['Delta'].min()) / (subvid['Delta'].max() - subvid['Delta'].min())\n",
    "minmaxdata = pd.DataFrame(minmaxdata)\n",
    "minmaxdata.columns = ['Delta_mm']\n",
    "\n",
    "# log transform on skewed columns\n",
    "logdata = subvid[['Theta', 'Alpha 1', 'Alpha 2', 'Beta 1', 'Beta 2', 'Gamma1', 'Gamma2']].copy()\n",
    "logdata.rename(columns = {'Theta' : 'Theta_log', \n",
    "                           'Alpha 1' : 'Alpha1_log', \n",
    "                           'Alpha 2' : 'Alpha2_log', \n",
    "                           'Beta 1' : 'Beta1_log', \n",
    "                           'Beta 2' : 'Beta2_log', \n",
    "                           'Gamma1' : 'Gamma1_log', \n",
    "                           'Gamma2' : 'Gamma2_log'}, \n",
    "                inplace = True)\n",
    "\n",
    "logdata = logdata.apply(np.log, axis = 1)\n",
    "\n",
    "nums_final = pd.concat([scoredata, minmaxdata, logdata], axis = 1)\n",
    "nums_final.corr()\n",
    "\n",
    "\n",
    "fig = plt.figure(figsize = (10, 20))\n",
    "\n",
    "plt.subplot(221)\n",
    "nums_final['Beta2_log'].plot(kind='hist')\n",
    "plt.title('log transformed')\n",
    "\n",
    "plt.subplot(222)\n",
    "subvid['Beta 2'].plot(kind='hist')\n",
    "plt.title('untransformed')\n",
    "\n",
    "\n"
   ]
  }
 ],
 "metadata": {
  "kernelspec": {
   "display_name": "Python 3",
   "language": "python",
   "name": "python3"
  },
  "language_info": {
   "codemirror_mode": {
    "name": "ipython",
    "version": 3
   },
   "file_extension": ".py",
   "mimetype": "text/x-python",
   "name": "python",
   "nbconvert_exporter": "python",
   "pygments_lexer": "ipython3",
   "version": "3.4.3"
  }
 },
 "nbformat": 4,
 "nbformat_minor": 1
}
