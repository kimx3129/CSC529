{
 "cells": [
  {
   "cell_type": "code",
   "execution_count": 1,
   "metadata": {
    "collapsed": false
   },
   "outputs": [],
   "source": [
    "import pandas as pd\n",
    "import numpy as np\n",
    "import matplotlib.pyplot as plt\n",
    "import os\n",
    "%matplotlib inline"
   ]
  },
  {
   "cell_type": "code",
   "execution_count": 2,
   "metadata": {
    "collapsed": false
   },
   "outputs": [],
   "source": [
    "path = 'C:/Users/Abram/Documents/Education/DePaul/CSC529/final project'"
   ]
  },
  {
   "cell_type": "code",
   "execution_count": 3,
   "metadata": {
    "collapsed": true
   },
   "outputs": [],
   "source": [
    "demographicData = os.path.join(path, 'demographic info.csv')"
   ]
  },
  {
   "cell_type": "code",
   "execution_count": 4,
   "metadata": {
    "collapsed": true
   },
   "outputs": [],
   "source": [
    "demographicData = pd.read_csv(demographicData)"
   ]
  },
  {
   "cell_type": "code",
   "execution_count": 11,
   "metadata": {
    "collapsed": false
   },
   "outputs": [
    {
     "data": {
      "text/html": [
       "<div>\n",
       "<table border=\"1\" class=\"dataframe\">\n",
       "  <thead>\n",
       "    <tr style=\"text-align: right;\">\n",
       "      <th></th>\n",
       "      <th>subject ID</th>\n",
       "      <th>age</th>\n",
       "      <th>ethnicity</th>\n",
       "      <th>gender</th>\n",
       "    </tr>\n",
       "  </thead>\n",
       "  <tbody>\n",
       "    <tr>\n",
       "      <th>0</th>\n",
       "      <td>0</td>\n",
       "      <td>25</td>\n",
       "      <td>Han Chinese</td>\n",
       "      <td>M</td>\n",
       "    </tr>\n",
       "    <tr>\n",
       "      <th>1</th>\n",
       "      <td>1</td>\n",
       "      <td>24</td>\n",
       "      <td>Han Chinese</td>\n",
       "      <td>M</td>\n",
       "    </tr>\n",
       "    <tr>\n",
       "      <th>2</th>\n",
       "      <td>2</td>\n",
       "      <td>31</td>\n",
       "      <td>English</td>\n",
       "      <td>M</td>\n",
       "    </tr>\n",
       "    <tr>\n",
       "      <th>3</th>\n",
       "      <td>3</td>\n",
       "      <td>28</td>\n",
       "      <td>Han Chinese</td>\n",
       "      <td>F</td>\n",
       "    </tr>\n",
       "    <tr>\n",
       "      <th>4</th>\n",
       "      <td>4</td>\n",
       "      <td>24</td>\n",
       "      <td>Bengali</td>\n",
       "      <td>M</td>\n",
       "    </tr>\n",
       "  </tbody>\n",
       "</table>\n",
       "</div>"
      ],
      "text/plain": [
       "   subject ID   age    ethnicity  gender\n",
       "0           0    25  Han Chinese       M\n",
       "1           1    24  Han Chinese       M\n",
       "2           2    31      English       M\n",
       "3           3    28  Han Chinese       F\n",
       "4           4    24      Bengali       M"
      ]
     },
     "execution_count": 11,
     "metadata": {},
     "output_type": "execute_result"
    }
   ],
   "source": [
    "demographicData.head()"
   ]
  },
  {
   "cell_type": "code",
   "execution_count": 12,
   "metadata": {
    "collapsed": false
   },
   "outputs": [
    {
     "data": {
      "text/plain": [
       "(10, 4)"
      ]
     },
     "execution_count": 12,
     "metadata": {},
     "output_type": "execute_result"
    }
   ],
   "source": [
    "demographicData.shape"
   ]
  },
  {
   "cell_type": "code",
   "execution_count": 13,
   "metadata": {
    "collapsed": false
   },
   "outputs": [
    {
     "data": {
      "text/html": [
       "<div>\n",
       "<table border=\"1\" class=\"dataframe\">\n",
       "  <thead>\n",
       "    <tr style=\"text-align: right;\">\n",
       "      <th></th>\n",
       "      <th>subject ID</th>\n",
       "      <th>age</th>\n",
       "      <th>ethnicity</th>\n",
       "      <th>gender</th>\n",
       "    </tr>\n",
       "  </thead>\n",
       "  <tbody>\n",
       "    <tr>\n",
       "      <th>0</th>\n",
       "      <td>0</td>\n",
       "      <td>25</td>\n",
       "      <td>Han Chinese</td>\n",
       "      <td>M</td>\n",
       "    </tr>\n",
       "    <tr>\n",
       "      <th>1</th>\n",
       "      <td>1</td>\n",
       "      <td>24</td>\n",
       "      <td>Han Chinese</td>\n",
       "      <td>M</td>\n",
       "    </tr>\n",
       "    <tr>\n",
       "      <th>2</th>\n",
       "      <td>2</td>\n",
       "      <td>31</td>\n",
       "      <td>English</td>\n",
       "      <td>M</td>\n",
       "    </tr>\n",
       "    <tr>\n",
       "      <th>3</th>\n",
       "      <td>3</td>\n",
       "      <td>28</td>\n",
       "      <td>Han Chinese</td>\n",
       "      <td>F</td>\n",
       "    </tr>\n",
       "    <tr>\n",
       "      <th>4</th>\n",
       "      <td>4</td>\n",
       "      <td>24</td>\n",
       "      <td>Bengali</td>\n",
       "      <td>M</td>\n",
       "    </tr>\n",
       "    <tr>\n",
       "      <th>5</th>\n",
       "      <td>5</td>\n",
       "      <td>24</td>\n",
       "      <td>Han Chinese</td>\n",
       "      <td>M</td>\n",
       "    </tr>\n",
       "    <tr>\n",
       "      <th>6</th>\n",
       "      <td>6</td>\n",
       "      <td>24</td>\n",
       "      <td>Han Chinese</td>\n",
       "      <td>M</td>\n",
       "    </tr>\n",
       "    <tr>\n",
       "      <th>7</th>\n",
       "      <td>7</td>\n",
       "      <td>25</td>\n",
       "      <td>Han Chinese</td>\n",
       "      <td>M</td>\n",
       "    </tr>\n",
       "    <tr>\n",
       "      <th>8</th>\n",
       "      <td>8</td>\n",
       "      <td>25</td>\n",
       "      <td>Han Chinese</td>\n",
       "      <td>M</td>\n",
       "    </tr>\n",
       "    <tr>\n",
       "      <th>9</th>\n",
       "      <td>9</td>\n",
       "      <td>24</td>\n",
       "      <td>Han Chinese</td>\n",
       "      <td>F</td>\n",
       "    </tr>\n",
       "  </tbody>\n",
       "</table>\n",
       "</div>"
      ],
      "text/plain": [
       "   subject ID   age    ethnicity  gender\n",
       "0           0    25  Han Chinese       M\n",
       "1           1    24  Han Chinese       M\n",
       "2           2    31      English       M\n",
       "3           3    28  Han Chinese       F\n",
       "4           4    24      Bengali       M\n",
       "5           5    24  Han Chinese       M\n",
       "6           6    24  Han Chinese       M\n",
       "7           7    25  Han Chinese       M\n",
       "8           8    25  Han Chinese       M\n",
       "9           9    24  Han Chinese       F"
      ]
     },
     "execution_count": 13,
     "metadata": {},
     "output_type": "execute_result"
    }
   ],
   "source": [
    "demographicData"
   ]
  },
  {
   "cell_type": "code",
   "execution_count": 14,
   "metadata": {
    "collapsed": true
   },
   "outputs": [],
   "source": [
    "eegData = os.path.join(path, 'EEG data.csv')"
   ]
  },
  {
   "cell_type": "code",
   "execution_count": 15,
   "metadata": {
    "collapsed": true
   },
   "outputs": [],
   "source": [
    "eegData = pd.read_csv(eegData)"
   ]
  },
  {
   "cell_type": "code",
   "execution_count": 16,
   "metadata": {
    "collapsed": false
   },
   "outputs": [
    {
     "data": {
      "text/html": [
       "<div>\n",
       "<table border=\"1\" class=\"dataframe\">\n",
       "  <thead>\n",
       "    <tr style=\"text-align: right;\">\n",
       "      <th></th>\n",
       "      <th>subject ID</th>\n",
       "      <th>Video ID</th>\n",
       "      <th>Attention</th>\n",
       "      <th>Meditation</th>\n",
       "      <th>Raw</th>\n",
       "      <th>Delta</th>\n",
       "      <th>Theta</th>\n",
       "      <th>Alpha 1</th>\n",
       "      <th>Alpha 2</th>\n",
       "      <th>Beta 1</th>\n",
       "      <th>Beta 2</th>\n",
       "      <th>Gamma1</th>\n",
       "      <th>Gamma2</th>\n",
       "      <th>predefined label</th>\n",
       "      <th>Self-defined label</th>\n",
       "    </tr>\n",
       "  </thead>\n",
       "  <tbody>\n",
       "    <tr>\n",
       "      <th>0</th>\n",
       "      <td>0</td>\n",
       "      <td>0</td>\n",
       "      <td>56</td>\n",
       "      <td>43</td>\n",
       "      <td>278</td>\n",
       "      <td>301963</td>\n",
       "      <td>90612</td>\n",
       "      <td>33735</td>\n",
       "      <td>23991</td>\n",
       "      <td>27946</td>\n",
       "      <td>45097</td>\n",
       "      <td>33228</td>\n",
       "      <td>8293</td>\n",
       "      <td>0</td>\n",
       "      <td>0</td>\n",
       "    </tr>\n",
       "    <tr>\n",
       "      <th>1</th>\n",
       "      <td>0</td>\n",
       "      <td>0</td>\n",
       "      <td>40</td>\n",
       "      <td>35</td>\n",
       "      <td>-50</td>\n",
       "      <td>73787</td>\n",
       "      <td>28083</td>\n",
       "      <td>1439</td>\n",
       "      <td>2240</td>\n",
       "      <td>2746</td>\n",
       "      <td>3687</td>\n",
       "      <td>5293</td>\n",
       "      <td>2740</td>\n",
       "      <td>0</td>\n",
       "      <td>0</td>\n",
       "    </tr>\n",
       "    <tr>\n",
       "      <th>2</th>\n",
       "      <td>0</td>\n",
       "      <td>0</td>\n",
       "      <td>47</td>\n",
       "      <td>48</td>\n",
       "      <td>101</td>\n",
       "      <td>758353</td>\n",
       "      <td>383745</td>\n",
       "      <td>201999</td>\n",
       "      <td>62107</td>\n",
       "      <td>36293</td>\n",
       "      <td>130536</td>\n",
       "      <td>57243</td>\n",
       "      <td>25354</td>\n",
       "      <td>0</td>\n",
       "      <td>0</td>\n",
       "    </tr>\n",
       "    <tr>\n",
       "      <th>3</th>\n",
       "      <td>0</td>\n",
       "      <td>0</td>\n",
       "      <td>47</td>\n",
       "      <td>57</td>\n",
       "      <td>-5</td>\n",
       "      <td>2012240</td>\n",
       "      <td>129350</td>\n",
       "      <td>61236</td>\n",
       "      <td>17084</td>\n",
       "      <td>11488</td>\n",
       "      <td>62462</td>\n",
       "      <td>49960</td>\n",
       "      <td>33932</td>\n",
       "      <td>0</td>\n",
       "      <td>0</td>\n",
       "    </tr>\n",
       "    <tr>\n",
       "      <th>4</th>\n",
       "      <td>0</td>\n",
       "      <td>0</td>\n",
       "      <td>44</td>\n",
       "      <td>53</td>\n",
       "      <td>-8</td>\n",
       "      <td>1005145</td>\n",
       "      <td>354328</td>\n",
       "      <td>37102</td>\n",
       "      <td>88881</td>\n",
       "      <td>45307</td>\n",
       "      <td>99603</td>\n",
       "      <td>44790</td>\n",
       "      <td>29749</td>\n",
       "      <td>0</td>\n",
       "      <td>0</td>\n",
       "    </tr>\n",
       "    <tr>\n",
       "      <th>5</th>\n",
       "      <td>0</td>\n",
       "      <td>0</td>\n",
       "      <td>44</td>\n",
       "      <td>66</td>\n",
       "      <td>73</td>\n",
       "      <td>1786446</td>\n",
       "      <td>176766</td>\n",
       "      <td>59352</td>\n",
       "      <td>26157</td>\n",
       "      <td>15054</td>\n",
       "      <td>33669</td>\n",
       "      <td>33782</td>\n",
       "      <td>31750</td>\n",
       "      <td>0</td>\n",
       "      <td>0</td>\n",
       "    </tr>\n",
       "    <tr>\n",
       "      <th>6</th>\n",
       "      <td>0</td>\n",
       "      <td>0</td>\n",
       "      <td>43</td>\n",
       "      <td>69</td>\n",
       "      <td>130</td>\n",
       "      <td>635191</td>\n",
       "      <td>122446</td>\n",
       "      <td>90107</td>\n",
       "      <td>65072</td>\n",
       "      <td>36230</td>\n",
       "      <td>53019</td>\n",
       "      <td>62938</td>\n",
       "      <td>59307</td>\n",
       "      <td>0</td>\n",
       "      <td>0</td>\n",
       "    </tr>\n",
       "    <tr>\n",
       "      <th>7</th>\n",
       "      <td>0</td>\n",
       "      <td>0</td>\n",
       "      <td>40</td>\n",
       "      <td>61</td>\n",
       "      <td>-2</td>\n",
       "      <td>161098</td>\n",
       "      <td>12119</td>\n",
       "      <td>1963</td>\n",
       "      <td>809</td>\n",
       "      <td>1277</td>\n",
       "      <td>3186</td>\n",
       "      <td>3266</td>\n",
       "      <td>2518</td>\n",
       "      <td>0</td>\n",
       "      <td>0</td>\n",
       "    </tr>\n",
       "    <tr>\n",
       "      <th>8</th>\n",
       "      <td>0</td>\n",
       "      <td>0</td>\n",
       "      <td>43</td>\n",
       "      <td>69</td>\n",
       "      <td>17</td>\n",
       "      <td>492796</td>\n",
       "      <td>120998</td>\n",
       "      <td>63697</td>\n",
       "      <td>68242</td>\n",
       "      <td>10769</td>\n",
       "      <td>88403</td>\n",
       "      <td>73756</td>\n",
       "      <td>22676</td>\n",
       "      <td>0</td>\n",
       "      <td>0</td>\n",
       "    </tr>\n",
       "    <tr>\n",
       "      <th>9</th>\n",
       "      <td>0</td>\n",
       "      <td>0</td>\n",
       "      <td>47</td>\n",
       "      <td>69</td>\n",
       "      <td>-59</td>\n",
       "      <td>82048</td>\n",
       "      <td>116131</td>\n",
       "      <td>47317</td>\n",
       "      <td>26197</td>\n",
       "      <td>41642</td>\n",
       "      <td>28866</td>\n",
       "      <td>32551</td>\n",
       "      <td>41810</td>\n",
       "      <td>0</td>\n",
       "      <td>0</td>\n",
       "    </tr>\n",
       "  </tbody>\n",
       "</table>\n",
       "</div>"
      ],
      "text/plain": [
       "   subject ID  Video ID  Attention  Meditation  Raw    Delta   Theta  Alpha 1  \\\n",
       "0           0         0         56          43  278   301963   90612    33735   \n",
       "1           0         0         40          35  -50    73787   28083     1439   \n",
       "2           0         0         47          48  101   758353  383745   201999   \n",
       "3           0         0         47          57   -5  2012240  129350    61236   \n",
       "4           0         0         44          53   -8  1005145  354328    37102   \n",
       "5           0         0         44          66   73  1786446  176766    59352   \n",
       "6           0         0         43          69  130   635191  122446    90107   \n",
       "7           0         0         40          61   -2   161098   12119     1963   \n",
       "8           0         0         43          69   17   492796  120998    63697   \n",
       "9           0         0         47          69  -59    82048  116131    47317   \n",
       "\n",
       "   Alpha 2  Beta 1  Beta 2  Gamma1  Gamma2  predefined label  \\\n",
       "0    23991   27946   45097   33228    8293                 0   \n",
       "1     2240    2746    3687    5293    2740                 0   \n",
       "2    62107   36293  130536   57243   25354                 0   \n",
       "3    17084   11488   62462   49960   33932                 0   \n",
       "4    88881   45307   99603   44790   29749                 0   \n",
       "5    26157   15054   33669   33782   31750                 0   \n",
       "6    65072   36230   53019   62938   59307                 0   \n",
       "7      809    1277    3186    3266    2518                 0   \n",
       "8    68242   10769   88403   73756   22676                 0   \n",
       "9    26197   41642   28866   32551   41810                 0   \n",
       "\n",
       "   Self-defined label  \n",
       "0                   0  \n",
       "1                   0  \n",
       "2                   0  \n",
       "3                   0  \n",
       "4                   0  \n",
       "5                   0  \n",
       "6                   0  \n",
       "7                   0  \n",
       "8                   0  \n",
       "9                   0  "
      ]
     },
     "execution_count": 16,
     "metadata": {},
     "output_type": "execute_result"
    }
   ],
   "source": [
    "eegData.head(10)"
   ]
  },
  {
   "cell_type": "code",
   "execution_count": 17,
   "metadata": {
    "collapsed": false
   },
   "outputs": [
    {
     "data": {
      "text/plain": [
       "(12811, 15)"
      ]
     },
     "execution_count": 17,
     "metadata": {},
     "output_type": "execute_result"
    }
   ],
   "source": [
    "eegData.shape"
   ]
  },
  {
   "cell_type": "code",
   "execution_count": 18,
   "metadata": {
    "collapsed": false
   },
   "outputs": [
    {
     "name": "stdout",
     "output_type": "stream",
     "text": [
      "subject ID\n",
      "Video ID\n",
      "Attention\n",
      "Meditation\n",
      "Raw\n",
      "Delta\n",
      "Theta\n",
      "Alpha 1\n",
      "Alpha 2\n",
      "Beta 1\n",
      "Beta 2\n",
      "Gamma1\n",
      "Gamma2\n",
      "predefined label\n",
      "Self-defined label\n"
     ]
    }
   ],
   "source": [
    "for i in eegData.head(0):\n",
    "    print(i)"
   ]
  },
  {
   "cell_type": "code",
   "execution_count": 19,
   "metadata": {
    "collapsed": true
   },
   "outputs": [],
   "source": [
    "eegData = eegData[eegData['subject ID'] != 6]"
   ]
  },
  {
   "cell_type": "code",
   "execution_count": 20,
   "metadata": {
    "collapsed": false
   },
   "outputs": [
    {
     "data": {
      "text/plain": [
       "(11536, 15)"
      ]
     },
     "execution_count": 20,
     "metadata": {},
     "output_type": "execute_result"
    }
   ],
   "source": [
    "eegData.shape"
   ]
  },
  {
   "cell_type": "code",
   "execution_count": 21,
   "metadata": {
    "collapsed": false
   },
   "outputs": [
    {
     "data": {
      "text/html": [
       "<div>\n",
       "<table border=\"1\" class=\"dataframe\">\n",
       "  <thead>\n",
       "    <tr style=\"text-align: right;\">\n",
       "      <th></th>\n",
       "      <th>subject ID</th>\n",
       "      <th>Video ID</th>\n",
       "      <th>Attention</th>\n",
       "      <th>Meditation</th>\n",
       "      <th>Raw</th>\n",
       "      <th>Delta</th>\n",
       "      <th>Theta</th>\n",
       "      <th>Alpha 1</th>\n",
       "      <th>Alpha 2</th>\n",
       "      <th>Beta 1</th>\n",
       "      <th>Beta 2</th>\n",
       "      <th>Gamma1</th>\n",
       "      <th>Gamma2</th>\n",
       "      <th>predefined label</th>\n",
       "      <th>Self-defined label</th>\n",
       "    </tr>\n",
       "  </thead>\n",
       "  <tbody>\n",
       "    <tr>\n",
       "      <th>0</th>\n",
       "      <td>0</td>\n",
       "      <td>0</td>\n",
       "      <td>56</td>\n",
       "      <td>43</td>\n",
       "      <td>278</td>\n",
       "      <td>301963</td>\n",
       "      <td>90612</td>\n",
       "      <td>33735</td>\n",
       "      <td>23991</td>\n",
       "      <td>27946</td>\n",
       "      <td>45097</td>\n",
       "      <td>33228</td>\n",
       "      <td>8293</td>\n",
       "      <td>0</td>\n",
       "      <td>0</td>\n",
       "    </tr>\n",
       "    <tr>\n",
       "      <th>1</th>\n",
       "      <td>0</td>\n",
       "      <td>0</td>\n",
       "      <td>40</td>\n",
       "      <td>35</td>\n",
       "      <td>-50</td>\n",
       "      <td>73787</td>\n",
       "      <td>28083</td>\n",
       "      <td>1439</td>\n",
       "      <td>2240</td>\n",
       "      <td>2746</td>\n",
       "      <td>3687</td>\n",
       "      <td>5293</td>\n",
       "      <td>2740</td>\n",
       "      <td>0</td>\n",
       "      <td>0</td>\n",
       "    </tr>\n",
       "    <tr>\n",
       "      <th>2</th>\n",
       "      <td>0</td>\n",
       "      <td>0</td>\n",
       "      <td>47</td>\n",
       "      <td>48</td>\n",
       "      <td>101</td>\n",
       "      <td>758353</td>\n",
       "      <td>383745</td>\n",
       "      <td>201999</td>\n",
       "      <td>62107</td>\n",
       "      <td>36293</td>\n",
       "      <td>130536</td>\n",
       "      <td>57243</td>\n",
       "      <td>25354</td>\n",
       "      <td>0</td>\n",
       "      <td>0</td>\n",
       "    </tr>\n",
       "    <tr>\n",
       "      <th>3</th>\n",
       "      <td>0</td>\n",
       "      <td>0</td>\n",
       "      <td>47</td>\n",
       "      <td>57</td>\n",
       "      <td>-5</td>\n",
       "      <td>2012240</td>\n",
       "      <td>129350</td>\n",
       "      <td>61236</td>\n",
       "      <td>17084</td>\n",
       "      <td>11488</td>\n",
       "      <td>62462</td>\n",
       "      <td>49960</td>\n",
       "      <td>33932</td>\n",
       "      <td>0</td>\n",
       "      <td>0</td>\n",
       "    </tr>\n",
       "    <tr>\n",
       "      <th>4</th>\n",
       "      <td>0</td>\n",
       "      <td>0</td>\n",
       "      <td>44</td>\n",
       "      <td>53</td>\n",
       "      <td>-8</td>\n",
       "      <td>1005145</td>\n",
       "      <td>354328</td>\n",
       "      <td>37102</td>\n",
       "      <td>88881</td>\n",
       "      <td>45307</td>\n",
       "      <td>99603</td>\n",
       "      <td>44790</td>\n",
       "      <td>29749</td>\n",
       "      <td>0</td>\n",
       "      <td>0</td>\n",
       "    </tr>\n",
       "  </tbody>\n",
       "</table>\n",
       "</div>"
      ],
      "text/plain": [
       "   subject ID  Video ID  Attention  Meditation  Raw    Delta   Theta  Alpha 1  \\\n",
       "0           0         0         56          43  278   301963   90612    33735   \n",
       "1           0         0         40          35  -50    73787   28083     1439   \n",
       "2           0         0         47          48  101   758353  383745   201999   \n",
       "3           0         0         47          57   -5  2012240  129350    61236   \n",
       "4           0         0         44          53   -8  1005145  354328    37102   \n",
       "\n",
       "   Alpha 2  Beta 1  Beta 2  Gamma1  Gamma2  predefined label  \\\n",
       "0    23991   27946   45097   33228    8293                 0   \n",
       "1     2240    2746    3687    5293    2740                 0   \n",
       "2    62107   36293  130536   57243   25354                 0   \n",
       "3    17084   11488   62462   49960   33932                 0   \n",
       "4    88881   45307   99603   44790   29749                 0   \n",
       "\n",
       "   Self-defined label  \n",
       "0                   0  \n",
       "1                   0  \n",
       "2                   0  \n",
       "3                   0  \n",
       "4                   0  "
      ]
     },
     "execution_count": 21,
     "metadata": {},
     "output_type": "execute_result"
    }
   ],
   "source": [
    "eegData.head()"
   ]
  },
  {
   "cell_type": "code",
   "execution_count": 22,
   "metadata": {
    "collapsed": true
   },
   "outputs": [],
   "source": [
    "mergedData = os.path.join(path, 'EEG_merged.csv')"
   ]
  },
  {
   "cell_type": "code",
   "execution_count": 23,
   "metadata": {
    "collapsed": true
   },
   "outputs": [],
   "source": [
    "mergedData = pd.read_csv(mergedData)"
   ]
  },
  {
   "cell_type": "code",
   "execution_count": 24,
   "metadata": {
    "collapsed": true
   },
   "outputs": [],
   "source": [
    "eegData = mergedData"
   ]
  },
  {
   "cell_type": "code",
   "execution_count": 25,
   "metadata": {
    "collapsed": false
   },
   "outputs": [
    {
     "data": {
      "text/html": [
       "<div>\n",
       "<table border=\"1\" class=\"dataframe\">\n",
       "  <thead>\n",
       "    <tr style=\"text-align: right;\">\n",
       "      <th></th>\n",
       "      <th>subject ID</th>\n",
       "      <th>Video ID</th>\n",
       "      <th>Attention</th>\n",
       "      <th>Meditation</th>\n",
       "      <th>Raw</th>\n",
       "      <th>Delta</th>\n",
       "      <th>Theta</th>\n",
       "      <th>Alpha 1</th>\n",
       "      <th>Alpha 2</th>\n",
       "      <th>Beta 1</th>\n",
       "      <th>Beta 2</th>\n",
       "      <th>Gamma1</th>\n",
       "      <th>Gamma2</th>\n",
       "      <th>predefined label</th>\n",
       "      <th>Self-defined label</th>\n",
       "      <th>age</th>\n",
       "      <th>ethnicity</th>\n",
       "      <th>gender</th>\n",
       "    </tr>\n",
       "  </thead>\n",
       "  <tbody>\n",
       "    <tr>\n",
       "      <th>0</th>\n",
       "      <td>0</td>\n",
       "      <td>0</td>\n",
       "      <td>56</td>\n",
       "      <td>43</td>\n",
       "      <td>278</td>\n",
       "      <td>301963</td>\n",
       "      <td>90612</td>\n",
       "      <td>33735</td>\n",
       "      <td>23991</td>\n",
       "      <td>27946</td>\n",
       "      <td>45097</td>\n",
       "      <td>33228</td>\n",
       "      <td>8293</td>\n",
       "      <td>0</td>\n",
       "      <td>0</td>\n",
       "      <td>25</td>\n",
       "      <td>Han Chinese</td>\n",
       "      <td>M</td>\n",
       "    </tr>\n",
       "    <tr>\n",
       "      <th>1</th>\n",
       "      <td>0</td>\n",
       "      <td>0</td>\n",
       "      <td>40</td>\n",
       "      <td>35</td>\n",
       "      <td>-50</td>\n",
       "      <td>73787</td>\n",
       "      <td>28083</td>\n",
       "      <td>1439</td>\n",
       "      <td>2240</td>\n",
       "      <td>2746</td>\n",
       "      <td>3687</td>\n",
       "      <td>5293</td>\n",
       "      <td>2740</td>\n",
       "      <td>0</td>\n",
       "      <td>0</td>\n",
       "      <td>25</td>\n",
       "      <td>Han Chinese</td>\n",
       "      <td>M</td>\n",
       "    </tr>\n",
       "    <tr>\n",
       "      <th>2</th>\n",
       "      <td>0</td>\n",
       "      <td>0</td>\n",
       "      <td>47</td>\n",
       "      <td>48</td>\n",
       "      <td>101</td>\n",
       "      <td>758353</td>\n",
       "      <td>383745</td>\n",
       "      <td>201999</td>\n",
       "      <td>62107</td>\n",
       "      <td>36293</td>\n",
       "      <td>130536</td>\n",
       "      <td>57243</td>\n",
       "      <td>25354</td>\n",
       "      <td>0</td>\n",
       "      <td>0</td>\n",
       "      <td>25</td>\n",
       "      <td>Han Chinese</td>\n",
       "      <td>M</td>\n",
       "    </tr>\n",
       "    <tr>\n",
       "      <th>3</th>\n",
       "      <td>0</td>\n",
       "      <td>0</td>\n",
       "      <td>47</td>\n",
       "      <td>57</td>\n",
       "      <td>-5</td>\n",
       "      <td>2012240</td>\n",
       "      <td>129350</td>\n",
       "      <td>61236</td>\n",
       "      <td>17084</td>\n",
       "      <td>11488</td>\n",
       "      <td>62462</td>\n",
       "      <td>49960</td>\n",
       "      <td>33932</td>\n",
       "      <td>0</td>\n",
       "      <td>0</td>\n",
       "      <td>25</td>\n",
       "      <td>Han Chinese</td>\n",
       "      <td>M</td>\n",
       "    </tr>\n",
       "    <tr>\n",
       "      <th>4</th>\n",
       "      <td>0</td>\n",
       "      <td>0</td>\n",
       "      <td>44</td>\n",
       "      <td>53</td>\n",
       "      <td>-8</td>\n",
       "      <td>1005145</td>\n",
       "      <td>354328</td>\n",
       "      <td>37102</td>\n",
       "      <td>88881</td>\n",
       "      <td>45307</td>\n",
       "      <td>99603</td>\n",
       "      <td>44790</td>\n",
       "      <td>29749</td>\n",
       "      <td>0</td>\n",
       "      <td>0</td>\n",
       "      <td>25</td>\n",
       "      <td>Han Chinese</td>\n",
       "      <td>M</td>\n",
       "    </tr>\n",
       "  </tbody>\n",
       "</table>\n",
       "</div>"
      ],
      "text/plain": [
       "   subject ID  Video ID  Attention  Meditation  Raw    Delta   Theta  Alpha 1  \\\n",
       "0           0         0         56          43  278   301963   90612    33735   \n",
       "1           0         0         40          35  -50    73787   28083     1439   \n",
       "2           0         0         47          48  101   758353  383745   201999   \n",
       "3           0         0         47          57   -5  2012240  129350    61236   \n",
       "4           0         0         44          53   -8  1005145  354328    37102   \n",
       "\n",
       "   Alpha 2  Beta 1  Beta 2  Gamma1  Gamma2  predefined label  \\\n",
       "0    23991   27946   45097   33228    8293                 0   \n",
       "1     2240    2746    3687    5293    2740                 0   \n",
       "2    62107   36293  130536   57243   25354                 0   \n",
       "3    17084   11488   62462   49960   33932                 0   \n",
       "4    88881   45307   99603   44790   29749                 0   \n",
       "\n",
       "   Self-defined label   age    ethnicity  gender  \n",
       "0                   0    25  Han Chinese       M  \n",
       "1                   0    25  Han Chinese       M  \n",
       "2                   0    25  Han Chinese       M  \n",
       "3                   0    25  Han Chinese       M  \n",
       "4                   0    25  Han Chinese       M  "
      ]
     },
     "execution_count": 25,
     "metadata": {},
     "output_type": "execute_result"
    }
   ],
   "source": [
    "eegData.head()"
   ]
  },
  {
   "cell_type": "code",
   "execution_count": 200,
   "metadata": {
    "collapsed": false
   },
   "outputs": [],
   "source": [
    "means = eegData.groupby('subject ID').mean()"
   ]
  },
  {
   "cell_type": "code",
   "execution_count": 201,
   "metadata": {
    "collapsed": false
   },
   "outputs": [
    {
     "data": {
      "text/html": [
       "<div>\n",
       "<table border=\"1\" class=\"dataframe\">\n",
       "  <thead>\n",
       "    <tr style=\"text-align: right;\">\n",
       "      <th></th>\n",
       "      <th>Video ID</th>\n",
       "      <th>Attention</th>\n",
       "      <th>Meditation</th>\n",
       "      <th>Raw</th>\n",
       "      <th>Delta</th>\n",
       "      <th>Theta</th>\n",
       "      <th>Alpha 1</th>\n",
       "      <th>Alpha 2</th>\n",
       "      <th>Beta 1</th>\n",
       "      <th>Beta 2</th>\n",
       "      <th>Gamma1</th>\n",
       "      <th>Gamma2</th>\n",
       "      <th>predefined label</th>\n",
       "      <th>Self-defined label</th>\n",
       "      <th>age</th>\n",
       "    </tr>\n",
       "    <tr>\n",
       "      <th>subject ID</th>\n",
       "      <th></th>\n",
       "      <th></th>\n",
       "      <th></th>\n",
       "      <th></th>\n",
       "      <th></th>\n",
       "      <th></th>\n",
       "      <th></th>\n",
       "      <th></th>\n",
       "      <th></th>\n",
       "      <th></th>\n",
       "      <th></th>\n",
       "      <th></th>\n",
       "      <th></th>\n",
       "      <th></th>\n",
       "      <th></th>\n",
       "    </tr>\n",
       "  </thead>\n",
       "  <tbody>\n",
       "    <tr>\n",
       "      <th>0</th>\n",
       "      <td>4.313243</td>\n",
       "      <td>48.630452</td>\n",
       "      <td>48.571768</td>\n",
       "      <td>33.042030</td>\n",
       "      <td>684941.555908</td>\n",
       "      <td>165919.786677</td>\n",
       "      <td>35990.755749</td>\n",
       "      <td>24487.685964</td>\n",
       "      <td>20288.437748</td>\n",
       "      <td>37128.914354</td>\n",
       "      <td>38343.019826</td>\n",
       "      <td>15736.938937</td>\n",
       "      <td>0.473434</td>\n",
       "      <td>0.511499</td>\n",
       "      <td>25.0</td>\n",
       "    </tr>\n",
       "    <tr>\n",
       "      <th>1</th>\n",
       "      <td>4.461184</td>\n",
       "      <td>45.561107</td>\n",
       "      <td>57.935434</td>\n",
       "      <td>33.599539</td>\n",
       "      <td>428179.287471</td>\n",
       "      <td>125888.289777</td>\n",
       "      <td>31765.673328</td>\n",
       "      <td>22985.478094</td>\n",
       "      <td>20740.016141</td>\n",
       "      <td>13590.006918</td>\n",
       "      <td>7021.468870</td>\n",
       "      <td>4535.732513</td>\n",
       "      <td>0.489623</td>\n",
       "      <td>0.402767</td>\n",
       "      <td>24.0</td>\n",
       "    </tr>\n",
       "    <tr>\n",
       "      <th>2</th>\n",
       "      <td>4.433801</td>\n",
       "      <td>55.971184</td>\n",
       "      <td>60.865265</td>\n",
       "      <td>33.904984</td>\n",
       "      <td>39549.890966</td>\n",
       "      <td>19263.661994</td>\n",
       "      <td>7781.796729</td>\n",
       "      <td>8248.434579</td>\n",
       "      <td>7975.485202</td>\n",
       "      <td>8410.145639</td>\n",
       "      <td>4621.512461</td>\n",
       "      <td>3556.214953</td>\n",
       "      <td>0.482866</td>\n",
       "      <td>0.508567</td>\n",
       "      <td>31.0</td>\n",
       "    </tr>\n",
       "    <tr>\n",
       "      <th>3</th>\n",
       "      <td>4.432268</td>\n",
       "      <td>40.044140</td>\n",
       "      <td>45.648402</td>\n",
       "      <td>34.219178</td>\n",
       "      <td>780844.464231</td>\n",
       "      <td>221221.465753</td>\n",
       "      <td>52551.698630</td>\n",
       "      <td>34068.783105</td>\n",
       "      <td>23391.176560</td>\n",
       "      <td>24573.475647</td>\n",
       "      <td>12363.896499</td>\n",
       "      <td>5303.480213</td>\n",
       "      <td>0.384323</td>\n",
       "      <td>0.493912</td>\n",
       "      <td>28.0</td>\n",
       "    </tr>\n",
       "    <tr>\n",
       "      <th>4</th>\n",
       "      <td>4.440154</td>\n",
       "      <td>44.895753</td>\n",
       "      <td>52.888803</td>\n",
       "      <td>38.635521</td>\n",
       "      <td>363673.088031</td>\n",
       "      <td>108926.853282</td>\n",
       "      <td>25011.400772</td>\n",
       "      <td>19826.601544</td>\n",
       "      <td>17363.406950</td>\n",
       "      <td>15166.986100</td>\n",
       "      <td>11229.140541</td>\n",
       "      <td>8828.527413</td>\n",
       "      <td>0.487259</td>\n",
       "      <td>0.584556</td>\n",
       "      <td>24.0</td>\n",
       "    </tr>\n",
       "    <tr>\n",
       "      <th>5</th>\n",
       "      <td>4.315372</td>\n",
       "      <td>46.616482</td>\n",
       "      <td>54.213946</td>\n",
       "      <td>34.487322</td>\n",
       "      <td>751906.218700</td>\n",
       "      <td>241902.458003</td>\n",
       "      <td>58220.128368</td>\n",
       "      <td>39022.931854</td>\n",
       "      <td>26944.388273</td>\n",
       "      <td>23847.141838</td>\n",
       "      <td>13674.559429</td>\n",
       "      <td>4347.840729</td>\n",
       "      <td>0.473851</td>\n",
       "      <td>0.607765</td>\n",
       "      <td>24.0</td>\n",
       "    </tr>\n",
       "    <tr>\n",
       "      <th>7</th>\n",
       "      <td>4.387931</td>\n",
       "      <td>44.844044</td>\n",
       "      <td>50.167712</td>\n",
       "      <td>36.307994</td>\n",
       "      <td>568962.452978</td>\n",
       "      <td>130318.122257</td>\n",
       "      <td>30058.974138</td>\n",
       "      <td>20911.165361</td>\n",
       "      <td>18988.803292</td>\n",
       "      <td>28899.112853</td>\n",
       "      <td>21948.364420</td>\n",
       "      <td>15656.793103</td>\n",
       "      <td>0.479624</td>\n",
       "      <td>0.618339</td>\n",
       "      <td>25.0</td>\n",
       "    </tr>\n",
       "    <tr>\n",
       "      <th>8</th>\n",
       "      <td>4.393916</td>\n",
       "      <td>43.990640</td>\n",
       "      <td>50.177847</td>\n",
       "      <td>35.666147</td>\n",
       "      <td>830712.153666</td>\n",
       "      <td>236931.875195</td>\n",
       "      <td>54706.961778</td>\n",
       "      <td>38513.213729</td>\n",
       "      <td>26461.799532</td>\n",
       "      <td>24249.097504</td>\n",
       "      <td>15605.233229</td>\n",
       "      <td>9436.329173</td>\n",
       "      <td>0.482059</td>\n",
       "      <td>0.402496</td>\n",
       "      <td>25.0</td>\n",
       "    </tr>\n",
       "    <tr>\n",
       "      <th>9</th>\n",
       "      <td>4.313243</td>\n",
       "      <td>42.507534</td>\n",
       "      <td>51.110230</td>\n",
       "      <td>29.070579</td>\n",
       "      <td>870734.973830</td>\n",
       "      <td>180547.519429</td>\n",
       "      <td>51447.114195</td>\n",
       "      <td>45816.708168</td>\n",
       "      <td>20216.413957</td>\n",
       "      <td>46573.854084</td>\n",
       "      <td>28369.115781</td>\n",
       "      <td>6730.126090</td>\n",
       "      <td>0.473434</td>\n",
       "      <td>0.498810</td>\n",
       "      <td>24.0</td>\n",
       "    </tr>\n",
       "  </tbody>\n",
       "</table>\n",
       "</div>"
      ],
      "text/plain": [
       "            Video ID  Attention  Meditation        Raw          Delta  \\\n",
       "subject ID                                                              \n",
       "0           4.313243  48.630452   48.571768  33.042030  684941.555908   \n",
       "1           4.461184  45.561107   57.935434  33.599539  428179.287471   \n",
       "2           4.433801  55.971184   60.865265  33.904984   39549.890966   \n",
       "3           4.432268  40.044140   45.648402  34.219178  780844.464231   \n",
       "4           4.440154  44.895753   52.888803  38.635521  363673.088031   \n",
       "5           4.315372  46.616482   54.213946  34.487322  751906.218700   \n",
       "7           4.387931  44.844044   50.167712  36.307994  568962.452978   \n",
       "8           4.393916  43.990640   50.177847  35.666147  830712.153666   \n",
       "9           4.313243  42.507534   51.110230  29.070579  870734.973830   \n",
       "\n",
       "                    Theta       Alpha 1       Alpha 2        Beta 1  \\\n",
       "subject ID                                                            \n",
       "0           165919.786677  35990.755749  24487.685964  20288.437748   \n",
       "1           125888.289777  31765.673328  22985.478094  20740.016141   \n",
       "2            19263.661994   7781.796729   8248.434579   7975.485202   \n",
       "3           221221.465753  52551.698630  34068.783105  23391.176560   \n",
       "4           108926.853282  25011.400772  19826.601544  17363.406950   \n",
       "5           241902.458003  58220.128368  39022.931854  26944.388273   \n",
       "7           130318.122257  30058.974138  20911.165361  18988.803292   \n",
       "8           236931.875195  54706.961778  38513.213729  26461.799532   \n",
       "9           180547.519429  51447.114195  45816.708168  20216.413957   \n",
       "\n",
       "                  Beta 2        Gamma1        Gamma2  predefined label  \\\n",
       "subject ID                                                               \n",
       "0           37128.914354  38343.019826  15736.938937          0.473434   \n",
       "1           13590.006918   7021.468870   4535.732513          0.489623   \n",
       "2            8410.145639   4621.512461   3556.214953          0.482866   \n",
       "3           24573.475647  12363.896499   5303.480213          0.384323   \n",
       "4           15166.986100  11229.140541   8828.527413          0.487259   \n",
       "5           23847.141838  13674.559429   4347.840729          0.473851   \n",
       "7           28899.112853  21948.364420  15656.793103          0.479624   \n",
       "8           24249.097504  15605.233229   9436.329173          0.482059   \n",
       "9           46573.854084  28369.115781   6730.126090          0.473434   \n",
       "\n",
       "            Self-defined label   age  \n",
       "subject ID                            \n",
       "0                     0.511499  25.0  \n",
       "1                     0.402767  24.0  \n",
       "2                     0.508567  31.0  \n",
       "3                     0.493912  28.0  \n",
       "4                     0.584556  24.0  \n",
       "5                     0.607765  24.0  \n",
       "7                     0.618339  25.0  \n",
       "8                     0.402496  25.0  \n",
       "9                     0.498810  24.0  "
      ]
     },
     "execution_count": 201,
     "metadata": {},
     "output_type": "execute_result"
    }
   ],
   "source": [
    "means"
   ]
  },
  {
   "cell_type": "markdown",
   "metadata": {},
   "source": [
    "## Visualizing the Bar Charts of Variable Means by Subject ID ##"
   ]
  },
  {
   "cell_type": "code",
   "execution_count": 202,
   "metadata": {
    "collapsed": false
   },
   "outputs": [
    {
     "data": {
      "text/plain": [
       "<matplotlib.axes._subplots.AxesSubplot at 0x2c81b8ceb38>"
      ]
     },
     "execution_count": 202,
     "metadata": {},
     "output_type": "execute_result"
    },
    {
     "data": {
      "image/png": "[encoded data removed]",
      "text/plain": [
       "<matplotlib.figure.Figure at 0x2c81b5e8da0>"
      ]
     },
     "metadata": {},
     "output_type": "display_data"
    }
   ],
   "source": [
    "fig, axs = plt.subplots(1,5)\n",
    "#fig = plt.figure(figsize = (10,20))\n",
    "fig.tight_layout()\n",
    "\n",
    "means['Attention'].plot.bar(by='subject ID',title = 'Attention',ax=axs[0], figsize=(20,5))\n",
    "means['Meditation'].plot.bar(by='subject ID',title = 'Meditation',ax=axs[1], figsize=(20,5))\n",
    "means['Raw'].plot.bar(by='subject ID',title = 'Raw', ax=axs[2], figsize=(20,5))\n",
    "means['Delta'].plot.bar(by='subject ID', title= 'Delta', ax=axs[3], figsize=(20,5))\n",
    "means['Theta'].plot.bar(by='subject ID', title = 'Theta', ax=axs[4], figsize=(20,5))"
   ]
  },
  {
   "cell_type": "code",
   "execution_count": 203,
   "metadata": {
    "collapsed": false
   },
   "outputs": [
    {
     "data": {
      "text/plain": [
       "<matplotlib.axes._subplots.AxesSubplot at 0x2c81bd207f0>"
      ]
     },
     "execution_count": 203,
     "metadata": {},
     "output_type": "execute_result"
    },
    {
     "data": {
      "image/png": "[encoded data removed]",
      "text/plain": [
       "<matplotlib.figure.Figure at 0x2c81bcd4668>"
      ]
     },
     "metadata": {},
     "output_type": "display_data"
    }
   ],
   "source": [
    "fig, axs = plt.subplots(1,4)\n",
    "#fig = plt.figure(figsize = (10,20))\n",
    "fig.tight_layout()\n",
    "\n",
    "means['Alpha 1'].plot.bar(by='subject ID',title = 'Alpha 1',ax=axs[0], figsize=(20,5))\n",
    "means['Alpha 2'].plot.bar(by='subject ID',title = 'Alpha 2',ax=axs[1], figsize=(20,5))\n",
    "means['Beta 1'].plot.bar(by='subject ID',title = 'Beta 1', ax=axs[2], figsize=(20,5))\n",
    "means['Beta 2'].plot.bar(by='subject ID', title= 'Beta 2', ax=axs[3], figsize=(20,5))\n"
   ]
  },
  {
   "cell_type": "code",
   "execution_count": 204,
   "metadata": {
    "collapsed": false
   },
   "outputs": [
    {
     "data": {
      "text/plain": [
       "<matplotlib.axes._subplots.AxesSubplot at 0x2c81c11deb8>"
      ]
     },
     "execution_count": 204,
     "metadata": {},
     "output_type": "execute_result"
    },
    {
     "data": {
      "image/png": "[encoded data removed]",
      "text/plain": [
       "<matplotlib.figure.Figure at 0x2c81bd9c6d8>"
      ]
     },
     "metadata": {},
     "output_type": "display_data"
    }
   ],
   "source": [
    "fig, axs = plt.subplots(1,4)\n",
    "#fig = plt.figure(figsize = (10,20))\n",
    "fig.tight_layout()\n",
    "\n",
    "means['Gamma1'].plot.bar(by='subject ID',title = 'Gamma 1',ax=axs[0], figsize=(20,5))\n",
    "means['Gamma2'].plot.bar(by='subject ID',title = 'Gamma 2',ax=axs[1], figsize=(20,5))\n",
    "means['predefined label'].plot.bar(by='subject ID', title= 'predefined label', ax=axs[2], figsize=(20,5))\n",
    "means['Self-defined label'].plot.bar(by='subject ID', title = 'Self-defined label', ax=axs[3], figsize=(20,5))"
   ]
  },
  {
   "cell_type": "markdown",
   "metadata": {},
   "source": [
    "## Visualizing the Distributions of each variable in the dataset using histograms ##"
   ]
  },
  {
   "cell_type": "code",
   "execution_count": 205,
   "metadata": {
    "collapsed": false
   },
   "outputs": [
    {
     "data": {
      "text/plain": [
       "[<matplotlib.axis.XTick at 0x2c8146a2b38>,\n",
       " <matplotlib.axis.XTick at 0x2c816b21b38>,\n",
       " <matplotlib.axis.XTick at 0x2c8174dd320>]"
      ]
     },
     "execution_count": 205,
     "metadata": {},
     "output_type": "execute_result"
    },
    {
     "data": {
      "image/png": "[encoded data removed]",
      "text/plain": [
       "<matplotlib.figure.Figure at 0x2c817463f98>"
      ]
     },
     "metadata": {},
     "output_type": "display_data"
    }
   ],
   "source": [
    "fig, axs = plt.subplots(1,5)\n",
    "#fig = plt.figure(figsize = (10,20))\n",
    "fig.tight_layout()\n",
    "\n",
    "ax1 = eegData['Attention'].plot.hist(color='red', ax=axs[0], title='Attention', figsize=(20,5))\n",
    "ax2 = eegData['Meditation'].plot.hist(color='red', ax=axs[1], title='Meditation', figsize=(20,5))\n",
    "ax3 = eegData['Raw'].plot.hist(color='red', ax=axs[2], title='Raw', figsize=(20,5))\n",
    "ax3.xaxis.set_ticks(np.arange(-2000,2000,1000))\n",
    "ax4 = eegData['Delta'].plot.hist(color='red', ax=axs[3], title='Delta', figsize=(20,5))\n",
    "ax4.xaxis.set_ticks(np.arange(0,4000000,1500000))\n",
    "ax5 = eegData['Theta'].plot.hist(color='red', ax=axs[4], title='Theta', figsize=(20,5))\n",
    "ax5.xaxis.set_ticks(np.arange(0,2600000,1000000))"
   ]
  },
  {
   "cell_type": "code",
   "execution_count": 206,
   "metadata": {
    "collapsed": false
   },
   "outputs": [
    {
     "data": {
      "text/plain": [
       "[<matplotlib.axis.XTick at 0x2c81276f940>,\n",
       " <matplotlib.axis.XTick at 0x2c81245d6d8>]"
      ]
     },
     "execution_count": 206,
     "metadata": {},
     "output_type": "execute_result"
    },
    {
     "data": {
      "image/png": "[encoded data removed]",
      "text/plain": [
       "<matplotlib.figure.Figure at 0x2c819360ba8>"
      ]
     },
     "metadata": {},
     "output_type": "display_data"
    }
   ],
   "source": [
    "fig, axs = plt.subplots(1,4)\n",
    "fig.tight_layout()\n",
    "ax6 = eegData['Alpha 1'].plot.hist(color='red', ax=axs[0], title='Alpha 1', figsize=(20,5))\n",
    "ax6.xaxis.set_ticks(np.arange(0,1500000,1000000))\n",
    "ax7 = eegData['Alpha 2'].plot.hist(color='red', ax=axs[1], title='Alpha 2', figsize=(20,5))\n",
    "ax7.xaxis.set_ticks(np.arange(0,1500000,500000))\n",
    "ax8 = eegData['Beta 1'].plot.hist(color='red', ax=axs[2], title='Beta 1', figsize=(20,5))\n",
    "ax8.xaxis.set_ticks(np.arange(0,1000000,500000))\n",
    "ax9 = eegData['Beta 2'].plot.hist(color='red', ax=axs[3], title='Beta 2', figsize=(20,5))\n",
    "ax9.xaxis.set_ticks(np.arange(0,1000000,500000))\n"
   ]
  },
  {
   "cell_type": "code",
   "execution_count": 207,
   "metadata": {
    "collapsed": false
   },
   "outputs": [
    {
     "data": {
      "image/png": "[encoded data removed]",
      "text/plain": [
       "<matplotlib.figure.Figure at 0x2c81b97d908>"
      ]
     },
     "metadata": {},
     "output_type": "display_data"
    }
   ],
   "source": [
    "fig, axs = plt.subplots(1,4)\n",
    "fig.tight_layout()\n",
    "ax10 = eegData['Gamma1'].plot.hist(color='red', ax=axs[0], title='Gamma1', figsize=(20,5))\n",
    "ax10.xaxis.set_ticks(np.arange(0,700000,1000000))\n",
    "ax11 = eegData['Gamma2'].plot.hist(color='red', ax=axs[1], title='Gamma2', figsize=(20,5))\n",
    "ax11.xaxis.set_ticks(np.arange(0,300000,1000000))\n",
    "ax12 = eegData['predefined label'].plot.hist(color='red', ax=axs[2], title='predefined label', figsize=(20,5))\n",
    "ax13 = eegData['Self-defined label'].plot.hist(color='red', ax=axs[3], title='Self-defined label', figsize=(20,5))"
   ]
  },
  {
   "cell_type": "code",
   "execution_count": null,
   "metadata": {
    "collapsed": false
   },
   "outputs": [],
   "source": []
  },
  {
   "cell_type": "markdown",
   "metadata": {},
   "source": [
    "## Visualizing each variable distribution using boxplots ##"
   ]
  },
  {
   "cell_type": "code",
   "execution_count": 208,
   "metadata": {
    "collapsed": false
   },
   "outputs": [
    {
     "ename": "IndexError",
     "evalue": "index 3 is out of bounds for axis 0 with size 3",
     "output_type": "error",
     "traceback": [
      "\u001b[1;31m---------------------------------------------------------------------------\u001b[0m",
      "\u001b[1;31mIndexError\u001b[0m                                Traceback (most recent call last)",
      "\u001b[1;32m<ipython-input-208-251d1d0988a6>\u001b[0m in \u001b[0;36m<module>\u001b[1;34m()\u001b[0m\n\u001b[0;32m      7\u001b[0m \u001b[0meegData\u001b[0m\u001b[1;33m[\u001b[0m\u001b[1;34m'Theta'\u001b[0m\u001b[1;33m]\u001b[0m\u001b[1;33m.\u001b[0m\u001b[0mplot\u001b[0m\u001b[1;33m.\u001b[0m\u001b[0mbox\u001b[0m\u001b[1;33m(\u001b[0m \u001b[0max\u001b[0m\u001b[1;33m=\u001b[0m\u001b[0maxs\u001b[0m\u001b[1;33m[\u001b[0m\u001b[1;36m2\u001b[0m\u001b[1;33m,\u001b[0m\u001b[1;36m0\u001b[0m\u001b[1;33m]\u001b[0m\u001b[1;33m,\u001b[0m \u001b[0mtitle\u001b[0m\u001b[1;33m=\u001b[0m\u001b[1;34m'Theta'\u001b[0m\u001b[1;33m,\u001b[0m \u001b[0mfigsize\u001b[0m\u001b[1;33m=\u001b[0m\u001b[1;33m(\u001b[0m\u001b[1;36m20\u001b[0m\u001b[1;33m,\u001b[0m\u001b[1;36m10\u001b[0m\u001b[1;33m)\u001b[0m\u001b[1;33m)\u001b[0m\u001b[1;33m\u001b[0m\u001b[0m\n\u001b[0;32m      8\u001b[0m \u001b[0meegData\u001b[0m\u001b[1;33m[\u001b[0m\u001b[1;34m'Alpha 1'\u001b[0m\u001b[1;33m]\u001b[0m\u001b[1;33m.\u001b[0m\u001b[0mplot\u001b[0m\u001b[1;33m.\u001b[0m\u001b[0mbox\u001b[0m\u001b[1;33m(\u001b[0m \u001b[0max\u001b[0m\u001b[1;33m=\u001b[0m\u001b[0maxs\u001b[0m\u001b[1;33m[\u001b[0m\u001b[1;36m2\u001b[0m\u001b[1;33m,\u001b[0m\u001b[1;36m1\u001b[0m\u001b[1;33m]\u001b[0m\u001b[1;33m,\u001b[0m \u001b[0mtitle\u001b[0m\u001b[1;33m=\u001b[0m\u001b[1;34m'Alpha 1'\u001b[0m\u001b[1;33m,\u001b[0m \u001b[0mfigsize\u001b[0m\u001b[1;33m=\u001b[0m\u001b[1;33m(\u001b[0m\u001b[1;36m20\u001b[0m\u001b[1;33m,\u001b[0m\u001b[1;36m10\u001b[0m\u001b[1;33m)\u001b[0m\u001b[1;33m)\u001b[0m\u001b[1;33m\u001b[0m\u001b[0m\n\u001b[1;32m----> 9\u001b[1;33m \u001b[0meegData\u001b[0m\u001b[1;33m[\u001b[0m\u001b[1;34m'Alpha 2'\u001b[0m\u001b[1;33m]\u001b[0m\u001b[1;33m.\u001b[0m\u001b[0mplot\u001b[0m\u001b[1;33m.\u001b[0m\u001b[0mbox\u001b[0m\u001b[1;33m(\u001b[0m \u001b[0max\u001b[0m\u001b[1;33m=\u001b[0m\u001b[0maxs\u001b[0m\u001b[1;33m[\u001b[0m\u001b[1;36m3\u001b[0m\u001b[1;33m,\u001b[0m\u001b[1;36m1\u001b[0m\u001b[1;33m]\u001b[0m\u001b[1;33m,\u001b[0m \u001b[0mtitle\u001b[0m\u001b[1;33m=\u001b[0m\u001b[1;34m'Alpha 2'\u001b[0m\u001b[1;33m,\u001b[0m \u001b[0mfigsize\u001b[0m\u001b[1;33m=\u001b[0m\u001b[1;33m(\u001b[0m\u001b[1;36m20\u001b[0m\u001b[1;33m,\u001b[0m\u001b[1;36m10\u001b[0m\u001b[1;33m)\u001b[0m\u001b[1;33m)\u001b[0m\u001b[1;33m\u001b[0m\u001b[0m\n\u001b[0m",
      "\u001b[1;31mIndexError\u001b[0m: index 3 is out of bounds for axis 0 with size 3"
     ]
    },
    {
     "data": {
      "image/png": "[encoded data removed]",
      "text/plain": [
       "<matplotlib.figure.Figure at 0x2c81ba130f0>"
      ]
     },
     "metadata": {},
     "output_type": "display_data"
    }
   ],
   "source": [
    "fig, axs = plt.subplots(3,2)\n",
    "#fig.tight_layout4\n",
    "eegData['Attention'].plot.box(ax=axs[0,0], title='Attention', figsize=(20,10))\n",
    "eegData['Meditation'].plot.box( ax=axs[0,1], title='Meditation', figsize=(20,10))\n",
    "eegData['Raw'].plot.box( ax=axs[1,0], title='Raw', figsize=(20,10))\n",
    "eegData['Delta'].plot.box( ax=axs[1,1], title='Delta', figsize=(20,10))\n",
    "eegData['Theta'].plot.box( ax=axs[2,0], title='Theta', figsize=(20,10))\n",
    "eegData['Alpha 1'].plot.box( ax=axs[2,1], title='Alpha 1', figsize=(20,10))\n",
    "eegData['Alpha 2'].plot.box( ax=axs[3,1], title='Alpha 2', figsize=(20,10))"
   ]
  },
  {
   "cell_type": "code",
   "execution_count": null,
   "metadata": {
    "collapsed": false
   },
   "outputs": [],
   "source": [
    "fig, axs = plt.subplots(3,2)\n",
    "fig.tight_layout()\n",
    "eegData['Beta 1'].plot.box( ax=axs[0,0], title='Beta 1', figsize=(10,10))\n",
    "eegData['Beta 2'].plot.box( ax=axs[0,1], title='Beta 2', figsize=(10,10))\n",
    "eegData['Gamma1'].plot.box( ax=axs[1,0], title='Gamma1', figsize=(10,10))\n",
    "eegData['Gamma2'].plot.box( ax=axs[1,1], title='Gamma2', figsize=(10,10))\n",
    "eegData['predefined label'].plot.box( ax=axs[2,0], title='predefined label', figsize=(10,10))\n",
    "eegData['Self-defined label'].plot.box( ax=axs[2,1], title='Self-defined label', figsize=(10,10))"
   ]
  },
  {
   "cell_type": "code",
   "execution_count": null,
   "metadata": {
    "collapsed": true
   },
   "outputs": [],
   "source": [
    "mergedData = os.path.join(path, 'EEG_merged.csv')"
   ]
  },
  {
   "cell_type": "code",
   "execution_count": null,
   "metadata": {
    "collapsed": true
   },
   "outputs": [],
   "source": [
    "mergedData = pd.read_csv(mergedData)"
   ]
  },
  {
   "cell_type": "code",
   "execution_count": null,
   "metadata": {
    "collapsed": false
   },
   "outputs": [],
   "source": [
    "mergedData.head()"
   ]
  },
  {
   "cell_type": "code",
   "execution_count": null,
   "metadata": {
    "collapsed": false
   },
   "outputs": [],
   "source": [
    "mergedData.shape"
   ]
  },
  {
   "cell_type": "code",
   "execution_count": null,
   "metadata": {
    "collapsed": true
   },
   "outputs": [],
   "source": []
  }
 ],
 "metadata": {
  "kernelspec": {
   "display_name": "Python [py35]",
   "language": "python",
   "name": "Python [py35]"
  },
  "language_info": {
   "codemirror_mode": {
    "name": "ipython",
    "version": 3
   },
   "file_extension": ".py",
   "mimetype": "text/x-python",
   "name": "python",
   "nbconvert_exporter": "python",
   "pygments_lexer": "ipython3",
   "version": "3.5.2"
  }
 },
 "nbformat": 4,
 "nbformat_minor": 0
}
